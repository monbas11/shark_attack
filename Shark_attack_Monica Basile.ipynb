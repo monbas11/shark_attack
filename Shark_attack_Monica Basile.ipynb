{
 "cells": [
  {
   "cell_type": "code",
   "execution_count": null,
   "id": "fda565c6",
   "metadata": {},
   "outputs": [],
   "source": [
    "import pandas as pd\n",
    "\n",
    "df = pd.read_csv(r\"C:\\Users\\basil\\OneDrive\\Escritorio\\Ironhack\\projects\\1st project\\attacks.csv\", encoding='latin-1')\n",
    "df1 = pd.read_csv(r\"C:\\Users\\basil\\OneDrive\\Escritorio\\Ironhack\\projects\\1st project\\list_coor_australia.csv\", encoding='latin-1')"
   ]
  },
  {
   "cell_type": "code",
   "execution_count": null,
   "id": "6193cc34",
   "metadata": {},
   "outputs": [],
   "source": [
    "for data in [df]: \n",
    "    display(df.info()) # quick summary of the data\n",
    "    display(df.head()) # first rows\n",
    "    display(df.tail()) # last rows\n",
    "\n",
    "#df seems to have a lot of non-null values"
   ]
  },
  {
   "cell_type": "code",
   "execution_count": null,
   "id": "7b4cdf7d",
   "metadata": {},
   "outputs": [],
   "source": [
    "for data in [df1]: \n",
    "    display(df1.info()) # quick summary of the data\n",
    "    display(df1.head()) # first rows\n",
    "    display(df1.tail()) # last rows\n",
    "\n",
    "#df1 seems to have a lot of non-null values"
   ]
  },
  {
   "cell_type": "code",
   "execution_count": null,
   "id": "66b9c443",
   "metadata": {
    "scrolled": true
   },
   "outputs": [],
   "source": [
    "#df seems to have a lot of non-null values. check only non-null values\n",
    "df[df.isna().sum(axis=1)==df.shape[1]]"
   ]
  },
  {
   "cell_type": "code",
   "execution_count": null,
   "id": "29a525af",
   "metadata": {},
   "outputs": [],
   "source": [
    "df.dropna(how=\"all\",inplace=True) \n",
    "df.info()"
   ]
  },
  {
   "cell_type": "code",
   "execution_count": null,
   "id": "36d08380",
   "metadata": {},
   "outputs": [],
   "source": [
    "display(df.head())\n",
    "display(df.tail())"
   ]
  },
  {
   "cell_type": "code",
   "execution_count": null,
   "id": "1f8583a1",
   "metadata": {},
   "outputs": [],
   "source": [
    "df.isna().sum()"
   ]
  },
  {
   "cell_type": "code",
   "execution_count": null,
   "id": "478666c1",
   "metadata": {},
   "outputs": [],
   "source": [
    "# checking how many entirely duplicated rows are there\n",
    "df.duplicated().sum() "
   ]
  },
  {
   "cell_type": "code",
   "execution_count": null,
   "id": "b8f03a4c",
   "metadata": {},
   "outputs": [],
   "source": [
    "df[df.duplicated()]"
   ]
  },
  {
   "cell_type": "code",
   "execution_count": null,
   "id": "454be781",
   "metadata": {},
   "outputs": [],
   "source": [
    "df.drop_duplicates(ignore_index=True,inplace=True) # droping the duplicates and reseting the indexes again\n",
    "df"
   ]
  },
  {
   "cell_type": "code",
   "execution_count": null,
   "id": "d6018979",
   "metadata": {},
   "outputs": [],
   "source": [
    "df.isna().sum()"
   ]
  },
  {
   "cell_type": "code",
   "execution_count": null,
   "id": "e264201f",
   "metadata": {},
   "outputs": [],
   "source": [
    "df['Unnamed: 22'].value_counts()"
   ]
  },
  {
   "cell_type": "code",
   "execution_count": null,
   "id": "3223294c",
   "metadata": {},
   "outputs": [],
   "source": [
    "df['Unnamed: 23'].value_counts()"
   ]
  },
  {
   "cell_type": "code",
   "execution_count": null,
   "id": "7d6dba8d",
   "metadata": {},
   "outputs": [],
   "source": [
    "df2 = df.copy()"
   ]
  },
  {
   "cell_type": "code",
   "execution_count": null,
   "id": "f8cd8ee4",
   "metadata": {},
   "outputs": [],
   "source": [
    "# drop the nan using Date as base\n",
    "df2 = df2[~df2['Date'].isna()]\n",
    "df2.isna().sum()"
   ]
  },
  {
   "cell_type": "code",
   "execution_count": null,
   "id": "724e2c75",
   "metadata": {},
   "outputs": [],
   "source": [
    "df2"
   ]
  },
  {
   "cell_type": "code",
   "execution_count": null,
   "id": "62b2f226",
   "metadata": {},
   "outputs": [],
   "source": [
    "df2.drop(['Unnamed: 22', 'Unnamed: 23'], axis=1, inplace=True)\n",
    "df2.drop(['Case Number.1', 'Case Number.2'], axis=1, inplace=True)\n",
    "df2"
   ]
  },
  {
   "cell_type": "code",
   "execution_count": null,
   "id": "116c2f95",
   "metadata": {},
   "outputs": [],
   "source": [
    "df2 = df2.rename(columns={'Fatal (Y/N)':'Fatal'})"
   ]
  },
  {
   "cell_type": "code",
   "execution_count": null,
   "id": "ebcbe8c5",
   "metadata": {},
   "outputs": [],
   "source": [
    "df2['Type'].value_counts()"
   ]
  },
  {
   "cell_type": "code",
   "execution_count": null,
   "id": "2825eb3b",
   "metadata": {},
   "outputs": [],
   "source": [
    "df2['Type'].value_counts(dropna=False)\n",
    "df2['Type'].replace({\"Boat\": \"Boating\", \"Boatomg\" : \"Boating\" },inplace=True)\n",
    "df2['Type'] = df2['Type'].fillna('Unprovoked')\n",
    "df2['Type'].value_counts()"
   ]
  },
  {
   "cell_type": "code",
   "execution_count": null,
   "id": "94e587f1",
   "metadata": {},
   "outputs": [],
   "source": [
    "df2['Country'].value_counts(dropna=False)"
   ]
  },
  {
   "cell_type": "code",
   "execution_count": null,
   "id": "a7ba8fa5",
   "metadata": {},
   "outputs": [],
   "source": [
    "df2['Area'].value_counts(dropna = False)"
   ]
  },
  {
   "cell_type": "code",
   "execution_count": null,
   "id": "94e7551d",
   "metadata": {},
   "outputs": [],
   "source": [
    "df2['Activity'].value_counts(dropna = False)"
   ]
  },
  {
   "cell_type": "code",
   "execution_count": null,
   "id": "2a175edb",
   "metadata": {},
   "outputs": [],
   "source": [
    "df2['Fatal'].value_counts(dropna = False)"
   ]
  },
  {
   "cell_type": "code",
   "execution_count": null,
   "id": "5552606c",
   "metadata": {},
   "outputs": [],
   "source": [
    "df2['Fatal'].replace({\" N\": \"N\", \"M\" : \"N\", \"2017\" : \"UNKNOWN\", \"N\": \"N\", \"y\" : \"Y\", \"N \" : \"N\" },inplace=True)\n",
    "df2['Fatal'] = df2['Fatal'].fillna('UNKNOWN')\n",
    "df2['Fatal'].value_counts()"
   ]
  },
  {
   "cell_type": "code",
   "execution_count": null,
   "id": "f9beec12",
   "metadata": {},
   "outputs": [],
   "source": [
    "df2['Fatal'].unique()"
   ]
  },
  {
   "cell_type": "code",
   "execution_count": null,
   "id": "dd963915",
   "metadata": {},
   "outputs": [],
   "source": [
    "df2 = df2.rename(columns={'Sex ':'Sex'})\n",
    "df2.columns"
   ]
  },
  {
   "cell_type": "code",
   "execution_count": null,
   "id": "324e4ad7",
   "metadata": {},
   "outputs": [],
   "source": [
    "df2['Sex'].value_counts(dropna = False)"
   ]
  },
  {
   "cell_type": "code",
   "execution_count": null,
   "id": "1ed9aac2",
   "metadata": {},
   "outputs": [],
   "source": [
    "df2['Sex'].replace({\"M \": \"M\", \"N\" : \"M\", \"lli\" : \"M\", \".\": \"M\" },inplace=True)\n",
    "df2['Sex'] = df2['Sex'].fillna('other')\n",
    "df2['Sex'].value_counts()"
   ]
  },
  {
   "cell_type": "code",
   "execution_count": null,
   "id": "f5851065",
   "metadata": {},
   "outputs": [],
   "source": [
    "df2['Age'].value_counts(dropna = False)\n"
   ]
  },
  {
   "cell_type": "code",
   "execution_count": null,
   "id": "85a88475",
   "metadata": {},
   "outputs": [],
   "source": [
    "# Remove non-numeric values and convert to numeric data\n",
    "df2['Age'] = pd.to_numeric(df2['Age'], errors='coerce')\n",
    "\n",
    "# Fill missing values with the median\n",
    "df2['Age'] = df2['Age'].fillna(df2['Age'].median())\n",
    "\n",
    "# Convert the column to integers\n",
    "df2['Age'] = df2['Age'].astype(int)\n",
    "\n",
    "df2['Age'].unique()\n"
   ]
  },
  {
   "cell_type": "code",
   "execution_count": null,
   "id": "b66c7c13",
   "metadata": {},
   "outputs": [],
   "source": [
    "df2.dtypes"
   ]
  },
  {
   "cell_type": "code",
   "execution_count": null,
   "id": "0aa3a899",
   "metadata": {},
   "outputs": [],
   "source": [
    "df2['Year'] = df2['Year'].astype(str)\n",
    "df2['Year'] = df2['Year'].str.extract(r'^(\\d+)')\n",
    "median_value = df2['Year'].median()\n",
    "df2['Year'].fillna(median_value, inplace=True)"
   ]
  },
  {
   "cell_type": "code",
   "execution_count": null,
   "id": "d8644aad",
   "metadata": {},
   "outputs": [],
   "source": [
    "df2['Year'].value_counts(dropna = False)\n",
    "df2['Year'] = df2['Year'].replace({'500': '1500', '77': '1770', '5': '1500'})\n",
    "df2['Year'] = df2['Year'].astype(int)\n",
    "\n"
   ]
  },
  {
   "cell_type": "code",
   "execution_count": null,
   "id": "0e72012f",
   "metadata": {},
   "outputs": [],
   "source": [
    "df2['Year'].unique()"
   ]
  },
  {
   "cell_type": "code",
   "execution_count": null,
   "id": "c8803374",
   "metadata": {},
   "outputs": [],
   "source": [
    "# combine the info provided by the column Date and Year \n",
    "df3 = df2.copy()\n",
    "df3['Year'].replace({0: 'Before 1900'}, inplace=True)\n",
    "df3"
   ]
  },
  {
   "cell_type": "code",
   "execution_count": null,
   "id": "1d1f0025",
   "metadata": {},
   "outputs": [],
   "source": [
    "df3['Fatal'].unique()"
   ]
  },
  {
   "cell_type": "code",
   "execution_count": null,
   "id": "f816219e",
   "metadata": {},
   "outputs": [],
   "source": [
    "df3['Year'].value_counts()"
   ]
  },
  {
   "cell_type": "code",
   "execution_count": null,
   "id": "4ad2f8d6",
   "metadata": {},
   "outputs": [],
   "source": [
    "df3['Year'].unique()"
   ]
  },
  {
   "cell_type": "code",
   "execution_count": null,
   "id": "873e23d7",
   "metadata": {},
   "outputs": [],
   "source": [
    "df3['Time'].value_counts().head()"
   ]
  },
  {
   "cell_type": "code",
   "execution_count": null,
   "id": "17b6ad43",
   "metadata": {},
   "outputs": [],
   "source": [
    "replacements = {\n",
    "    'FATAL': r'^.*FATAL.*$',\n",
    "    'Survived': r'^.*Survived.*$',\n",
    "    'Foot bitten': r'^.*Foot bitten.*$',\n",
    "    'No injury': r'^.*No injury.*$',\n",
    "    'Leg bitten': r'\\bLeg\\b',\n",
    "    'Ankle bitten': r'\\bAnkle\\b',\n",
    "    'Wrist bitten': r'\\bWrist\\b',\n",
    "    'Hand bitten': r'\\bHand\\b'\n",
    "    # Add other replacements for body parts as needed\n",
    "}\n",
    "# Iterate through the replacements and apply them to the DataFrame\n",
    "for replacement, pattern in replacements.items():\n",
    "    df3['Injury'] = df3['Injury'].replace(to_replace=pattern, value=replacement, regex=True)\n",
    "# Display the modified DataFrame\n",
    "print(df3['Injury'].value_counts())\n",
    "threshold = 10\n",
    "activity_counts = df3['Injury'].value_counts()\n",
    "rare_activities = activity_counts[activity_counts < threshold].index.tolist()\n",
    "df3['Injury'].replace(rare_activities, 'Other', inplace=True)\n",
    "df3['Injury'].value_counts()"
   ]
  },
  {
   "cell_type": "code",
   "execution_count": null,
   "id": "b4d6744a",
   "metadata": {
    "scrolled": false
   },
   "outputs": [],
   "source": [
    "replace_dict = {\n",
    "    'Hand bitten bitten': 'Upper extremity',\n",
    "    'Arm bitten': 'Upper extremity',\n",
    "    'Left arm bitten': 'Upper extremity',\n",
    "    'Lacerations to right hand': 'Upper extremity',\n",
    "    # Agrega las demás categorías de heridas de mano y brazos que desees combinar\n",
    "    'Foot bitten': 'Lower extremity',\n",
    "    'Left foot bitten': 'Lower extremity',\n",
    "    'Right foot bitten': 'Lower extremity',\n",
    "    'Ankle bitten bitten': 'Lower extremity',\n",
    "    'Lacerations to right foot': 'Lower extremity',\n",
    "    'Lacerations to left foot': 'Lower extremity',\n",
    "    'Right calf bitten': 'Lower extremity',\n",
    "    'Heel bitten': 'Lower extremity',\n",
    "    'Left leg bitten': 'Lower extremity',\n",
    "    'Leg bitten injured': 'Lower extremity',\n",
    "    'Foot severed': 'Lower extremity',\n",
    "    'Leg bitten lacerated': 'Lower extremity',\n",
    "    'Right thigh bitten': 'Lower extremity',\n",
    "    'Left calf bitten': 'Lower extremity',\n",
    "    'Lacerations to leg': 'Lower extremity',\n",
    "    'Legs bitten': 'Lower extremity',\n",
    "    'Laceration to left foot': 'Lower extremity',\n",
    "    'Lacerations to right leg': 'Lower extremity',\n",
    "    'Lacerations to lower leg': 'Lower extremity',\n",
    "    'Thigh lacerated': 'Lower extremity',\n",
    "    'Leg bitten': 'Lower extremity',\n",
    "    'Leg severed': 'Lower extremity',\n",
    "    'Right leg bitten': 'Lower extremity',\n",
    "    'Foot': 'Lower extremity',\n",
    "    'Thigh bitten': 'Lower extremity',\n",
    "    'Calf bitten': 'Lower extremity',\n",
    "    'Minor injuries': 'Minor injury',\n",
    "    'Lower etremity' : 'Lower extremity',\n",
    "    'Lacerations to foot' : 'Lower extremity',\n",
    "    'Lacerations to foot' : 'Lower extremity',\n",
    "    'Leg bitten severed' : 'Lower extremity',\n",
    "    'Foot lacerated' : 'Lower extremity',\n",
    "    'Leg bitten bitten' : 'Lower extremity'\n",
    "    # Agrega las demás categorías de heridas de pies y piernas que desees combinar\n",
    "}\n",
    "\n",
    "df3['Injury'] = df3['Injury'].replace(replace_dict)\n",
    "df3['Injury'].value_counts()"
   ]
  },
  {
   "cell_type": "code",
   "execution_count": null,
   "id": "7112c93e",
   "metadata": {},
   "outputs": [],
   "source": [
    "replacements = {\n",
    "    'Surfing': r'^.*Surfing.*$',\n",
    "    'Swimming': r'^.*Swimming.*$',\n",
    "    'Fishing': r'^.*Fishing.*$',\n",
    "    'Bathing': r'^.*Bathing.*$',\n",
    "    'Diving': r'^.*Diving.*$',\n",
    "    'Wading': r'^.*Wading.*$',\n",
    "    'Standing': r'^.*Standing.*$',\n",
    "    'Snorkeling': r'^.*Snorkeling.*$',\n",
    "    'Swimming': r'^.*Swimming.*$',\n",
    "    'Kayaking': r'^.*Kayaking.*$',\n",
    "    'Fell overboard': r'^.*Fell overboard.*$',\n",
    "    'Walking': r'^.*Walking.*$',\n",
    "    'Floating': r'^.*Floating.*$',\n",
    "    # Add other replacements for body parts as needed\n",
    "}\n",
    "# Iterate through the replacements and apply them to the DataFrame\n",
    "for replacement, pattern in replacements.items():\n",
    "    df3['Activity'] = df3['Activity'].replace(to_replace=pattern, value=replacement, regex=True)\n",
    "# Display the modified DataFrame\n",
    "df3['Activity'].value_counts()"
   ]
  },
  {
   "cell_type": "code",
   "execution_count": null,
   "id": "47c9d8c7",
   "metadata": {},
   "outputs": [],
   "source": [
    "category_mapping = {\n",
    "    'Surfing': 'Water Sports',\n",
    "    'Swimming': 'Water Sports',\n",
    "    'Fishing': 'Water Activities',\n",
    "    'Diving': 'Water Activities',\n",
    "    'Wading': 'Water Activities',\n",
    "    'Standing': 'Stationary',\n",
    "    'Boarding': 'Water Activities',\n",
    "    'Snorkeling': 'Water Activities',\n",
    "    'Fell overboard': 'Accidents',\n",
    "    'Boating': 'Water Activities',\n",
    "    'Treading water': 'Water Activities',\n",
    "    'Free diving': 'Water Activities',\n",
    "    'Walking': 'Land Activities',\n",
    "    'Surf-skiing': 'Water Sports',\n",
    "    'Rowing': 'Water Activities',\n",
    "    'Other': 'Other'\n",
    "}\n",
    "# Reemplazar categorías en el DataFrame usando un diccionario\n",
    "df3['Activity'] = df3['Activity'].map(category_mapping)\n",
    "# Contar el número en cada categoría\n",
    "activity_counts = df3['Activity'].value_counts()\n",
    "print(activity_counts)"
   ]
  },
  {
   "cell_type": "code",
   "execution_count": null,
   "id": "c2124b61",
   "metadata": {},
   "outputs": [],
   "source": [
    "df3= df3.rename(columns={'Species ':'Species'})\n",
    "df3.columns"
   ]
  },
  {
   "cell_type": "code",
   "execution_count": null,
   "id": "c55a7a61",
   "metadata": {
    "scrolled": false
   },
   "outputs": [],
   "source": [
    "df3['Species'].value_counts()"
   ]
  },
  {
   "cell_type": "code",
   "execution_count": null,
   "id": "d803a0a4",
   "metadata": {},
   "outputs": [],
   "source": [
    "# Reemplazar valores nulos con 'Unknown'\n",
    "df3['Species'].fillna('Unknown', inplace=True)\n",
    "\n",
    "# Convertir todos los valores a minúsculas para facilitar la comparación\n",
    "df3['Species'] = df3['Species'].str.lower()\n",
    "\n",
    "# Función para limpiar y categorizar las especies\n",
    "def clean_species(species):\n",
    "    # Puedes agregar más lógica según tus necesidades\n",
    "    if 'white' in species:\n",
    "        return 'White Shark'\n",
    "    elif 'bull' in species:\n",
    "        return 'Bull Shark'\n",
    "    elif 'tiger' in species:\n",
    "        return 'Tiger Shark'\n",
    "    else:\n",
    "        return 'Other Shark'\n",
    "\n",
    "# Aplicar la función a la columna 'Species' para crear una nueva columna 'Cleaned_Species'\n",
    "df3['Cleaned_Species'] = df3['Species'].apply(clean_species)\n",
    "\n",
    "# Mostrar el DataFrame resultante\n",
    "print(df3[['Species', 'Cleaned_Species']])\n",
    "\n"
   ]
  },
  {
   "cell_type": "code",
   "execution_count": null,
   "id": "891d7025",
   "metadata": {},
   "outputs": [],
   "source": [
    "df3.drop(columns=['Species'], inplace=True)\n",
    "df3.rename(columns={'Cleaned_Species': 'Species'}, inplace=True)\n",
    "df3['Species'].value_counts()"
   ]
  },
  {
   "cell_type": "code",
   "execution_count": null,
   "id": "513acfcf",
   "metadata": {},
   "outputs": [],
   "source": [
    "df3['Country'].unique()"
   ]
  },
  {
   "cell_type": "code",
   "execution_count": null,
   "id": "ca51b470",
   "metadata": {},
   "outputs": [],
   "source": [
    "# Crear un diccionario que mapea países a continentes\n",
    "country_continent_mapping = {\n",
    "    'USA': 'North America',\n",
    "    'AUSTRALIA': 'Australia',\n",
    "    'MEXICO': 'North America',\n",
    "    'BRAZIL': 'South America',\n",
    "    'ENGLAND': 'Europe',\n",
    "    'SOUTH AFRICA': 'Africa',\n",
    "    'THAILAND': 'Asia',\n",
    "    'COSTA RICA': 'North America',\n",
    "    'MALDIVES': 'Asia',\n",
    "    'BAHAMAS': 'North America',\n",
    "    'NEW CALEDONIA': 'Oceania',\n",
    "    'ECUADOR': 'South America',\n",
    "    'MALAYSIA': 'Asia',\n",
    "    'LIBYA': 'Africa',\n",
    "    'CUBA': 'North America',\n",
    "    'MAURITIUS': 'Africa',\n",
    "    'NEW ZEALAND': 'Oceania',\n",
    "    'SPAIN': 'Europe',\n",
    "    'SAMOA': 'Oceania',\n",
    "    'SOLOMON ISLANDS': 'Oceania',\n",
    "    'JAPAN': 'Asia',\n",
    "    'EGYPT': 'Africa',\n",
    "    'ST HELENA, British overseas territory': 'Africa',\n",
    "    'COMOROS': 'Africa',\n",
    "    'REUNION': 'Africa',\n",
    "    'FRENCH POLYNESIA': 'Oceania',\n",
    "    'UNITED KINGDOM': 'Europe',\n",
    "    'UNITED ARAB EMIRATES': 'Asia',\n",
    "    'PHILIPPINES': 'Asia',\n",
    "    'INDONESIA': 'Asia',\n",
    "    'CHINA': 'Asia',\n",
    "    'COLUMBIA': 'South America',\n",
    "    'CAPE VERDE': 'Africa',\n",
    "    'Fiji': 'Oceania',\n",
    "    'DOMINICAN REPUBLIC': 'North America',\n",
    "    'CAYMAN ISLANDS': 'North America',\n",
    "    'ARUBA': 'North America',\n",
    "    'MOZAMBIQUE': 'Africa',\n",
    "    'FIJI': 'Oceania',\n",
    "    'PUERTO RICO': 'North America',\n",
    "    'ITALY': 'Europe',\n",
    "    'ATLANTIC OCEAN': 'Unknown',\n",
    "    'GREECE': 'Europe',\n",
    "    'ST. MARTIN': 'North America',\n",
    "    'FRANCE': 'Europe',\n",
    "    'PAPUA NEW GUINEA': 'Oceania',\n",
    "    'TRINIDAD & TOBAGO': 'North America',\n",
    "    'KIRIBATI': 'Oceania',\n",
    "    'ISRAEL': 'Asia',\n",
    "    'DIEGO GARCIA': 'Asia',\n",
    "    'TAIWAN': 'Asia',\n",
    "    'JAMAICA': 'North America',\n",
    "    'PALESTINIAN TERRITORIES': 'Asia',\n",
    "    'GUAM': 'Oceania',\n",
    "    'SEYCHELLES': 'Africa',\n",
    "    'BELIZE': 'North America',\n",
    "    'NIGERIA': 'Africa',\n",
    "    'TONGA': 'Oceania',\n",
    "    'SCOTLAND': 'Europe',\n",
    "    'CANADA': 'North America',\n",
    "    'CROATIA': 'Europe',\n",
    "    'SAUDI ARABIA': 'Asia',\n",
    "    'CHILE': 'South America',\n",
    "    'ANTIGUA': 'North America',\n",
    "    'KENYA': 'Africa',\n",
    "    'RUSSIA': 'Europe',\n",
    "    'TURKS & CAICOS': 'North America',\n",
    "    'UNITED ARAB EMIRATES (UAE)': 'Asia',\n",
    "    'AZORES': 'Europe',\n",
    "    'SOUTH KOREA': 'Asia',\n",
    "    'MALTA': 'Europe',\n",
    "    'VIETNAM': 'Asia',\n",
    "    'MADAGASCAR': 'Africa',\n",
    "    'PANAMA': 'North America',\n",
    "    'SOMALIA': 'Africa',\n",
    "    'NEVIS': 'North America',\n",
    "    'BRITISH VIRGIN ISLANDS': 'North America',\n",
    "    'NORWAY': 'Europe',\n",
    "    'SENEGAL': 'Africa',\n",
    "    'YEMEN': 'Asia',\n",
    "    'GULF OF ADEN': 'Asia',\n",
    "    'Sierra Leone': 'Africa',\n",
    "    'ST. MAARTIN': 'North America',\n",
    "    'GRAND CAYMAN': 'North America',\n",
    "    'Seychelles': 'Africa',\n",
    "    'LIBERIA': 'Africa',\n",
    "    'VANUATU': 'Oceania',\n",
    "    'MEXICO ': 'North America',\n",
    "    'HONDURAS': 'North America',\n",
    "    'VENEZUELA': 'South America',\n",
    "    'SRI LANKA': 'Asia',\n",
    "    ' TONGA': 'Oceania',\n",
    "    'URUGUAY': 'South America',\n",
    "    'INDIA': 'Asia',\n",
    "    'MICRONESIA': 'Oceania',\n",
    "    'CARIBBEAN SEA': 'North America',\n",
    "    'OKINAWA': 'Asia',\n",
    "    'TANZANIA': 'Africa',\n",
    "    'MARSHALL ISLANDS': 'Oceania',\n",
    "    'EGYPT / ISRAEL': 'Asia',\n",
    "    'NORTHERN ARABIAN SEA': 'Asia',\n",
    "    'HONG KONG': 'Asia',\n",
    "    'EL SALVADOR': 'North America',\n",
    "    'ANGOLA': 'Africa',\n",
    "    'BERMUDA': 'North America',\n",
    "    'MONTENEGRO': 'Europe',\n",
    "    'IRAN': 'Asia',\n",
    "    'TUNISIA': 'Africa',\n",
    "    'NAMIBIA': 'Africa',\n",
    "    'NORTH ATLANTIC OCEAN': 'Unknown',\n",
    "    'PORTUGAL': 'Europe',\n",
    "    'SOUTH CHINA SEA': 'Asia',\n",
    "    'BANGLADESH': 'Asia',\n",
    "    'PALAU': 'Oceania',\n",
    "    'WESTERN SAMOA': 'Oceania',\n",
    "    'PACIFIC OCEAN ': 'Oceania',\n",
    "    'BRITISH ISLES': 'Europe',\n",
    "    'GRENADA': 'North America',\n",
    "    'IRAQ': 'Asia',\n",
    "    'TURKEY': 'Europe',\n",
    "    'SINGAPORE': 'Asia',\n",
    "    'NEW BRITAIN': 'Oceania',\n",
    "    'SUDAN': 'Africa',\n",
    "    'JOHNSTON ISLAND': 'Oceania',\n",
    "    'SOUTH PACIFIC OCEAN': 'Oceania',\n",
    "    'NEW GUINEA': 'Oceania',\n",
    "    'RED SEA': 'Africa',\n",
    "    'NORTH PACIFIC OCEAN': 'Oceania',\n",
    "    'FEDERATED STATES OF MICRONESIA': 'Oceania',\n",
    "    'MID ATLANTIC OCEAN': 'Oceania',\n",
    "    'ADMIRALTY ISLANDS': 'Oceania',\n",
    "    'BRITISH WEST INDIES': 'North America',\n",
    "    'SOUTH ATLANTIC OCEAN': 'South America',\n",
    "    'PERSIAN GULF': 'Asia',\n",
    "    'RED SEA / INDIAN OCEAN': 'Africa',\n",
    "    'PACIFIC OCEAN': 'Oceania',\n",
    "    'NORTH SEA': 'Europe',\n",
    "    'NICARAGUA ': 'North America',\n",
    "    'MALDIVE ISLANDS': 'Asia',\n",
    "    'AMERICAN SAMOA': 'Oceania',\n",
    "    'ANDAMAN / NICOBAR ISLANDAS': 'Asia',\n",
    "    'GABON': 'Africa',\n",
    "    'MAYOTTE': 'Africa',\n",
    "    'NORTH ATLANTIC OCEAN ': 'North America',\n",
    "    'THE BALKANS': 'Europe',\n",
    "    'SUDAN?': 'Africa',\n",
    "    'ARGENTINA': 'South America',\n",
    "    'MARTINIQUE': 'North America',\n",
    "    'INDIAN OCEAN': 'Oceania',\n",
    "    'GUATEMALA': 'North America',\n",
    "    'NETHERLANDS ANTILLES': 'North America',\n",
    "    'NORTHERN MARIANA ISLANDS': 'Oceania',\n",
    "    'IRAN / IRAQ': 'Asia',\n",
    "    'JAVA': 'Asia',\n",
    "    'SIERRA LEONE': 'Africa',\n",
    "    ' PHILIPPINES': 'Asia',\n",
    "    'NICARAGUA': 'North America',\n",
    "    'CENTRAL PACIFIC': 'Oceania',\n",
    "    'SOLOMON ISLANDS / VANUATU': 'Oceania',\n",
    "    'SOUTHWEST PACIFIC OCEAN': 'Oceania',\n",
    "    'BAY OF BENGAL': 'Asia',\n",
    "    'MID-PACIFC OCEAN': 'Oceania',\n",
    "    'SLOVENIA': 'Europe',\n",
    "    'CURACAO': 'North America',\n",
    "    'ICELAND': 'Europe',\n",
    "    'ITALY / CROATIA': 'Europe',\n",
    "    'BARBADOS': 'North America',\n",
    "    'MONACO': 'Europe',\n",
    "    'GUYANA': 'South America',\n",
    "    'HAITI': 'North America',\n",
    "    'SAN DOMINGO': 'North America',\n",
    "    'IRELAND': 'Europe',\n",
    "    'KUWAIT': 'Asia',\n",
    "    'YEMEN ': 'Asia',\n",
    "    'REUNION ISLAND': 'Africa',\n",
    "    'FALKLAND ISLANDS': 'South America',\n",
    "    'CRETE': 'Europe',\n",
    "    'CYPRUS': 'Asia',\n",
    "    'EGYPT ': 'Africa',\n",
    "    'WEST INDIES': 'North America',\n",
    "    'BURMA': 'Asia',\n",
    "    'LEBANON': 'Asia',\n",
    "    'PARAGUAY': 'South America',\n",
    "    'BRITISH NEW GUINEA': 'Oceania',\n",
    "    'CEYLON': 'Asia',\n",
    "    'OCEAN': 'Unknown',\n",
    "    'GEORGIA': 'Asia',\n",
    "    'SYRIA': 'Asia',\n",
    "    'TUVALU': 'Oceania',\n",
    "    'INDIAN OCEAN?': 'Oceania',\n",
    "    'GUINEA': 'Africa',\n",
    "    'ANDAMAN ISLANDS': 'Asia',\n",
    "    'EQUATORIAL GUINEA / CAMEROON': 'Africa',\n",
    "    'COOK ISLANDS': 'Oceania',\n",
    "    'TOBAGO': 'North America',\n",
    "    'PERU': 'South America',\n",
    "    'AFRICA': 'Africa',\n",
    "    'ALGERIA' : 'Africa',\n",
    "    'Coast of AFRICA' : 'Africa',\n",
    "    'TASMAN SEA' : 'Oceania',\n",
    "    'GHANA' : 'Africa',\n",
    "'GREENLAND' : 'North America',\n",
    "'MEDITERRANEAN SEA' : 'Unknown',\n",
    "'SWEDEN' : 'Europe',\n",
    "'ROATAN' : 'North America',\n",
    "'Between PORTUGAL & INDIA' : 'Unknown',\n",
    "'DJIBOUTI' : 'Africa',\n",
    "'BAHREIN' : 'Asia',\n",
    "'KOREA' : 'Asia',\n",
    "'RED SEA' : 'Unknown',\n",
    "'ASIA?' : 'Asia',\n",
    "'CEYLON (SRI LANKA)' : 'Asia'\n",
    "}\n",
    "\n",
    "# Reemplazar categorías en el DataFrame usando un diccionario\n",
    "df3['Country'] = df3['Country'].map(country_continent_mapping)\n",
    "# Contar el número en cada categoría\n",
    "country_counts = df3['Country'].value_counts()\n",
    "print(country_counts)"
   ]
  },
  {
   "cell_type": "code",
   "execution_count": null,
   "id": "a8ef3436",
   "metadata": {},
   "outputs": [],
   "source": [
    "df3['Time'].unique()"
   ]
  },
  {
   "cell_type": "code",
   "execution_count": null,
   "id": "d9a5d115",
   "metadata": {},
   "outputs": [],
   "source": [
    "import re\n",
    "\n",
    "df3['Time'] = df['Time'].fillna('Unknown')\n",
    "df3['new_time'] = None\n",
    "time_pattern = r'[0-9]{2}h[0-9]{2}'\n",
    "\n",
    "# Loop through each row in the DataFrame\n",
    "for row in range(len(df3)):\n",
    "    try:\n",
    "        time = re.search(time_pattern, df3.iat[row, df3.columns.get_loc('Time')]).group()\n",
    "        df3.iat[row, df3.columns.get_loc('new_time')] = time\n",
    "        # Extract hour from the time pattern and categorize\n",
    "        hour = int(time.split('h')[0])\n",
    "        if hour < 12:\n",
    "            df3.at[row, 'new_time'] = 'Morning'\n",
    "        elif hour < 18:\n",
    "            df3.at[row, 'new_time'] = 'Afternoon'\n",
    "        else:\n",
    "            df3.at[row, 'new_time'] = 'Evening'\n",
    "    except:\n",
    "        df3.iat[row, df3.columns.get_loc('new_time')] = df3['Time'].iloc[row]\n",
    "\n",
    "# Count occurrences of different time periods\n",
    "bytime_count = df3['new_time'].value_counts().reset_index().rename(columns={'new_time': 'Count', 'index': 'Time'})\n",
    "bytime_count.head()"
   ]
  },
  {
   "cell_type": "code",
   "execution_count": null,
   "id": "52b0890e",
   "metadata": {},
   "outputs": [],
   "source": [
    "time_mapping = {\n",
    "    'Evening': ['Evening', '\"Evening\"', '\"Early evening\"'],\n",
    "    'Afternoon': ['Afternoon', 'Late afternoon', 'Early afternoon', 'Just before noon', 'Lunchtime',\n",
    "                  'Mid afternoon', 'Daytime', 'Midday', 'Midday.', 'Mid-morning', 'After Dusk',\n",
    "                  '2 hrs before sunset', '\"After lunch\"', '\"shortly before dusk\"', '1500', 'Late Afternoon',\n",
    "                  'FATAL  (Wire netting installed at local beaches after this incident.)', 'Late afternon'],\n",
    "    'Morning': ['Morning', 'Morning ', 'Early morning', 'Dawn', 'Morning', 'Late morning'],\n",
    "    'Night': ['Night', 'Nightfall', 'night', 'Late night', 'Dark', '\"Night\"', 'After midnight',\n",
    "              '30 minutes after 1992.07.08.a', 'Possibly same incident as 2000.08.21', 'Before daybreak',\n",
    "              'Just before dawn'],\n",
    "    'Unknown': ['Unknown', ' ', '--', '\\xa0 ', 'X', '  ', ''],\n",
    "    'Afternoon': ['Late Afternoon'],\n",
    "    'Afternoon': ['9h00', 'Midday', '0830', 'P.M.', '8:04 pm'],\n",
    "    'Afternoon': ['After noon', '1300', '1600', '15j45', '2 hours after Opperman', '1500'],\n",
    "    'Evening': ['Just before sundown', 'Shortly after midnight', 'After Dusk', 'After midnight',\n",
    "                   '2 hrs before sunset', '30 minutes after 1992.07.08.a', 'Possibly same incident as 2000.08.21'],\n",
    "    'Morning': ['Early Morning', 'Early morning', 'Before daybreak'],\n",
    "    'Evening': ['\"Early evening\"'],\n",
    "    'Morning': ['Dawn', 'Just before dawn'],\n",
    "    'Night': ['Midnight', 'Shortly after midnight'],\n",
    "    'Night': ['Late night', 'Night', 'night'],\n",
    "    'Evening': ['Dusk', 'dusk', 'After dusk', '\"shortly before dusk\"', '\"After dark\"'],\n",
    "    'Unknown': ['--', ' ', '\\xa0 ', 'X', '  ', '']\n",
    "}\n",
    "for category, times in time_mapping.items():\n",
    "    df3['new_time'].replace(times, category, inplace=True)\n",
    "time_counts = df3['new_time'].value_counts()\n",
    "print(time_counts)"
   ]
  },
  {
   "cell_type": "code",
   "execution_count": null,
   "id": "ad60c71a",
   "metadata": {},
   "outputs": [],
   "source": [
    "threshold = 10\n",
    "activity_counts = df3['new_time'].value_counts()\n",
    "rare_activities = activity_counts[activity_counts < threshold].index.tolist()\n",
    "df3['new_time'].replace(rare_activities, 'Unknown', inplace=True)\n",
    "df3['new_time'].value_counts()"
   ]
  },
  {
   "cell_type": "code",
   "execution_count": null,
   "id": "54e0a63d",
   "metadata": {},
   "outputs": [],
   "source": [
    "df3['new_time'] = df3['new_time'].replace({\"Late afternoon\":\"Afternoon\",\"A.M.\":\"Morning\",\"P.M.\":\"Evening\", \"Early morning\":\"Morning\",\"Midday\":\"Afternoon\"})\n",
    "df3['new_time'].value_counts()\n"
   ]
  },
  {
   "cell_type": "code",
   "execution_count": null,
   "id": "eefa5538",
   "metadata": {},
   "outputs": [],
   "source": [
    "df3['new_time'].value_counts()"
   ]
  },
  {
   "cell_type": "code",
   "execution_count": null,
   "id": "260f2aef",
   "metadata": {},
   "outputs": [],
   "source": [
    "df4 = df3.copy()"
   ]
  },
  {
   "cell_type": "code",
   "execution_count": null,
   "id": "386fdd9c",
   "metadata": {},
   "outputs": [],
   "source": [
    "df4"
   ]
  },
  {
   "cell_type": "code",
   "execution_count": null,
   "id": "bf0d987e",
   "metadata": {},
   "outputs": [],
   "source": [
    "df4.drop(['Case Number', 'Date', 'Area', 'Location', 'Investigator or Source', 'pdf', 'href formula', 'href', 'original order', 'Time', 'Name'], axis=1, inplace=True)\n",
    "df4.rename(columns={'new_time': 'Time'}, inplace=True)\n",
    "df4"
   ]
  },
  {
   "cell_type": "code",
   "execution_count": null,
   "id": "6103e116",
   "metadata": {},
   "outputs": [],
   "source": [
    "!pip install matplotlib\n",
    "!pip install seaborn\n",
    "\n",
    "import pandas as pd\n",
    "import numpy as np\n",
    "import matplotlib.pyplot as plt\n",
    "import seaborn as sns\n",
    "import scipy.stats as stats\n",
    "import plotly.express as px"
   ]
  },
  {
   "cell_type": "code",
   "execution_count": null,
   "id": "cd3762df",
   "metadata": {
    "scrolled": true
   },
   "outputs": [],
   "source": [
    "plt.figure(figsize=(12, 8))\n",
    "sns.countplot(data=df4, x='Sex')\n",
    "\n",
    "plt.show()"
   ]
  },
  {
   "cell_type": "code",
   "execution_count": null,
   "id": "decd014a",
   "metadata": {},
   "outputs": [],
   "source": [
    "plt.figure(figsize=(12, 8))\n",
    "sns.countplot(data=df4, x='Type')\n",
    "\n",
    "plt.show()"
   ]
  },
  {
   "cell_type": "code",
   "execution_count": null,
   "id": "b31f2dbb",
   "metadata": {},
   "outputs": [],
   "source": [
    "plt.figure(figsize=(12, 8))\n",
    "sns.countplot(data=df4, x='Country')\n",
    "\n",
    "plt.show()"
   ]
  },
  {
   "cell_type": "code",
   "execution_count": null,
   "id": "a017e4a3",
   "metadata": {},
   "outputs": [],
   "source": [
    "plt.figure(figsize=(12, 8))\n",
    "sns.countplot(data=df4, x='Year')\n",
    "\n",
    "plt.show()"
   ]
  },
  {
   "cell_type": "code",
   "execution_count": null,
   "id": "632b8f20",
   "metadata": {},
   "outputs": [],
   "source": [
    "byYear_count = df4['Year'].value_counts().sort_values(ascending=False).head(10)\n",
    "\n",
    "plt.figure(dpi=120)\n",
    "sns.barplot(x=byYear_count.index, y=byYear_count.values, palette='Set2')\n",
    "plt.title('Years with the Highest Number of Shark Attack Cases')\n",
    "plt.xlabel('Year')\n",
    "plt.ylabel('Count')\n",
    "plt.xticks(rotation=90)\n",
    "plt.show()\n",
    "\n"
   ]
  },
  {
   "cell_type": "code",
   "execution_count": null,
   "id": "81e4ccc8",
   "metadata": {
    "scrolled": true
   },
   "outputs": [],
   "source": [
    "plt.figure(figsize=(12, 8))\n",
    "sns.countplot(data=df4, x='Fatal')\n",
    "\n",
    "plt.show()"
   ]
  },
  {
   "cell_type": "code",
   "execution_count": null,
   "id": "54880a92",
   "metadata": {},
   "outputs": [],
   "source": [
    "plt.figure(figsize=(12, 8))\n",
    "sns.countplot(data=df4, x='Species')\n",
    "\n",
    "plt.show()"
   ]
  },
  {
   "cell_type": "code",
   "execution_count": null,
   "id": "42d69649",
   "metadata": {},
   "outputs": [],
   "source": [
    "sns.countplot(x =\"Fatal\" , hue = \"Country\", data = df4)\n",
    "plt.show()"
   ]
  },
  {
   "cell_type": "code",
   "execution_count": null,
   "id": "734cc918",
   "metadata": {},
   "outputs": [],
   "source": [
    "sns.countplot(x =\"Fatal\" , hue = \"Type\", data = df4)\n",
    "plt.show()"
   ]
  },
  {
   "cell_type": "code",
   "execution_count": null,
   "id": "86ef5883",
   "metadata": {},
   "outputs": [],
   "source": [
    "sns.countplot(x =\"Fatal\" , hue = \"Species\", data = df4)\n",
    "plt.show()"
   ]
  },
  {
   "cell_type": "code",
   "execution_count": null,
   "id": "65eef733",
   "metadata": {},
   "outputs": [],
   "source": [
    "sns.countplot(x =\"Fatal\" , hue = \"Injury\", data = df4)\n",
    "plt.show()"
   ]
  },
  {
   "cell_type": "code",
   "execution_count": null,
   "id": "661423fb",
   "metadata": {},
   "outputs": [],
   "source": [
    "df4.info()"
   ]
  },
  {
   "cell_type": "code",
   "execution_count": null,
   "id": "f134df49",
   "metadata": {},
   "outputs": [],
   "source": [
    "numerical = df4.select_dtypes(\"number\")\n",
    "numerical"
   ]
  },
  {
   "cell_type": "code",
   "execution_count": null,
   "id": "fb739d1d",
   "metadata": {},
   "outputs": [],
   "source": [
    "categorical =df4.select_dtypes(\"object\")\n",
    "categorical"
   ]
  },
  {
   "cell_type": "code",
   "execution_count": null,
   "id": "ab0c1285",
   "metadata": {},
   "outputs": [],
   "source": [
    "df4['Fatal'].value_counts()"
   ]
  },
  {
   "cell_type": "code",
   "execution_count": null,
   "id": "196ebb0f",
   "metadata": {},
   "outputs": [],
   "source": [
    "df4['Fatal'].replace('UNKNOWN', 'U', inplace=True)"
   ]
  },
  {
   "cell_type": "markdown",
   "id": "5f104770",
   "metadata": {},
   "source": [
    "# EDA"
   ]
  },
  {
   "cell_type": "code",
   "execution_count": null,
   "id": "1125dbf7",
   "metadata": {},
   "outputs": [],
   "source": [
    "for col in df4.select_dtypes('object'):\n",
    "    \n",
    "    # Create a contingency table\n",
    "    contingency_table = pd.crosstab(df4[col], df4['Fatal'])\n",
    "\n",
    "    # Convert the values to percentages\n",
    "    row_sums = contingency_table.sum(axis=1)\n",
    "    col_sums = contingency_table.sum(axis=0)\n",
    "    \n",
    "    contingency_table[\"N\"] = contingency_table[\"N\"] / contingency_table[\"N\"].sum() * 100\n",
    "    contingency_table[\"Y\"] = contingency_table[\"Y\"] / contingency_table[\"Y\"].sum() * 100\n",
    "    contingency_table[\"U\"] = contingency_table[\"U\"] / contingency_table[\"U\"].sum() * 100\n",
    "\n",
    "    # Print the contingency table in percentage\n",
    "    display(contingency_table)"
   ]
  },
  {
   "cell_type": "markdown",
   "id": "f8751b65",
   "metadata": {},
   "source": [
    "Data Processing"
   ]
  },
  {
   "cell_type": "code",
   "execution_count": null,
   "id": "894e545c",
   "metadata": {},
   "outputs": [],
   "source": [
    "corr_matrix=data.corr(method='pearson', numeric_only=True)  # default\n",
    "fig, ax = plt.subplots(figsize=(10, 8))\n",
    "ax = sns.heatmap(corr_matrix, annot=True)\n",
    "plt.show()"
   ]
  },
  {
   "cell_type": "code",
   "execution_count": null,
   "id": "0ffaf256",
   "metadata": {},
   "outputs": [],
   "source": [
    "df4.columns"
   ]
  },
  {
   "cell_type": "code",
   "execution_count": null,
   "id": "b80fd73e",
   "metadata": {},
   "outputs": [],
   "source": [
    "y = df4['Fatal']\n",
    "X = df4.drop('Fatal', axis=1)\n"
   ]
  },
  {
   "cell_type": "code",
   "execution_count": null,
   "id": "16098a21",
   "metadata": {
    "scrolled": true
   },
   "outputs": [],
   "source": [
    "X= pd.get_dummies(X, columns=['Type','Country','Time','Species', 'Activity', 'Injury', 'Sex'])\n",
    "X"
   ]
  },
  {
   "cell_type": "code",
   "execution_count": null,
   "id": "95da274b",
   "metadata": {
    "scrolled": true
   },
   "outputs": [],
   "source": [
    "pd.get_dummies(df4).corr()[\"Fatal_Y\"].sort_values()"
   ]
  },
  {
   "cell_type": "code",
   "execution_count": null,
   "id": "f6c05870",
   "metadata": {},
   "outputs": [],
   "source": [
    "pd.get_dummies(df4).corr()[\"Fatal_N\"].sort_values()"
   ]
  },
  {
   "cell_type": "code",
   "execution_count": null,
   "id": "6de26e82",
   "metadata": {},
   "outputs": [],
   "source": [
    "pd.get_dummies(df4).corr()[\"Fatal_U\"].sort_values()"
   ]
  },
  {
   "cell_type": "code",
   "execution_count": null,
   "id": "f21a8c32",
   "metadata": {},
   "outputs": [],
   "source": [
    "from sklearn.model_selection import train_test_split\n",
    "\n",
    "# Assuming you have X and y defined\n",
    "X_train, X_test, y_train, y_test = train_test_split(X, y, test_size=0.2, random_state=42)\n"
   ]
  },
  {
   "cell_type": "code",
   "execution_count": null,
   "id": "d908a465",
   "metadata": {},
   "outputs": [],
   "source": [
    "from sklearn.linear_model import LogisticRegression\n",
    "\n",
    "# Assuming you have X_train and y_train defined\n",
    "classification = LogisticRegression(random_state=42) #, max_iter=1000\n",
    "classification.fit(X_train, y_train)\n",
    "\n",
    "# Now the model is trained and you can use it for predictions or evaluation\n"
   ]
  },
  {
   "cell_type": "code",
   "execution_count": null,
   "id": "433cee1c",
   "metadata": {
    "scrolled": true
   },
   "outputs": [],
   "source": [
    "classification.score(X_test, y_test)"
   ]
  },
  {
   "cell_type": "code",
   "execution_count": null,
   "id": "f3fb8e72",
   "metadata": {},
   "outputs": [],
   "source": [
    "predictions = classification.predict(X_test)\n",
    "predictions"
   ]
  },
  {
   "cell_type": "code",
   "execution_count": null,
   "id": "9c9daa05",
   "metadata": {},
   "outputs": [],
   "source": [
    "y_test_series = pd.Series(y_test)\n",
    "value_counts = y_test_series.value_counts()\n",
    "\n",
    "print(value_counts)"
   ]
  },
  {
   "cell_type": "code",
   "execution_count": null,
   "id": "0ad3430c",
   "metadata": {},
   "outputs": [],
   "source": [
    "predictions_ = classification.predict_proba(X_test)\n",
    "predictions_"
   ]
  },
  {
   "cell_type": "code",
   "execution_count": null,
   "id": "a886782b",
   "metadata": {},
   "outputs": [],
   "source": [
    "from sklearn.metrics import confusion_matrix\n",
    "\n",
    "confusion_matrix(y_test, predictions)"
   ]
  },
  {
   "cell_type": "code",
   "execution_count": null,
   "id": "32321954",
   "metadata": {},
   "outputs": [],
   "source": [
    "cf_matrix = confusion_matrix(y_test, predictions, normalize='all')\n",
    "sns.heatmap(cf_matrix, annot=True, xticklabels=[\"N\", \"Y\", \"U\"], yticklabels=[\"N\", \"Y\", \"U\"])"
   ]
  },
  {
   "cell_type": "code",
   "execution_count": null,
   "id": "f28c0697",
   "metadata": {},
   "outputs": [],
   "source": [
    "!pip install imblearn"
   ]
  },
  {
   "cell_type": "code",
   "execution_count": null,
   "id": "12315b2a",
   "metadata": {},
   "outputs": [],
   "source": [
    "from imblearn.over_sampling import RandomOverSampler\n",
    "sampler = RandomOverSampler(random_state=42)\n",
    "# only sample the training data (you don't want to test on repeated or made up rows):\n",
    "X_train_balanced, y_train_balanced = sampler.fit_resample(X_train, y_train)\n",
    "y_train_balanced.value_counts()\n"
   ]
  },
  {
   "cell_type": "code",
   "execution_count": null,
   "id": "04ae3922",
   "metadata": {},
   "outputs": [],
   "source": [
    "classification = LogisticRegression(random_state=42)\n",
    "classification.fit(X_train_balanced, y_train_balanced)\n",
    "accuracy = classification.score(X_test, y_test)\n",
    "print(\"Accuracy:\", accuracy)"
   ]
  },
  {
   "cell_type": "code",
   "execution_count": null,
   "id": "b448f1b2",
   "metadata": {},
   "outputs": [],
   "source": [
    "predictions = classification.predict(X_test)\n",
    "cf_matrix = confusion_matrix(y_test, predictions, normalize='all')\n",
    "sns.heatmap(cf_matrix, annot=True, xticklabels=[\"N\", \"Y\", \"U\"], yticklabels=[\"N\", \"Y\", \"U\"])"
   ]
  },
  {
   "cell_type": "code",
   "execution_count": null,
   "id": "32d7e647",
   "metadata": {},
   "outputs": [],
   "source": [
    "df4 = df4[df4['Fatal'].isin(['Y', 'N'])]\n",
    "df4"
   ]
  },
  {
   "cell_type": "code",
   "execution_count": null,
   "id": "8f3d37ec",
   "metadata": {},
   "outputs": [],
   "source": [
    "y = df4['Fatal']\n",
    "X = df4.drop('Fatal', axis=1)\n"
   ]
  },
  {
   "cell_type": "code",
   "execution_count": null,
   "id": "d85e149e",
   "metadata": {},
   "outputs": [],
   "source": [
    "X= pd.get_dummies(X, columns=['Type','Country','Time','Species', 'Activity', 'Injury', 'Sex'])\n",
    "X"
   ]
  },
  {
   "cell_type": "code",
   "execution_count": null,
   "id": "2d18f010",
   "metadata": {},
   "outputs": [],
   "source": [
    "pd.get_dummies(df4).corr()[\"Fatal_Y\"].sort_values()"
   ]
  },
  {
   "cell_type": "code",
   "execution_count": null,
   "id": "68226aab",
   "metadata": {},
   "outputs": [],
   "source": [
    "pd.get_dummies(df4).corr()[\"Fatal_N\"].sort_values()"
   ]
  },
  {
   "cell_type": "code",
   "execution_count": null,
   "id": "0905a481",
   "metadata": {},
   "outputs": [],
   "source": [
    "X_train, X_test, y_train, y_test = train_test_split(X_encoded, y, test_size=0.2, random_state=42)\n",
    "\n",
    "\n",
    "classification = LogisticRegression(random_state=42)\n",
    "classification.fit(X_train, y_train)\n"
   ]
  },
  {
   "cell_type": "code",
   "execution_count": null,
   "id": "54dd12eb",
   "metadata": {},
   "outputs": [],
   "source": [
    "classification.score(X_test, y_test)"
   ]
  },
  {
   "cell_type": "code",
   "execution_count": null,
   "id": "98e2aad5",
   "metadata": {},
   "outputs": [],
   "source": [
    "predictions = classification.predict(X_test)\n",
    "predictions"
   ]
  },
  {
   "cell_type": "code",
   "execution_count": null,
   "id": "850c6661",
   "metadata": {},
   "outputs": [],
   "source": [
    "from sklearn.metrics import confusion_matrix\n",
    "\n",
    "confusion_matrix(y_test, predictions)"
   ]
  },
  {
   "cell_type": "code",
   "execution_count": null,
   "id": "98c6447c",
   "metadata": {},
   "outputs": [],
   "source": [
    "y_test_series = pd.Series(y_test)\n",
    "value_counts = y_test_series.value_counts()\n",
    "\n",
    "print(value_counts)"
   ]
  },
  {
   "cell_type": "code",
   "execution_count": null,
   "id": "9fec7a84",
   "metadata": {},
   "outputs": [],
   "source": [
    "predictions_ = classification.predict_proba(X_test)\n",
    "predictions_"
   ]
  },
  {
   "cell_type": "code",
   "execution_count": null,
   "id": "4f8c2bf4",
   "metadata": {},
   "outputs": [],
   "source": [
    "from sklearn.metrics import confusion_matrix\n",
    "\n",
    "confusion_matrix(y_test, predictions)"
   ]
  },
  {
   "cell_type": "code",
   "execution_count": null,
   "id": "a534fcce",
   "metadata": {},
   "outputs": [],
   "source": [
    "cf_matrix = confusion_matrix(y_test, predictions, normalize='all')\n",
    "sns.heatmap(cf_matrix, annot=True, xticklabels=[\"N\", \"Y\"], yticklabels=[\"N\", \"Y\"])"
   ]
  },
  {
   "cell_type": "code",
   "execution_count": null,
   "id": "aaf7c0f5",
   "metadata": {},
   "outputs": [],
   "source": [
    "from imblearn.over_sampling import RandomOverSampler\n",
    "sampler = RandomOverSampler(random_state=42)\n",
    "# only sample the training data (you don't want to test on repeated or made up rows):\n",
    "X_train_balanced, y_train_balanced = sampler.fit_resample(X_train, y_train)\n",
    "y_train_balanced.value_counts()"
   ]
  },
  {
   "cell_type": "code",
   "execution_count": null,
   "id": "5fe4bda4",
   "metadata": {},
   "outputs": [],
   "source": []
  }
 ],
 "metadata": {
  "kernelspec": {
   "display_name": "Python 3 (ipykernel)",
   "language": "python",
   "name": "python3"
  },
  "language_info": {
   "codemirror_mode": {
    "name": "ipython",
    "version": 3
   },
   "file_extension": ".py",
   "mimetype": "text/x-python",
   "name": "python",
   "nbconvert_exporter": "python",
   "pygments_lexer": "ipython3",
   "version": "3.11.5"
  }
 },
 "nbformat": 4,
 "nbformat_minor": 5
}
