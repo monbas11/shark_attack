{
 "cells": [
  {
   "cell_type": "code",
   "execution_count": 102,
   "id": "0e03066c",
   "metadata": {},
   "outputs": [],
   "source": [
    "import pandas as pd\n",
    "import numpy as np\n",
    "from matplotlib import pyplot as plt\n",
    "import seaborn as sns\n",
    "from sklearn.metrics import confusion_matrix\n",
    "from sklearn.model_selection import train_test_split\n",
    "from sklearn.linear_model import LogisticRegression\n",
    "from sklearn.preprocessing import StandardScaler"
   ]
  },
  {
   "cell_type": "code",
   "execution_count": 103,
   "id": "5d1f0a03",
   "metadata": {
    "scrolled": true
   },
   "outputs": [
    {
     "data": {
      "text/html": [
       "<div>\n",
       "<style scoped>\n",
       "    .dataframe tbody tr th:only-of-type {\n",
       "        vertical-align: middle;\n",
       "    }\n",
       "\n",
       "    .dataframe tbody tr th {\n",
       "        vertical-align: top;\n",
       "    }\n",
       "\n",
       "    .dataframe thead th {\n",
       "        text-align: right;\n",
       "    }\n",
       "</style>\n",
       "<table border=\"1\" class=\"dataframe\">\n",
       "  <thead>\n",
       "    <tr style=\"text-align: right;\">\n",
       "      <th></th>\n",
       "      <th>Case Number</th>\n",
       "      <th>Date</th>\n",
       "      <th>Year</th>\n",
       "      <th>Type</th>\n",
       "      <th>Country</th>\n",
       "      <th>Area</th>\n",
       "      <th>Location</th>\n",
       "      <th>Activity</th>\n",
       "      <th>Name</th>\n",
       "      <th>Sex</th>\n",
       "      <th>...</th>\n",
       "      <th>Species</th>\n",
       "      <th>Investigator or Source</th>\n",
       "      <th>pdf</th>\n",
       "      <th>href formula</th>\n",
       "      <th>href</th>\n",
       "      <th>Case Number.1</th>\n",
       "      <th>Case Number.2</th>\n",
       "      <th>original order</th>\n",
       "      <th>Unnamed: 22</th>\n",
       "      <th>Unnamed: 23</th>\n",
       "    </tr>\n",
       "  </thead>\n",
       "  <tbody>\n",
       "    <tr>\n",
       "      <th>0</th>\n",
       "      <td>2018.06.25</td>\n",
       "      <td>25-Jun-2018</td>\n",
       "      <td>2018.0</td>\n",
       "      <td>Boating</td>\n",
       "      <td>USA</td>\n",
       "      <td>California</td>\n",
       "      <td>Oceanside, San Diego County</td>\n",
       "      <td>Paddling</td>\n",
       "      <td>Julie Wolfe</td>\n",
       "      <td>F</td>\n",
       "      <td>...</td>\n",
       "      <td>White shark</td>\n",
       "      <td>R. Collier, GSAF</td>\n",
       "      <td>2018.06.25-Wolfe.pdf</td>\n",
       "      <td>http://sharkattackfile.net/spreadsheets/pdf_di...</td>\n",
       "      <td>http://sharkattackfile.net/spreadsheets/pdf_di...</td>\n",
       "      <td>2018.06.25</td>\n",
       "      <td>2018.06.25</td>\n",
       "      <td>6303.0</td>\n",
       "      <td>NaN</td>\n",
       "      <td>NaN</td>\n",
       "    </tr>\n",
       "    <tr>\n",
       "      <th>1</th>\n",
       "      <td>2018.06.18</td>\n",
       "      <td>18-Jun-2018</td>\n",
       "      <td>2018.0</td>\n",
       "      <td>Unprovoked</td>\n",
       "      <td>USA</td>\n",
       "      <td>Georgia</td>\n",
       "      <td>St. Simon Island, Glynn County</td>\n",
       "      <td>Standing</td>\n",
       "      <td>Adyson McNeely</td>\n",
       "      <td>F</td>\n",
       "      <td>...</td>\n",
       "      <td>NaN</td>\n",
       "      <td>K.McMurray, TrackingSharks.com</td>\n",
       "      <td>2018.06.18-McNeely.pdf</td>\n",
       "      <td>http://sharkattackfile.net/spreadsheets/pdf_di...</td>\n",
       "      <td>http://sharkattackfile.net/spreadsheets/pdf_di...</td>\n",
       "      <td>2018.06.18</td>\n",
       "      <td>2018.06.18</td>\n",
       "      <td>6302.0</td>\n",
       "      <td>NaN</td>\n",
       "      <td>NaN</td>\n",
       "    </tr>\n",
       "    <tr>\n",
       "      <th>2</th>\n",
       "      <td>2018.06.09</td>\n",
       "      <td>09-Jun-2018</td>\n",
       "      <td>2018.0</td>\n",
       "      <td>Invalid</td>\n",
       "      <td>USA</td>\n",
       "      <td>Hawaii</td>\n",
       "      <td>Habush, Oahu</td>\n",
       "      <td>Surfing</td>\n",
       "      <td>John Denges</td>\n",
       "      <td>M</td>\n",
       "      <td>...</td>\n",
       "      <td>NaN</td>\n",
       "      <td>K.McMurray, TrackingSharks.com</td>\n",
       "      <td>2018.06.09-Denges.pdf</td>\n",
       "      <td>http://sharkattackfile.net/spreadsheets/pdf_di...</td>\n",
       "      <td>http://sharkattackfile.net/spreadsheets/pdf_di...</td>\n",
       "      <td>2018.06.09</td>\n",
       "      <td>2018.06.09</td>\n",
       "      <td>6301.0</td>\n",
       "      <td>NaN</td>\n",
       "      <td>NaN</td>\n",
       "    </tr>\n",
       "    <tr>\n",
       "      <th>3</th>\n",
       "      <td>2018.06.08</td>\n",
       "      <td>08-Jun-2018</td>\n",
       "      <td>2018.0</td>\n",
       "      <td>Unprovoked</td>\n",
       "      <td>AUSTRALIA</td>\n",
       "      <td>New South Wales</td>\n",
       "      <td>Arrawarra Headland</td>\n",
       "      <td>Surfing</td>\n",
       "      <td>male</td>\n",
       "      <td>M</td>\n",
       "      <td>...</td>\n",
       "      <td>2 m shark</td>\n",
       "      <td>B. Myatt, GSAF</td>\n",
       "      <td>2018.06.08-Arrawarra.pdf</td>\n",
       "      <td>http://sharkattackfile.net/spreadsheets/pdf_di...</td>\n",
       "      <td>http://sharkattackfile.net/spreadsheets/pdf_di...</td>\n",
       "      <td>2018.06.08</td>\n",
       "      <td>2018.06.08</td>\n",
       "      <td>6300.0</td>\n",
       "      <td>NaN</td>\n",
       "      <td>NaN</td>\n",
       "    </tr>\n",
       "    <tr>\n",
       "      <th>4</th>\n",
       "      <td>2018.06.04</td>\n",
       "      <td>04-Jun-2018</td>\n",
       "      <td>2018.0</td>\n",
       "      <td>Provoked</td>\n",
       "      <td>MEXICO</td>\n",
       "      <td>Colima</td>\n",
       "      <td>La Ticla</td>\n",
       "      <td>Free diving</td>\n",
       "      <td>Gustavo Ramos</td>\n",
       "      <td>M</td>\n",
       "      <td>...</td>\n",
       "      <td>Tiger shark, 3m</td>\n",
       "      <td>A .Kipper</td>\n",
       "      <td>2018.06.04-Ramos.pdf</td>\n",
       "      <td>http://sharkattackfile.net/spreadsheets/pdf_di...</td>\n",
       "      <td>http://sharkattackfile.net/spreadsheets/pdf_di...</td>\n",
       "      <td>2018.06.04</td>\n",
       "      <td>2018.06.04</td>\n",
       "      <td>6299.0</td>\n",
       "      <td>NaN</td>\n",
       "      <td>NaN</td>\n",
       "    </tr>\n",
       "  </tbody>\n",
       "</table>\n",
       "<p>5 rows × 24 columns</p>\n",
       "</div>"
      ],
      "text/plain": [
       "  Case Number         Date    Year        Type    Country             Area  \\\n",
       "0  2018.06.25  25-Jun-2018  2018.0     Boating        USA       California   \n",
       "1  2018.06.18  18-Jun-2018  2018.0  Unprovoked        USA          Georgia   \n",
       "2  2018.06.09  09-Jun-2018  2018.0     Invalid        USA           Hawaii   \n",
       "3  2018.06.08  08-Jun-2018  2018.0  Unprovoked  AUSTRALIA  New South Wales   \n",
       "4  2018.06.04  04-Jun-2018  2018.0    Provoked     MEXICO           Colima   \n",
       "\n",
       "                         Location     Activity             Name Sex   ...  \\\n",
       "0     Oceanside, San Diego County     Paddling      Julie Wolfe    F  ...   \n",
       "1  St. Simon Island, Glynn County     Standing  Adyson McNeely     F  ...   \n",
       "2                    Habush, Oahu      Surfing      John Denges    M  ...   \n",
       "3              Arrawarra Headland      Surfing             male    M  ...   \n",
       "4                        La Ticla  Free diving   Gustavo Ramos     M  ...   \n",
       "\n",
       "          Species           Investigator or Source                       pdf  \\\n",
       "0      White shark                R. Collier, GSAF      2018.06.25-Wolfe.pdf   \n",
       "1              NaN  K.McMurray, TrackingSharks.com    2018.06.18-McNeely.pdf   \n",
       "2              NaN  K.McMurray, TrackingSharks.com     2018.06.09-Denges.pdf   \n",
       "3        2 m shark                  B. Myatt, GSAF  2018.06.08-Arrawarra.pdf   \n",
       "4  Tiger shark, 3m                       A .Kipper      2018.06.04-Ramos.pdf   \n",
       "\n",
       "                                        href formula  \\\n",
       "0  http://sharkattackfile.net/spreadsheets/pdf_di...   \n",
       "1  http://sharkattackfile.net/spreadsheets/pdf_di...   \n",
       "2  http://sharkattackfile.net/spreadsheets/pdf_di...   \n",
       "3  http://sharkattackfile.net/spreadsheets/pdf_di...   \n",
       "4  http://sharkattackfile.net/spreadsheets/pdf_di...   \n",
       "\n",
       "                                                href Case Number.1  \\\n",
       "0  http://sharkattackfile.net/spreadsheets/pdf_di...    2018.06.25   \n",
       "1  http://sharkattackfile.net/spreadsheets/pdf_di...    2018.06.18   \n",
       "2  http://sharkattackfile.net/spreadsheets/pdf_di...    2018.06.09   \n",
       "3  http://sharkattackfile.net/spreadsheets/pdf_di...    2018.06.08   \n",
       "4  http://sharkattackfile.net/spreadsheets/pdf_di...    2018.06.04   \n",
       "\n",
       "  Case Number.2 original order Unnamed: 22 Unnamed: 23  \n",
       "0    2018.06.25         6303.0         NaN         NaN  \n",
       "1    2018.06.18         6302.0         NaN         NaN  \n",
       "2    2018.06.09         6301.0         NaN         NaN  \n",
       "3    2018.06.08         6300.0         NaN         NaN  \n",
       "4    2018.06.04         6299.0         NaN         NaN  \n",
       "\n",
       "[5 rows x 24 columns]"
      ]
     },
     "execution_count": 103,
     "metadata": {},
     "output_type": "execute_result"
    }
   ],
   "source": [
    "df = pd.read_csv(r\"C:\\Users\\Tetiana\\Documents\\ironhack\\lab\\Shark_attack_dataset\\archive\\attacks.csv\", encoding='latin1')\n",
    "df.head()"
   ]
  },
  {
   "cell_type": "code",
   "execution_count": 228,
   "id": "a5b696f4",
   "metadata": {},
   "outputs": [
    {
     "data": {
      "text/plain": [
       "(5690, 10)"
      ]
     },
     "execution_count": 228,
     "metadata": {},
     "output_type": "execute_result"
    }
   ],
   "source": [
    "df.shape\n"
   ]
  },
  {
   "cell_type": "markdown",
   "id": "e8bfd8f6",
   "metadata": {},
   "source": [
    "**Drop entire empty rows**\n"
   ]
  },
  {
   "cell_type": "code",
   "execution_count": 104,
   "id": "70170230",
   "metadata": {},
   "outputs": [
    {
     "data": {
      "text/html": [
       "<div>\n",
       "<style scoped>\n",
       "    .dataframe tbody tr th:only-of-type {\n",
       "        vertical-align: middle;\n",
       "    }\n",
       "\n",
       "    .dataframe tbody tr th {\n",
       "        vertical-align: top;\n",
       "    }\n",
       "\n",
       "    .dataframe thead th {\n",
       "        text-align: right;\n",
       "    }\n",
       "</style>\n",
       "<table border=\"1\" class=\"dataframe\">\n",
       "  <thead>\n",
       "    <tr style=\"text-align: right;\">\n",
       "      <th></th>\n",
       "      <th>Case Number</th>\n",
       "      <th>Date</th>\n",
       "      <th>Year</th>\n",
       "      <th>Type</th>\n",
       "      <th>Country</th>\n",
       "      <th>Area</th>\n",
       "      <th>Location</th>\n",
       "      <th>Activity</th>\n",
       "      <th>Name</th>\n",
       "      <th>Sex</th>\n",
       "      <th>...</th>\n",
       "      <th>Species</th>\n",
       "      <th>Investigator or Source</th>\n",
       "      <th>pdf</th>\n",
       "      <th>href formula</th>\n",
       "      <th>href</th>\n",
       "      <th>Case Number.1</th>\n",
       "      <th>Case Number.2</th>\n",
       "      <th>original order</th>\n",
       "      <th>Unnamed: 22</th>\n",
       "      <th>Unnamed: 23</th>\n",
       "    </tr>\n",
       "  </thead>\n",
       "  <tbody>\n",
       "    <tr>\n",
       "      <th>8702</th>\n",
       "      <td>NaN</td>\n",
       "      <td>NaN</td>\n",
       "      <td>NaN</td>\n",
       "      <td>NaN</td>\n",
       "      <td>NaN</td>\n",
       "      <td>NaN</td>\n",
       "      <td>NaN</td>\n",
       "      <td>NaN</td>\n",
       "      <td>NaN</td>\n",
       "      <td>NaN</td>\n",
       "      <td>...</td>\n",
       "      <td>NaN</td>\n",
       "      <td>NaN</td>\n",
       "      <td>NaN</td>\n",
       "      <td>NaN</td>\n",
       "      <td>NaN</td>\n",
       "      <td>NaN</td>\n",
       "      <td>NaN</td>\n",
       "      <td>NaN</td>\n",
       "      <td>NaN</td>\n",
       "      <td>NaN</td>\n",
       "    </tr>\n",
       "    <tr>\n",
       "      <th>8703</th>\n",
       "      <td>NaN</td>\n",
       "      <td>NaN</td>\n",
       "      <td>NaN</td>\n",
       "      <td>NaN</td>\n",
       "      <td>NaN</td>\n",
       "      <td>NaN</td>\n",
       "      <td>NaN</td>\n",
       "      <td>NaN</td>\n",
       "      <td>NaN</td>\n",
       "      <td>NaN</td>\n",
       "      <td>...</td>\n",
       "      <td>NaN</td>\n",
       "      <td>NaN</td>\n",
       "      <td>NaN</td>\n",
       "      <td>NaN</td>\n",
       "      <td>NaN</td>\n",
       "      <td>NaN</td>\n",
       "      <td>NaN</td>\n",
       "      <td>NaN</td>\n",
       "      <td>NaN</td>\n",
       "      <td>NaN</td>\n",
       "    </tr>\n",
       "    <tr>\n",
       "      <th>8704</th>\n",
       "      <td>NaN</td>\n",
       "      <td>NaN</td>\n",
       "      <td>NaN</td>\n",
       "      <td>NaN</td>\n",
       "      <td>NaN</td>\n",
       "      <td>NaN</td>\n",
       "      <td>NaN</td>\n",
       "      <td>NaN</td>\n",
       "      <td>NaN</td>\n",
       "      <td>NaN</td>\n",
       "      <td>...</td>\n",
       "      <td>NaN</td>\n",
       "      <td>NaN</td>\n",
       "      <td>NaN</td>\n",
       "      <td>NaN</td>\n",
       "      <td>NaN</td>\n",
       "      <td>NaN</td>\n",
       "      <td>NaN</td>\n",
       "      <td>NaN</td>\n",
       "      <td>NaN</td>\n",
       "      <td>NaN</td>\n",
       "    </tr>\n",
       "    <tr>\n",
       "      <th>8705</th>\n",
       "      <td>NaN</td>\n",
       "      <td>NaN</td>\n",
       "      <td>NaN</td>\n",
       "      <td>NaN</td>\n",
       "      <td>NaN</td>\n",
       "      <td>NaN</td>\n",
       "      <td>NaN</td>\n",
       "      <td>NaN</td>\n",
       "      <td>NaN</td>\n",
       "      <td>NaN</td>\n",
       "      <td>...</td>\n",
       "      <td>NaN</td>\n",
       "      <td>NaN</td>\n",
       "      <td>NaN</td>\n",
       "      <td>NaN</td>\n",
       "      <td>NaN</td>\n",
       "      <td>NaN</td>\n",
       "      <td>NaN</td>\n",
       "      <td>NaN</td>\n",
       "      <td>NaN</td>\n",
       "      <td>NaN</td>\n",
       "    </tr>\n",
       "    <tr>\n",
       "      <th>8706</th>\n",
       "      <td>NaN</td>\n",
       "      <td>NaN</td>\n",
       "      <td>NaN</td>\n",
       "      <td>NaN</td>\n",
       "      <td>NaN</td>\n",
       "      <td>NaN</td>\n",
       "      <td>NaN</td>\n",
       "      <td>NaN</td>\n",
       "      <td>NaN</td>\n",
       "      <td>NaN</td>\n",
       "      <td>...</td>\n",
       "      <td>NaN</td>\n",
       "      <td>NaN</td>\n",
       "      <td>NaN</td>\n",
       "      <td>NaN</td>\n",
       "      <td>NaN</td>\n",
       "      <td>NaN</td>\n",
       "      <td>NaN</td>\n",
       "      <td>NaN</td>\n",
       "      <td>NaN</td>\n",
       "      <td>NaN</td>\n",
       "    </tr>\n",
       "    <tr>\n",
       "      <th>...</th>\n",
       "      <td>...</td>\n",
       "      <td>...</td>\n",
       "      <td>...</td>\n",
       "      <td>...</td>\n",
       "      <td>...</td>\n",
       "      <td>...</td>\n",
       "      <td>...</td>\n",
       "      <td>...</td>\n",
       "      <td>...</td>\n",
       "      <td>...</td>\n",
       "      <td>...</td>\n",
       "      <td>...</td>\n",
       "      <td>...</td>\n",
       "      <td>...</td>\n",
       "      <td>...</td>\n",
       "      <td>...</td>\n",
       "      <td>...</td>\n",
       "      <td>...</td>\n",
       "      <td>...</td>\n",
       "      <td>...</td>\n",
       "      <td>...</td>\n",
       "    </tr>\n",
       "    <tr>\n",
       "      <th>25717</th>\n",
       "      <td>NaN</td>\n",
       "      <td>NaN</td>\n",
       "      <td>NaN</td>\n",
       "      <td>NaN</td>\n",
       "      <td>NaN</td>\n",
       "      <td>NaN</td>\n",
       "      <td>NaN</td>\n",
       "      <td>NaN</td>\n",
       "      <td>NaN</td>\n",
       "      <td>NaN</td>\n",
       "      <td>...</td>\n",
       "      <td>NaN</td>\n",
       "      <td>NaN</td>\n",
       "      <td>NaN</td>\n",
       "      <td>NaN</td>\n",
       "      <td>NaN</td>\n",
       "      <td>NaN</td>\n",
       "      <td>NaN</td>\n",
       "      <td>NaN</td>\n",
       "      <td>NaN</td>\n",
       "      <td>NaN</td>\n",
       "    </tr>\n",
       "    <tr>\n",
       "      <th>25718</th>\n",
       "      <td>NaN</td>\n",
       "      <td>NaN</td>\n",
       "      <td>NaN</td>\n",
       "      <td>NaN</td>\n",
       "      <td>NaN</td>\n",
       "      <td>NaN</td>\n",
       "      <td>NaN</td>\n",
       "      <td>NaN</td>\n",
       "      <td>NaN</td>\n",
       "      <td>NaN</td>\n",
       "      <td>...</td>\n",
       "      <td>NaN</td>\n",
       "      <td>NaN</td>\n",
       "      <td>NaN</td>\n",
       "      <td>NaN</td>\n",
       "      <td>NaN</td>\n",
       "      <td>NaN</td>\n",
       "      <td>NaN</td>\n",
       "      <td>NaN</td>\n",
       "      <td>NaN</td>\n",
       "      <td>NaN</td>\n",
       "    </tr>\n",
       "    <tr>\n",
       "      <th>25719</th>\n",
       "      <td>NaN</td>\n",
       "      <td>NaN</td>\n",
       "      <td>NaN</td>\n",
       "      <td>NaN</td>\n",
       "      <td>NaN</td>\n",
       "      <td>NaN</td>\n",
       "      <td>NaN</td>\n",
       "      <td>NaN</td>\n",
       "      <td>NaN</td>\n",
       "      <td>NaN</td>\n",
       "      <td>...</td>\n",
       "      <td>NaN</td>\n",
       "      <td>NaN</td>\n",
       "      <td>NaN</td>\n",
       "      <td>NaN</td>\n",
       "      <td>NaN</td>\n",
       "      <td>NaN</td>\n",
       "      <td>NaN</td>\n",
       "      <td>NaN</td>\n",
       "      <td>NaN</td>\n",
       "      <td>NaN</td>\n",
       "    </tr>\n",
       "    <tr>\n",
       "      <th>25720</th>\n",
       "      <td>NaN</td>\n",
       "      <td>NaN</td>\n",
       "      <td>NaN</td>\n",
       "      <td>NaN</td>\n",
       "      <td>NaN</td>\n",
       "      <td>NaN</td>\n",
       "      <td>NaN</td>\n",
       "      <td>NaN</td>\n",
       "      <td>NaN</td>\n",
       "      <td>NaN</td>\n",
       "      <td>...</td>\n",
       "      <td>NaN</td>\n",
       "      <td>NaN</td>\n",
       "      <td>NaN</td>\n",
       "      <td>NaN</td>\n",
       "      <td>NaN</td>\n",
       "      <td>NaN</td>\n",
       "      <td>NaN</td>\n",
       "      <td>NaN</td>\n",
       "      <td>NaN</td>\n",
       "      <td>NaN</td>\n",
       "    </tr>\n",
       "    <tr>\n",
       "      <th>25721</th>\n",
       "      <td>NaN</td>\n",
       "      <td>NaN</td>\n",
       "      <td>NaN</td>\n",
       "      <td>NaN</td>\n",
       "      <td>NaN</td>\n",
       "      <td>NaN</td>\n",
       "      <td>NaN</td>\n",
       "      <td>NaN</td>\n",
       "      <td>NaN</td>\n",
       "      <td>NaN</td>\n",
       "      <td>...</td>\n",
       "      <td>NaN</td>\n",
       "      <td>NaN</td>\n",
       "      <td>NaN</td>\n",
       "      <td>NaN</td>\n",
       "      <td>NaN</td>\n",
       "      <td>NaN</td>\n",
       "      <td>NaN</td>\n",
       "      <td>NaN</td>\n",
       "      <td>NaN</td>\n",
       "      <td>NaN</td>\n",
       "    </tr>\n",
       "  </tbody>\n",
       "</table>\n",
       "<p>17020 rows × 24 columns</p>\n",
       "</div>"
      ],
      "text/plain": [
       "      Case Number Date  Year Type Country Area Location Activity Name Sex   \\\n",
       "8702          NaN  NaN   NaN  NaN     NaN  NaN      NaN      NaN  NaN  NaN   \n",
       "8703          NaN  NaN   NaN  NaN     NaN  NaN      NaN      NaN  NaN  NaN   \n",
       "8704          NaN  NaN   NaN  NaN     NaN  NaN      NaN      NaN  NaN  NaN   \n",
       "8705          NaN  NaN   NaN  NaN     NaN  NaN      NaN      NaN  NaN  NaN   \n",
       "8706          NaN  NaN   NaN  NaN     NaN  NaN      NaN      NaN  NaN  NaN   \n",
       "...           ...  ...   ...  ...     ...  ...      ...      ...  ...  ...   \n",
       "25717         NaN  NaN   NaN  NaN     NaN  NaN      NaN      NaN  NaN  NaN   \n",
       "25718         NaN  NaN   NaN  NaN     NaN  NaN      NaN      NaN  NaN  NaN   \n",
       "25719         NaN  NaN   NaN  NaN     NaN  NaN      NaN      NaN  NaN  NaN   \n",
       "25720         NaN  NaN   NaN  NaN     NaN  NaN      NaN      NaN  NaN  NaN   \n",
       "25721         NaN  NaN   NaN  NaN     NaN  NaN      NaN      NaN  NaN  NaN   \n",
       "\n",
       "       ... Species  Investigator or Source  pdf href formula href  \\\n",
       "8702   ...      NaN                    NaN  NaN          NaN  NaN   \n",
       "8703   ...      NaN                    NaN  NaN          NaN  NaN   \n",
       "8704   ...      NaN                    NaN  NaN          NaN  NaN   \n",
       "8705   ...      NaN                    NaN  NaN          NaN  NaN   \n",
       "8706   ...      NaN                    NaN  NaN          NaN  NaN   \n",
       "...    ...      ...                    ...  ...          ...  ...   \n",
       "25717  ...      NaN                    NaN  NaN          NaN  NaN   \n",
       "25718  ...      NaN                    NaN  NaN          NaN  NaN   \n",
       "25719  ...      NaN                    NaN  NaN          NaN  NaN   \n",
       "25720  ...      NaN                    NaN  NaN          NaN  NaN   \n",
       "25721  ...      NaN                    NaN  NaN          NaN  NaN   \n",
       "\n",
       "      Case Number.1 Case Number.2 original order Unnamed: 22 Unnamed: 23  \n",
       "8702            NaN           NaN            NaN         NaN         NaN  \n",
       "8703            NaN           NaN            NaN         NaN         NaN  \n",
       "8704            NaN           NaN            NaN         NaN         NaN  \n",
       "8705            NaN           NaN            NaN         NaN         NaN  \n",
       "8706            NaN           NaN            NaN         NaN         NaN  \n",
       "...             ...           ...            ...         ...         ...  \n",
       "25717           NaN           NaN            NaN         NaN         NaN  \n",
       "25718           NaN           NaN            NaN         NaN         NaN  \n",
       "25719           NaN           NaN            NaN         NaN         NaN  \n",
       "25720           NaN           NaN            NaN         NaN         NaN  \n",
       "25721           NaN           NaN            NaN         NaN         NaN  \n",
       "\n",
       "[17020 rows x 24 columns]"
      ]
     },
     "execution_count": 104,
     "metadata": {},
     "output_type": "execute_result"
    }
   ],
   "source": [
    "df[df.isna().sum(axis=1)==df.shape[1]]"
   ]
  },
  {
   "cell_type": "code",
   "execution_count": 105,
   "id": "f620c81f",
   "metadata": {
    "scrolled": true
   },
   "outputs": [
    {
     "name": "stdout",
     "output_type": "stream",
     "text": [
      "<class 'pandas.core.frame.DataFrame'>\n",
      "Index: 8703 entries, 0 to 25722\n",
      "Data columns (total 24 columns):\n",
      " #   Column                  Non-Null Count  Dtype  \n",
      "---  ------                  --------------  -----  \n",
      " 0   Case Number             8702 non-null   object \n",
      " 1   Date                    6302 non-null   object \n",
      " 2   Year                    6300 non-null   float64\n",
      " 3   Type                    6298 non-null   object \n",
      " 4   Country                 6252 non-null   object \n",
      " 5   Area                    5847 non-null   object \n",
      " 6   Location                5762 non-null   object \n",
      " 7   Activity                5758 non-null   object \n",
      " 8   Name                    6092 non-null   object \n",
      " 9   Sex                     5737 non-null   object \n",
      " 10  Age                     3471 non-null   object \n",
      " 11  Injury                  6274 non-null   object \n",
      " 12  Fatal (Y/N)             5763 non-null   object \n",
      " 13  Time                    2948 non-null   object \n",
      " 14  Species                 3464 non-null   object \n",
      " 15  Investigator or Source  6285 non-null   object \n",
      " 16  pdf                     6302 non-null   object \n",
      " 17  href formula            6301 non-null   object \n",
      " 18  href                    6302 non-null   object \n",
      " 19  Case Number.1           6302 non-null   object \n",
      " 20  Case Number.2           6302 non-null   object \n",
      " 21  original order          6309 non-null   float64\n",
      " 22  Unnamed: 22             1 non-null      object \n",
      " 23  Unnamed: 23             2 non-null      object \n",
      "dtypes: float64(2), object(22)\n",
      "memory usage: 1.7+ MB\n"
     ]
    }
   ],
   "source": [
    "df.dropna(how=\"all\",inplace=True) # how=\"all\", 'cause the default is how=\"any\", but i only want to drop the ENTIRELY empty rows ## inplace=True, 'cause i want to save the alterations, overwriting the dataframe\n",
    "df.info()"
   ]
  },
  {
   "cell_type": "markdown",
   "id": "0a2a6406",
   "metadata": {},
   "source": [
    "**Duplicates**\n"
   ]
  },
  {
   "cell_type": "code",
   "execution_count": 106,
   "id": "63d508cd",
   "metadata": {},
   "outputs": [
    {
     "data": {
      "text/plain": [
       "2392"
      ]
     },
     "execution_count": 106,
     "metadata": {},
     "output_type": "execute_result"
    }
   ],
   "source": [
    "df.duplicated().sum()"
   ]
  },
  {
   "cell_type": "code",
   "execution_count": 107,
   "id": "9ba92284",
   "metadata": {},
   "outputs": [
    {
     "data": {
      "text/html": [
       "<div>\n",
       "<style scoped>\n",
       "    .dataframe tbody tr th:only-of-type {\n",
       "        vertical-align: middle;\n",
       "    }\n",
       "\n",
       "    .dataframe tbody tr th {\n",
       "        vertical-align: top;\n",
       "    }\n",
       "\n",
       "    .dataframe thead th {\n",
       "        text-align: right;\n",
       "    }\n",
       "</style>\n",
       "<table border=\"1\" class=\"dataframe\">\n",
       "  <thead>\n",
       "    <tr style=\"text-align: right;\">\n",
       "      <th></th>\n",
       "      <th>Case Number</th>\n",
       "      <th>Date</th>\n",
       "      <th>Year</th>\n",
       "      <th>Type</th>\n",
       "      <th>Country</th>\n",
       "      <th>Area</th>\n",
       "      <th>Location</th>\n",
       "      <th>Activity</th>\n",
       "      <th>Name</th>\n",
       "      <th>Sex</th>\n",
       "      <th>...</th>\n",
       "      <th>Species</th>\n",
       "      <th>Investigator or Source</th>\n",
       "      <th>pdf</th>\n",
       "      <th>href formula</th>\n",
       "      <th>href</th>\n",
       "      <th>Case Number.1</th>\n",
       "      <th>Case Number.2</th>\n",
       "      <th>original order</th>\n",
       "      <th>Unnamed: 22</th>\n",
       "      <th>Unnamed: 23</th>\n",
       "    </tr>\n",
       "  </thead>\n",
       "  <tbody>\n",
       "    <tr>\n",
       "      <th>6310</th>\n",
       "      <td>0</td>\n",
       "      <td>NaN</td>\n",
       "      <td>NaN</td>\n",
       "      <td>NaN</td>\n",
       "      <td>NaN</td>\n",
       "      <td>NaN</td>\n",
       "      <td>NaN</td>\n",
       "      <td>NaN</td>\n",
       "      <td>NaN</td>\n",
       "      <td>NaN</td>\n",
       "      <td>...</td>\n",
       "      <td>NaN</td>\n",
       "      <td>NaN</td>\n",
       "      <td>NaN</td>\n",
       "      <td>NaN</td>\n",
       "      <td>NaN</td>\n",
       "      <td>NaN</td>\n",
       "      <td>NaN</td>\n",
       "      <td>NaN</td>\n",
       "      <td>NaN</td>\n",
       "      <td>NaN</td>\n",
       "    </tr>\n",
       "    <tr>\n",
       "      <th>6311</th>\n",
       "      <td>0</td>\n",
       "      <td>NaN</td>\n",
       "      <td>NaN</td>\n",
       "      <td>NaN</td>\n",
       "      <td>NaN</td>\n",
       "      <td>NaN</td>\n",
       "      <td>NaN</td>\n",
       "      <td>NaN</td>\n",
       "      <td>NaN</td>\n",
       "      <td>NaN</td>\n",
       "      <td>...</td>\n",
       "      <td>NaN</td>\n",
       "      <td>NaN</td>\n",
       "      <td>NaN</td>\n",
       "      <td>NaN</td>\n",
       "      <td>NaN</td>\n",
       "      <td>NaN</td>\n",
       "      <td>NaN</td>\n",
       "      <td>NaN</td>\n",
       "      <td>NaN</td>\n",
       "      <td>NaN</td>\n",
       "    </tr>\n",
       "    <tr>\n",
       "      <th>6312</th>\n",
       "      <td>0</td>\n",
       "      <td>NaN</td>\n",
       "      <td>NaN</td>\n",
       "      <td>NaN</td>\n",
       "      <td>NaN</td>\n",
       "      <td>NaN</td>\n",
       "      <td>NaN</td>\n",
       "      <td>NaN</td>\n",
       "      <td>NaN</td>\n",
       "      <td>NaN</td>\n",
       "      <td>...</td>\n",
       "      <td>NaN</td>\n",
       "      <td>NaN</td>\n",
       "      <td>NaN</td>\n",
       "      <td>NaN</td>\n",
       "      <td>NaN</td>\n",
       "      <td>NaN</td>\n",
       "      <td>NaN</td>\n",
       "      <td>NaN</td>\n",
       "      <td>NaN</td>\n",
       "      <td>NaN</td>\n",
       "    </tr>\n",
       "    <tr>\n",
       "      <th>6313</th>\n",
       "      <td>0</td>\n",
       "      <td>NaN</td>\n",
       "      <td>NaN</td>\n",
       "      <td>NaN</td>\n",
       "      <td>NaN</td>\n",
       "      <td>NaN</td>\n",
       "      <td>NaN</td>\n",
       "      <td>NaN</td>\n",
       "      <td>NaN</td>\n",
       "      <td>NaN</td>\n",
       "      <td>...</td>\n",
       "      <td>NaN</td>\n",
       "      <td>NaN</td>\n",
       "      <td>NaN</td>\n",
       "      <td>NaN</td>\n",
       "      <td>NaN</td>\n",
       "      <td>NaN</td>\n",
       "      <td>NaN</td>\n",
       "      <td>NaN</td>\n",
       "      <td>NaN</td>\n",
       "      <td>NaN</td>\n",
       "    </tr>\n",
       "    <tr>\n",
       "      <th>6314</th>\n",
       "      <td>0</td>\n",
       "      <td>NaN</td>\n",
       "      <td>NaN</td>\n",
       "      <td>NaN</td>\n",
       "      <td>NaN</td>\n",
       "      <td>NaN</td>\n",
       "      <td>NaN</td>\n",
       "      <td>NaN</td>\n",
       "      <td>NaN</td>\n",
       "      <td>NaN</td>\n",
       "      <td>...</td>\n",
       "      <td>NaN</td>\n",
       "      <td>NaN</td>\n",
       "      <td>NaN</td>\n",
       "      <td>NaN</td>\n",
       "      <td>NaN</td>\n",
       "      <td>NaN</td>\n",
       "      <td>NaN</td>\n",
       "      <td>NaN</td>\n",
       "      <td>NaN</td>\n",
       "      <td>NaN</td>\n",
       "    </tr>\n",
       "    <tr>\n",
       "      <th>...</th>\n",
       "      <td>...</td>\n",
       "      <td>...</td>\n",
       "      <td>...</td>\n",
       "      <td>...</td>\n",
       "      <td>...</td>\n",
       "      <td>...</td>\n",
       "      <td>...</td>\n",
       "      <td>...</td>\n",
       "      <td>...</td>\n",
       "      <td>...</td>\n",
       "      <td>...</td>\n",
       "      <td>...</td>\n",
       "      <td>...</td>\n",
       "      <td>...</td>\n",
       "      <td>...</td>\n",
       "      <td>...</td>\n",
       "      <td>...</td>\n",
       "      <td>...</td>\n",
       "      <td>...</td>\n",
       "      <td>...</td>\n",
       "      <td>...</td>\n",
       "    </tr>\n",
       "    <tr>\n",
       "      <th>8697</th>\n",
       "      <td>0</td>\n",
       "      <td>NaN</td>\n",
       "      <td>NaN</td>\n",
       "      <td>NaN</td>\n",
       "      <td>NaN</td>\n",
       "      <td>NaN</td>\n",
       "      <td>NaN</td>\n",
       "      <td>NaN</td>\n",
       "      <td>NaN</td>\n",
       "      <td>NaN</td>\n",
       "      <td>...</td>\n",
       "      <td>NaN</td>\n",
       "      <td>NaN</td>\n",
       "      <td>NaN</td>\n",
       "      <td>NaN</td>\n",
       "      <td>NaN</td>\n",
       "      <td>NaN</td>\n",
       "      <td>NaN</td>\n",
       "      <td>NaN</td>\n",
       "      <td>NaN</td>\n",
       "      <td>NaN</td>\n",
       "    </tr>\n",
       "    <tr>\n",
       "      <th>8698</th>\n",
       "      <td>0</td>\n",
       "      <td>NaN</td>\n",
       "      <td>NaN</td>\n",
       "      <td>NaN</td>\n",
       "      <td>NaN</td>\n",
       "      <td>NaN</td>\n",
       "      <td>NaN</td>\n",
       "      <td>NaN</td>\n",
       "      <td>NaN</td>\n",
       "      <td>NaN</td>\n",
       "      <td>...</td>\n",
       "      <td>NaN</td>\n",
       "      <td>NaN</td>\n",
       "      <td>NaN</td>\n",
       "      <td>NaN</td>\n",
       "      <td>NaN</td>\n",
       "      <td>NaN</td>\n",
       "      <td>NaN</td>\n",
       "      <td>NaN</td>\n",
       "      <td>NaN</td>\n",
       "      <td>NaN</td>\n",
       "    </tr>\n",
       "    <tr>\n",
       "      <th>8699</th>\n",
       "      <td>0</td>\n",
       "      <td>NaN</td>\n",
       "      <td>NaN</td>\n",
       "      <td>NaN</td>\n",
       "      <td>NaN</td>\n",
       "      <td>NaN</td>\n",
       "      <td>NaN</td>\n",
       "      <td>NaN</td>\n",
       "      <td>NaN</td>\n",
       "      <td>NaN</td>\n",
       "      <td>...</td>\n",
       "      <td>NaN</td>\n",
       "      <td>NaN</td>\n",
       "      <td>NaN</td>\n",
       "      <td>NaN</td>\n",
       "      <td>NaN</td>\n",
       "      <td>NaN</td>\n",
       "      <td>NaN</td>\n",
       "      <td>NaN</td>\n",
       "      <td>NaN</td>\n",
       "      <td>NaN</td>\n",
       "    </tr>\n",
       "    <tr>\n",
       "      <th>8700</th>\n",
       "      <td>0</td>\n",
       "      <td>NaN</td>\n",
       "      <td>NaN</td>\n",
       "      <td>NaN</td>\n",
       "      <td>NaN</td>\n",
       "      <td>NaN</td>\n",
       "      <td>NaN</td>\n",
       "      <td>NaN</td>\n",
       "      <td>NaN</td>\n",
       "      <td>NaN</td>\n",
       "      <td>...</td>\n",
       "      <td>NaN</td>\n",
       "      <td>NaN</td>\n",
       "      <td>NaN</td>\n",
       "      <td>NaN</td>\n",
       "      <td>NaN</td>\n",
       "      <td>NaN</td>\n",
       "      <td>NaN</td>\n",
       "      <td>NaN</td>\n",
       "      <td>NaN</td>\n",
       "      <td>NaN</td>\n",
       "    </tr>\n",
       "    <tr>\n",
       "      <th>8701</th>\n",
       "      <td>0</td>\n",
       "      <td>NaN</td>\n",
       "      <td>NaN</td>\n",
       "      <td>NaN</td>\n",
       "      <td>NaN</td>\n",
       "      <td>NaN</td>\n",
       "      <td>NaN</td>\n",
       "      <td>NaN</td>\n",
       "      <td>NaN</td>\n",
       "      <td>NaN</td>\n",
       "      <td>...</td>\n",
       "      <td>NaN</td>\n",
       "      <td>NaN</td>\n",
       "      <td>NaN</td>\n",
       "      <td>NaN</td>\n",
       "      <td>NaN</td>\n",
       "      <td>NaN</td>\n",
       "      <td>NaN</td>\n",
       "      <td>NaN</td>\n",
       "      <td>NaN</td>\n",
       "      <td>NaN</td>\n",
       "    </tr>\n",
       "  </tbody>\n",
       "</table>\n",
       "<p>2392 rows × 24 columns</p>\n",
       "</div>"
      ],
      "text/plain": [
       "     Case Number Date  Year Type Country Area Location Activity Name Sex   \\\n",
       "6310           0  NaN   NaN  NaN     NaN  NaN      NaN      NaN  NaN  NaN   \n",
       "6311           0  NaN   NaN  NaN     NaN  NaN      NaN      NaN  NaN  NaN   \n",
       "6312           0  NaN   NaN  NaN     NaN  NaN      NaN      NaN  NaN  NaN   \n",
       "6313           0  NaN   NaN  NaN     NaN  NaN      NaN      NaN  NaN  NaN   \n",
       "6314           0  NaN   NaN  NaN     NaN  NaN      NaN      NaN  NaN  NaN   \n",
       "...          ...  ...   ...  ...     ...  ...      ...      ...  ...  ...   \n",
       "8697           0  NaN   NaN  NaN     NaN  NaN      NaN      NaN  NaN  NaN   \n",
       "8698           0  NaN   NaN  NaN     NaN  NaN      NaN      NaN  NaN  NaN   \n",
       "8699           0  NaN   NaN  NaN     NaN  NaN      NaN      NaN  NaN  NaN   \n",
       "8700           0  NaN   NaN  NaN     NaN  NaN      NaN      NaN  NaN  NaN   \n",
       "8701           0  NaN   NaN  NaN     NaN  NaN      NaN      NaN  NaN  NaN   \n",
       "\n",
       "      ... Species  Investigator or Source  pdf href formula href  \\\n",
       "6310  ...      NaN                    NaN  NaN          NaN  NaN   \n",
       "6311  ...      NaN                    NaN  NaN          NaN  NaN   \n",
       "6312  ...      NaN                    NaN  NaN          NaN  NaN   \n",
       "6313  ...      NaN                    NaN  NaN          NaN  NaN   \n",
       "6314  ...      NaN                    NaN  NaN          NaN  NaN   \n",
       "...   ...      ...                    ...  ...          ...  ...   \n",
       "8697  ...      NaN                    NaN  NaN          NaN  NaN   \n",
       "8698  ...      NaN                    NaN  NaN          NaN  NaN   \n",
       "8699  ...      NaN                    NaN  NaN          NaN  NaN   \n",
       "8700  ...      NaN                    NaN  NaN          NaN  NaN   \n",
       "8701  ...      NaN                    NaN  NaN          NaN  NaN   \n",
       "\n",
       "     Case Number.1 Case Number.2 original order Unnamed: 22 Unnamed: 23  \n",
       "6310           NaN           NaN            NaN         NaN         NaN  \n",
       "6311           NaN           NaN            NaN         NaN         NaN  \n",
       "6312           NaN           NaN            NaN         NaN         NaN  \n",
       "6313           NaN           NaN            NaN         NaN         NaN  \n",
       "6314           NaN           NaN            NaN         NaN         NaN  \n",
       "...            ...           ...            ...         ...         ...  \n",
       "8697           NaN           NaN            NaN         NaN         NaN  \n",
       "8698           NaN           NaN            NaN         NaN         NaN  \n",
       "8699           NaN           NaN            NaN         NaN         NaN  \n",
       "8700           NaN           NaN            NaN         NaN         NaN  \n",
       "8701           NaN           NaN            NaN         NaN         NaN  \n",
       "\n",
       "[2392 rows x 24 columns]"
      ]
     },
     "execution_count": 107,
     "metadata": {},
     "output_type": "execute_result"
    }
   ],
   "source": [
    "df[df.duplicated()]"
   ]
  },
  {
   "cell_type": "code",
   "execution_count": 108,
   "id": "dabf4ed9",
   "metadata": {},
   "outputs": [
    {
     "name": "stdout",
     "output_type": "stream",
     "text": [
      "<class 'pandas.core.frame.DataFrame'>\n",
      "RangeIndex: 6311 entries, 0 to 6310\n",
      "Data columns (total 24 columns):\n",
      " #   Column                  Non-Null Count  Dtype  \n",
      "---  ------                  --------------  -----  \n",
      " 0   Case Number             6310 non-null   object \n",
      " 1   Date                    6302 non-null   object \n",
      " 2   Year                    6300 non-null   float64\n",
      " 3   Type                    6298 non-null   object \n",
      " 4   Country                 6252 non-null   object \n",
      " 5   Area                    5847 non-null   object \n",
      " 6   Location                5762 non-null   object \n",
      " 7   Activity                5758 non-null   object \n",
      " 8   Name                    6092 non-null   object \n",
      " 9   Sex                     5737 non-null   object \n",
      " 10  Age                     3471 non-null   object \n",
      " 11  Injury                  6274 non-null   object \n",
      " 12  Fatal (Y/N)             5763 non-null   object \n",
      " 13  Time                    2948 non-null   object \n",
      " 14  Species                 3464 non-null   object \n",
      " 15  Investigator or Source  6285 non-null   object \n",
      " 16  pdf                     6302 non-null   object \n",
      " 17  href formula            6301 non-null   object \n",
      " 18  href                    6302 non-null   object \n",
      " 19  Case Number.1           6302 non-null   object \n",
      " 20  Case Number.2           6302 non-null   object \n",
      " 21  original order          6309 non-null   float64\n",
      " 22  Unnamed: 22             1 non-null      object \n",
      " 23  Unnamed: 23             2 non-null      object \n",
      "dtypes: float64(2), object(22)\n",
      "memory usage: 1.2+ MB\n"
     ]
    }
   ],
   "source": [
    "df.drop_duplicates(ignore_index=True,inplace=True)\n",
    "df.info()"
   ]
  },
  {
   "cell_type": "markdown",
   "id": "b4bd40d6",
   "metadata": {},
   "source": [
    "**Drop column which we don't need for analysis**"
   ]
  },
  {
   "cell_type": "code",
   "execution_count": 109,
   "id": "942804db",
   "metadata": {},
   "outputs": [],
   "source": [
    "\n",
    "df.drop(columns=['Unnamed: 22','Unnamed: 23','Case Number.1','Case Number.2', 'pdf', 'href formula','href'], inplace=True)"
   ]
  },
  {
   "cell_type": "markdown",
   "id": "f2807396",
   "metadata": {},
   "source": [
    "**Standardize columns**"
   ]
  },
  {
   "cell_type": "code",
   "execution_count": 110,
   "id": "8e7c804d",
   "metadata": {},
   "outputs": [
    {
     "data": {
      "text/html": [
       "<div>\n",
       "<style scoped>\n",
       "    .dataframe tbody tr th:only-of-type {\n",
       "        vertical-align: middle;\n",
       "    }\n",
       "\n",
       "    .dataframe tbody tr th {\n",
       "        vertical-align: top;\n",
       "    }\n",
       "\n",
       "    .dataframe thead th {\n",
       "        text-align: right;\n",
       "    }\n",
       "</style>\n",
       "<table border=\"1\" class=\"dataframe\">\n",
       "  <thead>\n",
       "    <tr style=\"text-align: right;\">\n",
       "      <th></th>\n",
       "      <th>case_number</th>\n",
       "      <th>date</th>\n",
       "      <th>year</th>\n",
       "      <th>type</th>\n",
       "      <th>country</th>\n",
       "      <th>area</th>\n",
       "      <th>location</th>\n",
       "      <th>activity</th>\n",
       "      <th>name</th>\n",
       "      <th>sex</th>\n",
       "      <th>age</th>\n",
       "      <th>injury</th>\n",
       "      <th>fatal_(y/n)</th>\n",
       "      <th>time</th>\n",
       "      <th>species</th>\n",
       "      <th>investigator_or_source</th>\n",
       "      <th>original_order</th>\n",
       "    </tr>\n",
       "  </thead>\n",
       "  <tbody>\n",
       "    <tr>\n",
       "      <th>0</th>\n",
       "      <td>2018.06.25</td>\n",
       "      <td>25-Jun-2018</td>\n",
       "      <td>2018.0</td>\n",
       "      <td>Boating</td>\n",
       "      <td>USA</td>\n",
       "      <td>California</td>\n",
       "      <td>Oceanside, San Diego County</td>\n",
       "      <td>Paddling</td>\n",
       "      <td>Julie Wolfe</td>\n",
       "      <td>F</td>\n",
       "      <td>57</td>\n",
       "      <td>No injury to occupant, outrigger canoe and pad...</td>\n",
       "      <td>N</td>\n",
       "      <td>18h00</td>\n",
       "      <td>White shark</td>\n",
       "      <td>R. Collier, GSAF</td>\n",
       "      <td>6303.0</td>\n",
       "    </tr>\n",
       "    <tr>\n",
       "      <th>1</th>\n",
       "      <td>2018.06.18</td>\n",
       "      <td>18-Jun-2018</td>\n",
       "      <td>2018.0</td>\n",
       "      <td>Unprovoked</td>\n",
       "      <td>USA</td>\n",
       "      <td>Georgia</td>\n",
       "      <td>St. Simon Island, Glynn County</td>\n",
       "      <td>Standing</td>\n",
       "      <td>Adyson McNeely</td>\n",
       "      <td>F</td>\n",
       "      <td>11</td>\n",
       "      <td>Minor injury to left thigh</td>\n",
       "      <td>N</td>\n",
       "      <td>14h00  -15h00</td>\n",
       "      <td>NaN</td>\n",
       "      <td>K.McMurray, TrackingSharks.com</td>\n",
       "      <td>6302.0</td>\n",
       "    </tr>\n",
       "    <tr>\n",
       "      <th>2</th>\n",
       "      <td>2018.06.09</td>\n",
       "      <td>09-Jun-2018</td>\n",
       "      <td>2018.0</td>\n",
       "      <td>Invalid</td>\n",
       "      <td>USA</td>\n",
       "      <td>Hawaii</td>\n",
       "      <td>Habush, Oahu</td>\n",
       "      <td>Surfing</td>\n",
       "      <td>John Denges</td>\n",
       "      <td>M</td>\n",
       "      <td>48</td>\n",
       "      <td>Injury to left lower leg from surfboard skeg</td>\n",
       "      <td>N</td>\n",
       "      <td>07h45</td>\n",
       "      <td>NaN</td>\n",
       "      <td>K.McMurray, TrackingSharks.com</td>\n",
       "      <td>6301.0</td>\n",
       "    </tr>\n",
       "    <tr>\n",
       "      <th>3</th>\n",
       "      <td>2018.06.08</td>\n",
       "      <td>08-Jun-2018</td>\n",
       "      <td>2018.0</td>\n",
       "      <td>Unprovoked</td>\n",
       "      <td>AUSTRALIA</td>\n",
       "      <td>New South Wales</td>\n",
       "      <td>Arrawarra Headland</td>\n",
       "      <td>Surfing</td>\n",
       "      <td>male</td>\n",
       "      <td>M</td>\n",
       "      <td>NaN</td>\n",
       "      <td>Minor injury to lower leg</td>\n",
       "      <td>N</td>\n",
       "      <td>NaN</td>\n",
       "      <td>2 m shark</td>\n",
       "      <td>B. Myatt, GSAF</td>\n",
       "      <td>6300.0</td>\n",
       "    </tr>\n",
       "    <tr>\n",
       "      <th>4</th>\n",
       "      <td>2018.06.04</td>\n",
       "      <td>04-Jun-2018</td>\n",
       "      <td>2018.0</td>\n",
       "      <td>Provoked</td>\n",
       "      <td>MEXICO</td>\n",
       "      <td>Colima</td>\n",
       "      <td>La Ticla</td>\n",
       "      <td>Free diving</td>\n",
       "      <td>Gustavo Ramos</td>\n",
       "      <td>M</td>\n",
       "      <td>NaN</td>\n",
       "      <td>Lacerations to leg &amp; hand shark PROVOKED INCIDENT</td>\n",
       "      <td>N</td>\n",
       "      <td>NaN</td>\n",
       "      <td>Tiger shark, 3m</td>\n",
       "      <td>A .Kipper</td>\n",
       "      <td>6299.0</td>\n",
       "    </tr>\n",
       "  </tbody>\n",
       "</table>\n",
       "</div>"
      ],
      "text/plain": [
       "  case_number         date    year        type    country             area  \\\n",
       "0  2018.06.25  25-Jun-2018  2018.0     Boating        USA       California   \n",
       "1  2018.06.18  18-Jun-2018  2018.0  Unprovoked        USA          Georgia   \n",
       "2  2018.06.09  09-Jun-2018  2018.0     Invalid        USA           Hawaii   \n",
       "3  2018.06.08  08-Jun-2018  2018.0  Unprovoked  AUSTRALIA  New South Wales   \n",
       "4  2018.06.04  04-Jun-2018  2018.0    Provoked     MEXICO           Colima   \n",
       "\n",
       "                         location     activity             name sex  age  \\\n",
       "0     Oceanside, San Diego County     Paddling      Julie Wolfe   F   57   \n",
       "1  St. Simon Island, Glynn County     Standing  Adyson McNeely    F   11   \n",
       "2                    Habush, Oahu      Surfing      John Denges   M   48   \n",
       "3              Arrawarra Headland      Surfing             male   M  NaN   \n",
       "4                        La Ticla  Free diving   Gustavo Ramos    M  NaN   \n",
       "\n",
       "                                              injury fatal_(y/n)  \\\n",
       "0  No injury to occupant, outrigger canoe and pad...           N   \n",
       "1                         Minor injury to left thigh           N   \n",
       "2       Injury to left lower leg from surfboard skeg           N   \n",
       "3                          Minor injury to lower leg           N   \n",
       "4  Lacerations to leg & hand shark PROVOKED INCIDENT           N   \n",
       "\n",
       "            time          species          investigator_or_source  \\\n",
       "0          18h00      White shark                R. Collier, GSAF   \n",
       "1  14h00  -15h00              NaN  K.McMurray, TrackingSharks.com   \n",
       "2          07h45              NaN  K.McMurray, TrackingSharks.com   \n",
       "3            NaN        2 m shark                  B. Myatt, GSAF   \n",
       "4            NaN  Tiger shark, 3m                       A .Kipper   \n",
       "\n",
       "   original_order  \n",
       "0          6303.0  \n",
       "1          6302.0  \n",
       "2          6301.0  \n",
       "3          6300.0  \n",
       "4          6299.0  "
      ]
     },
     "execution_count": 110,
     "metadata": {},
     "output_type": "execute_result"
    }
   ],
   "source": [
    "df.columns = df.columns.str.lower().str.replace(\" \", \"_\")\n",
    "df.rename(columns={'sex_': 'sex', 'species_': 'species'}, inplace=True)\n",
    "df.head()"
   ]
  },
  {
   "cell_type": "markdown",
   "id": "13637354",
   "metadata": {},
   "source": [
    "**dtypes**"
   ]
  },
  {
   "cell_type": "code",
   "execution_count": 111,
   "id": "d10c859a",
   "metadata": {},
   "outputs": [
    {
     "data": {
      "text/plain": [
       "case_number                object\n",
       "date                       object\n",
       "year                      float64\n",
       "type                       object\n",
       "country                    object\n",
       "area                       object\n",
       "location                   object\n",
       "activity                   object\n",
       "name                       object\n",
       "sex                        object\n",
       "age                        object\n",
       "injury                     object\n",
       "fatal_(y/n)                object\n",
       "time                       object\n",
       "species                    object\n",
       "investigator_or_source     object\n",
       "original_order            float64\n",
       "dtype: object"
      ]
     },
     "execution_count": 111,
     "metadata": {},
     "output_type": "execute_result"
    }
   ],
   "source": [
    "df.dtypes"
   ]
  },
  {
   "cell_type": "code",
   "execution_count": 112,
   "id": "3e15610e",
   "metadata": {},
   "outputs": [
    {
     "data": {
      "text/html": [
       "<div>\n",
       "<style scoped>\n",
       "    .dataframe tbody tr th:only-of-type {\n",
       "        vertical-align: middle;\n",
       "    }\n",
       "\n",
       "    .dataframe tbody tr th {\n",
       "        vertical-align: top;\n",
       "    }\n",
       "\n",
       "    .dataframe thead th {\n",
       "        text-align: right;\n",
       "    }\n",
       "</style>\n",
       "<table border=\"1\" class=\"dataframe\">\n",
       "  <thead>\n",
       "    <tr style=\"text-align: right;\">\n",
       "      <th></th>\n",
       "      <th>year</th>\n",
       "      <th>original_order</th>\n",
       "    </tr>\n",
       "  </thead>\n",
       "  <tbody>\n",
       "    <tr>\n",
       "      <th>count</th>\n",
       "      <td>6300.000000</td>\n",
       "      <td>6309.000000</td>\n",
       "    </tr>\n",
       "    <tr>\n",
       "      <th>mean</th>\n",
       "      <td>1927.272381</td>\n",
       "      <td>3155.999683</td>\n",
       "    </tr>\n",
       "    <tr>\n",
       "      <th>std</th>\n",
       "      <td>281.116308</td>\n",
       "      <td>1821.396206</td>\n",
       "    </tr>\n",
       "    <tr>\n",
       "      <th>min</th>\n",
       "      <td>0.000000</td>\n",
       "      <td>2.000000</td>\n",
       "    </tr>\n",
       "    <tr>\n",
       "      <th>25%</th>\n",
       "      <td>1942.000000</td>\n",
       "      <td>1579.000000</td>\n",
       "    </tr>\n",
       "    <tr>\n",
       "      <th>50%</th>\n",
       "      <td>1977.000000</td>\n",
       "      <td>3156.000000</td>\n",
       "    </tr>\n",
       "    <tr>\n",
       "      <th>75%</th>\n",
       "      <td>2005.000000</td>\n",
       "      <td>4733.000000</td>\n",
       "    </tr>\n",
       "    <tr>\n",
       "      <th>max</th>\n",
       "      <td>2018.000000</td>\n",
       "      <td>6310.000000</td>\n",
       "    </tr>\n",
       "  </tbody>\n",
       "</table>\n",
       "</div>"
      ],
      "text/plain": [
       "              year  original_order\n",
       "count  6300.000000     6309.000000\n",
       "mean   1927.272381     3155.999683\n",
       "std     281.116308     1821.396206\n",
       "min       0.000000        2.000000\n",
       "25%    1942.000000     1579.000000\n",
       "50%    1977.000000     3156.000000\n",
       "75%    2005.000000     4733.000000\n",
       "max    2018.000000     6310.000000"
      ]
     },
     "execution_count": 112,
     "metadata": {},
     "output_type": "execute_result"
    }
   ],
   "source": [
    "df.describe()"
   ]
  },
  {
   "cell_type": "code",
   "execution_count": 113,
   "id": "5464ee56",
   "metadata": {},
   "outputs": [
    {
     "data": {
      "text/html": [
       "<div>\n",
       "<style scoped>\n",
       "    .dataframe tbody tr th:only-of-type {\n",
       "        vertical-align: middle;\n",
       "    }\n",
       "\n",
       "    .dataframe tbody tr th {\n",
       "        vertical-align: top;\n",
       "    }\n",
       "\n",
       "    .dataframe thead th {\n",
       "        text-align: right;\n",
       "    }\n",
       "</style>\n",
       "<table border=\"1\" class=\"dataframe\">\n",
       "  <thead>\n",
       "    <tr style=\"text-align: right;\">\n",
       "      <th></th>\n",
       "      <th>case_number</th>\n",
       "      <th>date</th>\n",
       "      <th>type</th>\n",
       "      <th>country</th>\n",
       "      <th>area</th>\n",
       "      <th>location</th>\n",
       "      <th>activity</th>\n",
       "      <th>name</th>\n",
       "      <th>sex</th>\n",
       "      <th>age</th>\n",
       "      <th>injury</th>\n",
       "      <th>fatal_(y/n)</th>\n",
       "      <th>time</th>\n",
       "      <th>species</th>\n",
       "      <th>investigator_or_source</th>\n",
       "    </tr>\n",
       "  </thead>\n",
       "  <tbody>\n",
       "    <tr>\n",
       "      <th>count</th>\n",
       "      <td>6310</td>\n",
       "      <td>6302</td>\n",
       "      <td>6298</td>\n",
       "      <td>6252</td>\n",
       "      <td>5847</td>\n",
       "      <td>5762</td>\n",
       "      <td>5758</td>\n",
       "      <td>6092</td>\n",
       "      <td>5737</td>\n",
       "      <td>3471</td>\n",
       "      <td>6274</td>\n",
       "      <td>5763</td>\n",
       "      <td>2948</td>\n",
       "      <td>3464</td>\n",
       "      <td>6285</td>\n",
       "    </tr>\n",
       "    <tr>\n",
       "      <th>unique</th>\n",
       "      <td>6287</td>\n",
       "      <td>5433</td>\n",
       "      <td>8</td>\n",
       "      <td>212</td>\n",
       "      <td>825</td>\n",
       "      <td>4108</td>\n",
       "      <td>1532</td>\n",
       "      <td>5230</td>\n",
       "      <td>6</td>\n",
       "      <td>157</td>\n",
       "      <td>3737</td>\n",
       "      <td>8</td>\n",
       "      <td>366</td>\n",
       "      <td>1549</td>\n",
       "      <td>4969</td>\n",
       "    </tr>\n",
       "    <tr>\n",
       "      <th>top</th>\n",
       "      <td>0</td>\n",
       "      <td>1957</td>\n",
       "      <td>Unprovoked</td>\n",
       "      <td>USA</td>\n",
       "      <td>Florida</td>\n",
       "      <td>New Smyrna Beach, Volusia County</td>\n",
       "      <td>Surfing</td>\n",
       "      <td>male</td>\n",
       "      <td>M</td>\n",
       "      <td>17</td>\n",
       "      <td>FATAL</td>\n",
       "      <td>N</td>\n",
       "      <td>Afternoon</td>\n",
       "      <td>White shark</td>\n",
       "      <td>C. Moore, GSAF</td>\n",
       "    </tr>\n",
       "    <tr>\n",
       "      <th>freq</th>\n",
       "      <td>8</td>\n",
       "      <td>11</td>\n",
       "      <td>4595</td>\n",
       "      <td>2229</td>\n",
       "      <td>1037</td>\n",
       "      <td>163</td>\n",
       "      <td>971</td>\n",
       "      <td>550</td>\n",
       "      <td>5094</td>\n",
       "      <td>154</td>\n",
       "      <td>802</td>\n",
       "      <td>4293</td>\n",
       "      <td>187</td>\n",
       "      <td>163</td>\n",
       "      <td>105</td>\n",
       "    </tr>\n",
       "  </tbody>\n",
       "</table>\n",
       "</div>"
      ],
      "text/plain": [
       "       case_number  date        type country     area  \\\n",
       "count         6310  6302        6298    6252     5847   \n",
       "unique        6287  5433           8     212      825   \n",
       "top              0  1957  Unprovoked     USA  Florida   \n",
       "freq             8    11        4595    2229     1037   \n",
       "\n",
       "                                location activity  name   sex   age injury  \\\n",
       "count                               5762     5758  6092  5737  3471   6274   \n",
       "unique                              4108     1532  5230     6   157   3737   \n",
       "top     New Smyrna Beach, Volusia County  Surfing  male     M    17  FATAL   \n",
       "freq                                 163      971   550  5094   154    802   \n",
       "\n",
       "       fatal_(y/n)       time      species investigator_or_source  \n",
       "count         5763       2948         3464                   6285  \n",
       "unique           8        366         1549                   4969  \n",
       "top              N  Afternoon  White shark         C. Moore, GSAF  \n",
       "freq          4293        187          163                    105  "
      ]
     },
     "execution_count": 113,
     "metadata": {},
     "output_type": "execute_result"
    }
   ],
   "source": [
    "df.describe(include=\"object\")"
   ]
  },
  {
   "cell_type": "code",
   "execution_count": 114,
   "id": "297f2a2e",
   "metadata": {},
   "outputs": [
    {
     "data": {
      "text/plain": [
       "type\n",
       "Unprovoked      4595\n",
       "Provoked         574\n",
       "Invalid          547\n",
       "Sea Disaster     239\n",
       "Boating          203\n",
       "Boat             137\n",
       "NaN               13\n",
       "Questionable       2\n",
       "Boatomg            1\n",
       "Name: count, dtype: int64"
      ]
     },
     "metadata": {},
     "output_type": "display_data"
    },
    {
     "data": {
      "text/plain": [
       "sex\n",
       "M      5094\n",
       "F       637\n",
       "NaN     574\n",
       "M         2\n",
       "N         2\n",
       "lli       1\n",
       ".         1\n",
       "Name: count, dtype: int64"
      ]
     },
     "metadata": {},
     "output_type": "display_data"
    },
    {
     "data": {
      "text/plain": [
       "fatal_(y/n)\n",
       "N          4293\n",
       "Y          1388\n",
       "NaN         548\n",
       "UNKNOWN      71\n",
       " N            7\n",
       "M             1\n",
       "2017          1\n",
       "N             1\n",
       "y             1\n",
       "Name: count, dtype: int64"
      ]
     },
     "metadata": {},
     "output_type": "display_data"
    },
    {
     "data": {
      "text/plain": [
       "[None, None, None]"
      ]
     },
     "execution_count": 114,
     "metadata": {},
     "output_type": "execute_result"
    }
   ],
   "source": [
    "[display(df[col].value_counts(dropna=False)) for col in df.columns if df[col].nunique() <= 20]"
   ]
  },
  {
   "cell_type": "code",
   "execution_count": 115,
   "id": "6d46f4ad",
   "metadata": {},
   "outputs": [
    {
     "data": {
      "text/plain": [
       "sex\n",
       "M      5094\n",
       "F       637\n",
       "NaN     574\n",
       "M         2\n",
       "N         2\n",
       "lli       1\n",
       ".         1\n",
       "Name: count, dtype: int64"
      ]
     },
     "execution_count": 115,
     "metadata": {},
     "output_type": "execute_result"
    }
   ],
   "source": [
    "df[\"sex\"].value_counts(dropna=False)"
   ]
  },
  {
   "cell_type": "code",
   "execution_count": 116,
   "id": "90bda1a0",
   "metadata": {},
   "outputs": [
    {
     "data": {
      "text/plain": [
       "sex\n",
       "M    5674\n",
       "F     637\n",
       "Name: count, dtype: int64"
      ]
     },
     "execution_count": 116,
     "metadata": {},
     "output_type": "execute_result"
    }
   ],
   "source": [
    "df[\"sex\"].fillna(\"M\", inplace=True)\n",
    "df[\"sex\"].replace({\"M \":\"M\",\"N\":\"M\", \"lli\":\"M\",\".\":\"M\"}, inplace=True)\n",
    "df[\"sex\"].value_counts(dropna=False)"
   ]
  },
  {
   "cell_type": "code",
   "execution_count": 117,
   "id": "9c5ba1b6",
   "metadata": {},
   "outputs": [
    {
     "data": {
      "text/plain": [
       "type\n",
       "Unprovoked      4608\n",
       "Provoked         574\n",
       "Invalid          547\n",
       "Boating          341\n",
       "Sea Disaster     239\n",
       "Questionable       2\n",
       "Name: count, dtype: int64"
      ]
     },
     "execution_count": 117,
     "metadata": {},
     "output_type": "execute_result"
    }
   ],
   "source": [
    "df[\"type\"].fillna(\"Unprovoked\", inplace=True)\n",
    "df[\"type\"].replace({\"Boat\":\"Boating\",\"Boatomg\":\"Boating\"}, inplace=True)\n",
    "df[\"type\"].value_counts(dropna=False)"
   ]
  },
  {
   "cell_type": "code",
   "execution_count": 118,
   "id": "2fcb6c5a",
   "metadata": {},
   "outputs": [
    {
     "data": {
      "text/plain": [
       "fatal_(y/n)\n",
       "N          4301\n",
       "Y          1389\n",
       "UNKNOWN     621\n",
       "Name: count, dtype: int64"
      ]
     },
     "execution_count": 118,
     "metadata": {},
     "output_type": "execute_result"
    }
   ],
   "source": [
    "df[\"fatal_(y/n)\"].fillna(\"UNKNOWN\", inplace=True)\n",
    "df[\"fatal_(y/n)\"].replace({\" N\":\"N\",\"N \":\"N\", \"y\":\"Y\",\"M\":\"UNKNOWN\",\"2017\":\"UNKNOWN\"}, inplace=True)\n",
    "df[\"fatal_(y/n)\"].value_counts(dropna=False)"
   ]
  },
  {
   "cell_type": "code",
   "execution_count": 119,
   "id": "12a71346",
   "metadata": {},
   "outputs": [
    {
     "data": {
      "text/plain": [
       "case_number                  1\n",
       "date                         9\n",
       "year                        11\n",
       "type                         0\n",
       "country                     59\n",
       "area                       464\n",
       "location                   549\n",
       "activity                   553\n",
       "name                       219\n",
       "sex                          0\n",
       "age                       2840\n",
       "injury                      37\n",
       "fatal_(y/n)                  0\n",
       "time                      3363\n",
       "species                   2847\n",
       "investigator_or_source      26\n",
       "original_order               2\n",
       "dtype: int64"
      ]
     },
     "execution_count": 119,
     "metadata": {},
     "output_type": "execute_result"
    }
   ],
   "source": [
    "df.isna().sum()"
   ]
  },
  {
   "cell_type": "code",
   "execution_count": 120,
   "id": "fb318ccc",
   "metadata": {},
   "outputs": [
    {
     "data": {
      "text/plain": [
       "country\n",
       "USA                       2288\n",
       "AUSTRALIA                 1338\n",
       "SOUTH AFRICA               579\n",
       "PAPUA NEW GUINEA           134\n",
       "NEW ZEALAND                128\n",
       "                          ... \n",
       "MALDIVE ISLANDS              1\n",
       "NICARAGUA                    1\n",
       "NORTH SEA                    1\n",
       "RED SEA / INDIAN OCEAN       1\n",
       "CEYLON (SRI LANKA)           1\n",
       "Name: count, Length: 212, dtype: int64"
      ]
     },
     "execution_count": 120,
     "metadata": {},
     "output_type": "execute_result"
    }
   ],
   "source": [
    "df[\"country\"].fillna(\"USA\", inplace=True)\n",
    "df[\"country\"].value_counts(dropna=False)"
   ]
  },
  {
   "cell_type": "code",
   "execution_count": 121,
   "id": "ebeff1e6",
   "metadata": {},
   "outputs": [
    {
     "name": "stdout",
     "output_type": "stream",
     "text": [
      "Requirement already satisfied: pycountry in c:\\users\\tetiana\\anaconda3\\lib\\site-packages (23.12.11)\n"
     ]
    }
   ],
   "source": [
    "!pip install pycountry\n",
    "import pycountry\n"
   ]
  },
  {
   "cell_type": "code",
   "execution_count": 122,
   "id": "5327beb1",
   "metadata": {},
   "outputs": [],
   "source": [
    "manual_mapping = {\n",
    "    'United States': 'USA'\n",
    "}\n",
    "\n",
    "# Функция для получения ISO-кода страны с учетом ручного соответствия\n",
    "def get_country_code(country_name):\n",
    "    if country_name in manual_mapping:\n",
    "        return manual_mapping[country_name]\n",
    "    country = pycountry.countries.get(name=country_name)\n",
    "    if country:\n",
    "        return country.alpha_3\n",
    "    else:\n",
    "        return None\n",
    "\n",
    "# Применение функции к DataFrame\n",
    "df['iso_code'] = df['country'].apply(get_country_code)"
   ]
  },
  {
   "cell_type": "code",
   "execution_count": 123,
   "id": "fcdadf7d",
   "metadata": {},
   "outputs": [
    {
     "data": {
      "text/plain": [
       "iso_code\n",
       "US     2703\n",
       "AUS    1338\n",
       "ZAF     579\n",
       "PNG     134\n",
       "NZL     128\n",
       "       ... \n",
       "BGD       1\n",
       "AGO       1\n",
       "ABW       1\n",
       "PRI       1\n",
       "DJI       1\n",
       "Name: count, Length: 109, dtype: int64"
      ]
     },
     "execution_count": 123,
     "metadata": {},
     "output_type": "execute_result"
    }
   ],
   "source": [
    "df['iso_code'].fillna('US', inplace=True)\n",
    "df['iso_code'].value_counts(dropna=False)"
   ]
  },
  {
   "cell_type": "code",
   "execution_count": 124,
   "id": "edb942a5",
   "metadata": {},
   "outputs": [
    {
     "data": {
      "text/plain": [
       "area\n",
       "Florida                                 1501\n",
       "New South Wales                          486\n",
       "Queensland                               311\n",
       "Hawaii                                   298\n",
       "California                               290\n",
       "                                        ... \n",
       "Ysabel Island                              1\n",
       " Lau Province                              1\n",
       "South Coast, East New Britain              1\n",
       "Between Southampton & Canary Islands       1\n",
       "Moala Island                               1\n",
       "Name: count, Length: 825, dtype: int64"
      ]
     },
     "execution_count": 124,
     "metadata": {},
     "output_type": "execute_result"
    }
   ],
   "source": [
    "df[\"area\"].fillna(\"Florida\", inplace=True)\n",
    "df[\"area\"].value_counts(dropna=False)"
   ]
  },
  {
   "cell_type": "code",
   "execution_count": 125,
   "id": "ce67f437",
   "metadata": {},
   "outputs": [
    {
     "data": {
      "text/plain": [
       "location\n",
       "New Smyrna Beach, Volusia County                  712\n",
       "Daytona Beach, Volusia County                      30\n",
       "Ponce Inlet, Volusia County                        20\n",
       "Melbourne Beach, Brevard County                    18\n",
       "Myrtle Beach, Horry County                         17\n",
       "                                                 ... \n",
       "Whale Beach                                         1\n",
       "l'Anse-Vata                                         1\n",
       "Hole-in-the Wall                                    1\n",
       "Wreck of the Navy Barge, 22 miles SE of Rudee       1\n",
       "Below the English fort, Trincomalee                 1\n",
       "Name: count, Length: 4108, dtype: int64"
      ]
     },
     "execution_count": 125,
     "metadata": {},
     "output_type": "execute_result"
    }
   ],
   "source": [
    "df[\"location\"].fillna(\"New Smyrna Beach, Volusia County\", inplace=True)\n",
    "df[\"location\"].value_counts(dropna=False)"
   ]
  },
  {
   "cell_type": "code",
   "execution_count": 126,
   "id": "65e8139a",
   "metadata": {},
   "outputs": [],
   "source": [
    "df[\"activity\"].fillna(\"Surfing\", inplace=True)"
   ]
  },
  {
   "cell_type": "code",
   "execution_count": 127,
   "id": "1ced136d",
   "metadata": {},
   "outputs": [
    {
     "name": "stdout",
     "output_type": "stream",
     "text": [
      "activity\n",
      "Surfing                                 1579\n",
      "Swimming                                1076\n",
      "Fishing                                  633\n",
      "Spearfishing                             333\n",
      "Diving                                   239\n",
      "                                        ... \n",
      "Free diving, carrying speargun             1\n",
      "Hunting crayfish                           1\n",
      "Netting sharks                             1\n",
      "Lobster diving using Scuba                 1\n",
      "Wreck of  large double sailing canoe       1\n",
      "Name: count, Length: 1024, dtype: int64\n"
     ]
    }
   ],
   "source": [
    "replacements = {\n",
    "    'Surfing': r'^.*Surfing.*$',\n",
    "    'Swimming': r'^.*Swimming.*$',\n",
    "    'Fishing': r'^.*Fishing.*$',\n",
    "    'Bathing': r'^.*Bathing.*$',\n",
    "    'Diving': r'^.*Diving.*$',\n",
    "    'Wading': r'^.*Wading.*$',\n",
    "    'Standing': r'^.*Standing.*$',\n",
    "    'Snorkeling': r'^.*Snorkeling.*$',\n",
    "    'Swimming': r'^.*Swimming.*$',\n",
    "    'Kayaking': r'^.*Kayaking.*$',\n",
    "    'Fell overboard': r'^.*Fell overboard.*$',\n",
    "    'Walking': r'^.*Walking.*$',\n",
    "    'Floating': r'^.*Floating.*$',\n",
    "    # Add other replacements for body parts as needed\n",
    "}\n",
    "\n",
    "# Iterate through the replacements and apply them to the DataFrame\n",
    "for replacement, pattern in replacements.items():\n",
    "    df['activity'] = df['activity'].replace(to_replace=pattern, value=replacement, regex=True)\n",
    "\n",
    "# Display the modified DataFrame\n",
    "print(df['activity'].value_counts())"
   ]
  },
  {
   "cell_type": "code",
   "execution_count": 128,
   "id": "b690f88d",
   "metadata": {},
   "outputs": [],
   "source": [
    "threshold = 10  \n",
    "activity_counts = df['activity'].value_counts()\n",
    "rare_activities = activity_counts[activity_counts < threshold].index.tolist()\n",
    "\n",
    "\n",
    "df['activity'].replace(rare_activities, 'Other', inplace=True)"
   ]
  },
  {
   "cell_type": "code",
   "execution_count": 129,
   "id": "44abb234",
   "metadata": {},
   "outputs": [
    {
     "data": {
      "text/plain": [
       "activity\n",
       "Surfing            1579\n",
       "Other              1278\n",
       "Swimming           1076\n",
       "Fishing             633\n",
       "Spearfishing        333\n",
       "Diving              239\n",
       "Bathing             184\n",
       "Wading              166\n",
       "Standing            127\n",
       "Snorkeling           94\n",
       "Scuba diving         76\n",
       "Body boarding        61\n",
       "Fell overboard       54\n",
       "Body surfing         49\n",
       "Floating             46\n",
       "Kayaking             37\n",
       "Treading water       32\n",
       "Pearl diving         32\n",
       "Boogie boarding      29\n",
       "Free diving          29\n",
       "Walking              26\n",
       "Windsurfing          19\n",
       "Boogie Boarding      16\n",
       "Shark fishing        15\n",
       "Canoeing             13\n",
       "Surf fishing         12\n",
       "Surf-skiing          12\n",
       "Rowing               12\n",
       "Surf skiing          12\n",
       "Freediving           10\n",
       "Sponge diving        10\n",
       "Name: count, dtype: int64"
      ]
     },
     "execution_count": 129,
     "metadata": {},
     "output_type": "execute_result"
    }
   ],
   "source": [
    "df[\"activity\"].value_counts(dropna=False)"
   ]
  },
  {
   "cell_type": "code",
   "execution_count": 130,
   "id": "56fe916d",
   "metadata": {},
   "outputs": [
    {
     "data": {
      "text/plain": [
       "activity\n",
       "Surfing           1628\n",
       "Other             1278\n",
       "Swimming          1076\n",
       "Fishing            981\n",
       "Diving             335\n",
       "Bathing            184\n",
       "Wading             166\n",
       "Standing           127\n",
       "Boarding           106\n",
       "Snorkeling          94\n",
       "Fell overboard      54\n",
       "Floating            46\n",
       "Kayaking            37\n",
       "Treading water      32\n",
       "Pearl diving        32\n",
       "Free diving         29\n",
       "Walking             26\n",
       "Surf-skiing         24\n",
       "Windsurfing         19\n",
       "Canoeing            13\n",
       "Surf fishing        12\n",
       "Rowing              12\n",
       "Name: count, dtype: int64"
      ]
     },
     "execution_count": 130,
     "metadata": {},
     "output_type": "execute_result"
    }
   ],
   "source": [
    "df['activity'] = df['activity'].replace({\"Spearfishing\":\"Fishing\",\"Scuba diving\":\"Diving\",\"Body surfing\":\"Surfing\", \"Pearl diving \":\"Diving\", \"Shark fishing\":\"Fishing\", \"Freediving\":\"Diving\",\"Sponge diving\":\"Diving\",\"Surf skiing\":\"Surf-skiing\", \"Body boarding\":\"Boarding\", \"Boogie boarding\":\"Boarding\", \"Boogie Boarding\":\"Boarding\"})\n",
    "df[\"activity\"].value_counts(dropna=False)"
   ]
  },
  {
   "cell_type": "code",
   "execution_count": 131,
   "id": "7043caf1",
   "metadata": {},
   "outputs": [
    {
     "data": {
      "text/plain": [
       "activity\n",
       "Surfing           1647\n",
       "Swimming          1306\n",
       "Other             1278\n",
       "Fishing            993\n",
       "Diving             367\n",
       "Wading             166\n",
       "Standing           127\n",
       "Boarding           106\n",
       "Snorkeling          94\n",
       "Fell overboard      54\n",
       "Boating             50\n",
       "Treading water      32\n",
       "Free diving         29\n",
       "Walking             26\n",
       "Surf-skiing         24\n",
       "Rowing              12\n",
       "Name: count, dtype: int64"
      ]
     },
     "execution_count": 131,
     "metadata": {},
     "output_type": "execute_result"
    }
   ],
   "source": [
    "df['activity'] = df['activity'].replace({\"Pearl diving\":\"Diving\",\"Scuba diving\":\"Diving\",\"Surf fishing\":\"Fishing\", \"Kayaking\":\"Boating\", \"Canoeing\":\"Boating\", \"Floating\":\"Swimming\",\"Bathing\":\"Swimming\",\"Windsurfing\":\"Surfing\"})\n",
    "df[\"activity\"].value_counts(dropna=False)"
   ]
  },
  {
   "cell_type": "code",
   "execution_count": 132,
   "id": "a4e90c16",
   "metadata": {},
   "outputs": [
    {
     "name": "stdout",
     "output_type": "stream",
     "text": [
      "activity\n",
      "Water Sports        2977\n",
      "Water Activities    1849\n",
      "Other               1278\n",
      "Stationary           127\n",
      "Accidents             54\n",
      "Land Activities       26\n",
      "Name: count, dtype: int64\n"
     ]
    }
   ],
   "source": [
    "category_mapping = {\n",
    "    'Surfing': 'Water Sports',\n",
    "    'Swimming': 'Water Sports',\n",
    "    'Fishing': 'Water Activities',\n",
    "    'Diving': 'Water Activities',\n",
    "    'Wading': 'Water Activities',\n",
    "    'Standing': 'Stationary',\n",
    "    'Boarding': 'Water Activities',\n",
    "    'Snorkeling': 'Water Activities',\n",
    "    'Fell overboard': 'Accidents',\n",
    "    'Boating': 'Water Activities',\n",
    "    'Treading water': 'Water Activities',\n",
    "    'Free diving': 'Water Activities',\n",
    "    'Walking': 'Land Activities',\n",
    "    'Surf-skiing': 'Water Sports',\n",
    "    'Rowing': 'Water Activities',\n",
    "    'Other': 'Other'\n",
    "}\n",
    "\n",
    "# Заменяем категории в DataFrame с помощью словаря\n",
    "df['activity'] = df['activity'].map(category_mapping)\n",
    "\n",
    "# Подсчитываем количество в каждой категории\n",
    "activity_counts = df['activity'].value_counts()\n",
    "print(activity_counts)"
   ]
  },
  {
   "cell_type": "code",
   "execution_count": 133,
   "id": "92937cbf",
   "metadata": {},
   "outputs": [
    {
     "data": {
      "text/plain": [
       "name\n",
       "male                                                                    691\n",
       "Unknown                                                                 242\n",
       "female                                                                  103\n",
       "children                                                                 53\n",
       "sailor                                                                   18\n",
       "                                                                       ... \n",
       "Adam                                                                      1\n",
       "Severed human foot washed ashore (in sneaker with 2 Velcro closures)      1\n",
       "3 people                                                                  1\n",
       "Brian Alcorn                                                              1\n",
       "Jules Patterson                                                           1\n",
       "Name: count, Length: 5118, dtype: int64"
      ]
     },
     "execution_count": 133,
     "metadata": {},
     "output_type": "execute_result"
    }
   ],
   "source": [
    "df[\"name\"].fillna(\"Unknown\", inplace=True)\n",
    "df['name'] = df['name'].replace(to_replace={'male': 'male', r'^(?!.*female).*male.*$': 'male'}, regex=True)\n",
    "df['name'] = df['name'].replace({\"Anonymous\":\"Unknown\",\"unknown\":\"Unknown\",\"2 males\":\"male\", \"boy\":\"children\",\"girl\":\"children\"})\n",
    "df['name'] = df['name'].replace({\"Unidentified\":\"Unknown\",\"a sailor\":\"sailor\",\"child\":\"children\", \"woman\":\"female\",\"2 women\":\"female\"})\n",
    "df['name'] = df['name'].replace({\"Arab boy\":\"children\",\"native boy\":\"children\",\"Fijian girl\":\"children\", \"2 men\":\"male\", \"teen\":\"children\"})\n",
    "df[\"name\"].value_counts(dropna=False)"
   ]
  },
  {
   "cell_type": "code",
   "execution_count": 134,
   "id": "1f8d6ae5",
   "metadata": {},
   "outputs": [
    {
     "data": {
      "text/plain": [
       "injury\n",
       "FATAL                                                                                     839\n",
       "Survived                                                                                   97\n",
       "Foot bitten                                                                                87\n",
       "No injury                                                                                  82\n",
       "Leg bitten                                                                                 72\n",
       "                                                                                         ... \n",
       "Cut foot, but injury caused by fishing line, not the shark                                  1\n",
       "Left foot bitten after he accidentally stepped on the shark         PROVOKED INCIDENT       1\n",
       "2 puncture wounds in left leg                                                               1\n",
       "PROVOKED INCIDENT    Knee bitten by shark trapped in net                                    1\n",
       "FATAL. \"Shark bit him in half, carrying away the lower extremities\"                         1\n",
       "Name: count, Length: 3737, dtype: int64"
      ]
     },
     "execution_count": 134,
     "metadata": {},
     "output_type": "execute_result"
    }
   ],
   "source": [
    "df['injury'].fillna(\"FATAL\", inplace=True)\n",
    "df['injury'].value_counts(dropna=False)"
   ]
  },
  {
   "cell_type": "code",
   "execution_count": 135,
   "id": "ccd13156",
   "metadata": {},
   "outputs": [
    {
     "name": "stdout",
     "output_type": "stream",
     "text": [
      "injury\n",
      "FATAL                                                                                                                                                                                  1369\n",
      "No injury                                                                                                                                                                               752\n",
      "Leg bitten                                                                                                                                                                              233\n",
      "Survived                                                                                                                                                                                105\n",
      "Hand bitten                                                                                                                                                                             105\n",
      "                                                                                                                                                                                       ... \n",
      "minor injury to foot                                                                                                                                                                      1\n",
      "Human remains (right forearm & leg) recovered from 3.7m [12'] tiger sharks gut. Forensic examination suggested the remains had been consumed by the shark one to two weeks earlier       1\n",
      "6-inch gash on right foot                                                                                                                                                                 1\n",
      "Upper arm bitten                                                                                                                                                                          1\n",
      "\"Lost leg\"                                                                                                                                                                                1\n",
      "Name: count, Length: 2574, dtype: int64\n"
     ]
    }
   ],
   "source": [
    "replacements = {\n",
    "    'FATAL': r'^.*FATAL.*$',\n",
    "    'Survived': r'^.*Survived.*$',\n",
    "    'Foot bitten': r'^.*Foot bitten.*$',\n",
    "    'No injury': r'^.*No injury.*$',\n",
    "    'Leg bitten': r'^.*Leg.*$',\n",
    "    'Ankle bitten': r'^.*Ankle.*$',\n",
    "    'Wrist bitten': r'^.*Wrist.*$',\n",
    "    'Hand bitten': r'^.*Hand.*$',\n",
    "    \n",
    "    # Add other replacements for body parts as needed\n",
    "}\n",
    "\n",
    "# Iterate through the replacements and apply them to the DataFrame\n",
    "for replacement, pattern in replacements.items():\n",
    "    df['injury'] = df['injury'].replace(to_replace=pattern, value=replacement, regex=True)\n",
    "\n",
    "# Display the modified DataFrame\n",
    "print(df['injury'].value_counts())"
   ]
  },
  {
   "cell_type": "code",
   "execution_count": 136,
   "id": "5f0085f2",
   "metadata": {},
   "outputs": [
    {
     "data": {
      "text/plain": [
       "injury\n",
       "Other                        3111\n",
       "FATAL                        1369\n",
       "No injury                     752\n",
       "Leg bitten                    233\n",
       "Hand bitten                   105\n",
       "Survived                      105\n",
       "Foot bitten                   104\n",
       "Left foot bitten               50\n",
       "Ankle bitten                   45\n",
       "No details                     43\n",
       "Right foot bitten              39\n",
       "Thigh bitten                   27\n",
       "Calf bitten                    22\n",
       "Minor injury                   22\n",
       "Foot lacerated                 21\n",
       "Lacerations to foot            20\n",
       "Right leg bitten               20\n",
       "Arm bitten                     20\n",
       "Lacerations to right foot      18\n",
       "Lacerations to left foot       18\n",
       "Right calf bitten              16\n",
       "Minor injuries                 14\n",
       "Heel bitten                    14\n",
       "Left arm bitten                13\n",
       "Foot severed                   13\n",
       "Left leg bitten                13\n",
       "Right thigh bitten             12\n",
       "Left calf bitten               11\n",
       "Lacerations to leg             11\n",
       "Lacerations to right leg       10\n",
       "Lacerations to right hand      10\n",
       "Laceration to left foot        10\n",
       "Lacerations to lower leg       10\n",
       "Thigh lacerated                10\n",
       "Name: count, dtype: int64"
      ]
     },
     "execution_count": 136,
     "metadata": {},
     "output_type": "execute_result"
    }
   ],
   "source": [
    "threshold = 10  \n",
    "activity_counts = df['injury'].value_counts()\n",
    "rare_activities = activity_counts[activity_counts < threshold].index.tolist()\n",
    "\n",
    "\n",
    "df['injury'].replace(rare_activities, 'Other', inplace=True)\n",
    "df['injury'].value_counts()"
   ]
  },
  {
   "cell_type": "code",
   "execution_count": 137,
   "id": "eee1a59c",
   "metadata": {},
   "outputs": [
    {
     "data": {
      "text/plain": [
       "injury\n",
       "Other                        3111\n",
       "FATAL                        1369\n",
       "No injury                     752\n",
       "Leg bitten                    233\n",
       "Hand bitten                   105\n",
       "Survived                      105\n",
       "Foot bitten                   104\n",
       "Left foot bitten               50\n",
       "Ankle bitten                   45\n",
       "No details                     43\n",
       "Right foot bitten              39\n",
       "Thigh bitten                   27\n",
       "Calf bitten                    22\n",
       "Minor injury                   22\n",
       "Foot lacerated                 21\n",
       "Lacerations to foot            20\n",
       "Right leg bitten               20\n",
       "Arm bitten                     20\n",
       "Lacerations to right foot      18\n",
       "Lacerations to left foot       18\n",
       "Right calf bitten              16\n",
       "Minor injuries                 14\n",
       "Heel bitten                    14\n",
       "Left arm bitten                13\n",
       "Foot severed                   13\n",
       "Left leg bitten                13\n",
       "Right thigh bitten             12\n",
       "Left calf bitten               11\n",
       "Lacerations to leg             11\n",
       "Lacerations to right leg       10\n",
       "Lacerations to right hand      10\n",
       "Laceration to left foot        10\n",
       "Lacerations to lower leg       10\n",
       "Thigh lacerated                10\n",
       "Name: count, dtype: int64"
      ]
     },
     "execution_count": 137,
     "metadata": {},
     "output_type": "execute_result"
    }
   ],
   "source": [
    "df['injury'].replace('Leg bitten bitten', 'Leg bitten', inplace = True)\n",
    "df['injury'].value_counts()"
   ]
  },
  {
   "cell_type": "code",
   "execution_count": 138,
   "id": "26d7df53",
   "metadata": {},
   "outputs": [
    {
     "data": {
      "text/plain": [
       "injury\n",
       "Other                        3111\n",
       "FATAL                        1369\n",
       "No injury                     752\n",
       "Leg bitten                    354\n",
       "Foot bitten                   193\n",
       "Survived                      105\n",
       "Hand bitten                   105\n",
       "Ankle bitten                   45\n",
       "No details                     43\n",
       "Minor injury                   22\n",
       "Foot lacerated                 21\n",
       "Lacerations to foot            20\n",
       "Arm bitten                     20\n",
       "Lacerations to right foot      18\n",
       "Lacerations to left foot       18\n",
       "Minor injuries                 14\n",
       "Heel bitten                    14\n",
       "Foot severed                   13\n",
       "Left arm bitten                13\n",
       "Lacerations to leg             11\n",
       "Laceration to left foot        10\n",
       "Lacerations to right leg       10\n",
       "Lacerations to right hand      10\n",
       "Lacerations to lower leg       10\n",
       "Thigh lacerated                10\n",
       "Name: count, dtype: int64"
      ]
     },
     "execution_count": 138,
     "metadata": {},
     "output_type": "execute_result"
    }
   ],
   "source": [
    "\n",
    "df['injury'] = df['injury'].replace({\"Left foot bitten\":\"Foot bitten\",\"Right foot bitten\":\"Foot bitten\",\"Thigh bitten\":\"Leg bitten\", \"Calf bitten\":\"Leg bitten\", \"Right leg bitten\":\"Leg bitten\", \"Ankle bitten bitten\":\"Leg bitten\",\"Right calf bitten\":\"Leg bitten\", \"Left leg bitten\":\"Leg bitten\",\"Leg bitten injured\":\"Leg bitten\",\"Right thigh bitten\":\"Leg bitten\",\"Left calf bitten\":\"Leg bitten\", \"Legs bitten\":\"Leg bitten\"})\n",
    "df['injury'].value_counts()"
   ]
  },
  {
   "cell_type": "code",
   "execution_count": 139,
   "id": "4c84c8de",
   "metadata": {},
   "outputs": [
    {
     "data": {
      "text/plain": [
       "injury\n",
       "Other                        3111\n",
       "FATAL                        1369\n",
       "No injury                     752\n",
       "Leg bitten                    354\n",
       "Foot bitten                   193\n",
       "Survived                      105\n",
       "Hand bitten                   105\n",
       "Lacerations to foot            77\n",
       "Lacerations to leg             51\n",
       "Ankle bitten                   45\n",
       "No details                     43\n",
       "Arm bitten                     33\n",
       "Minor injury                   22\n",
       "Minor injuries                 14\n",
       "Heel bitten                    14\n",
       "Foot severed                   13\n",
       "Lacerations to right hand      10\n",
       "Name: count, dtype: int64"
      ]
     },
     "execution_count": 139,
     "metadata": {},
     "output_type": "execute_result"
    }
   ],
   "source": [
    "df['injury'] = df['injury'].replace({\"Hand bitten bitten\":\"Hand bitten\",\"Left arm bitten\":\"Arm bitten\",\"Foot lacerated\":\"Lacerations to foot\", \"Lacerations to right foot\":\"Lacerations to foot\", \"Lacerations to left foot\":\"Lacerations to foot\", \"Leg bitten lacerated\":\"Lacerations to leg\",\"Lacerations to right leg\":\"Lacerations to leg\", \"Laceration to left foot\":\"Lacerations to leg\",\"Lacerations to lower leg\":\"Lacerations to leg\",\"Thigh lacerated\":\"Lacerations to leg\"})\n",
    "df['injury'].value_counts()"
   ]
  },
  {
   "cell_type": "code",
   "execution_count": 140,
   "id": "03fc1265",
   "metadata": {},
   "outputs": [
    {
     "data": {
      "text/plain": [
       "injury\n",
       "Other                   3111\n",
       "FATAL                   1369\n",
       "No injury                752\n",
       "Leg bitten               354\n",
       "Foot bitten              207\n",
       "Hand bitten              105\n",
       "Survived                 105\n",
       "Lacerations to foot       77\n",
       "Lacerations to leg        51\n",
       "Ankle bitten              45\n",
       "No details                43\n",
       "Arm bitten                33\n",
       "Minor injury              22\n",
       "Minor injuries            14\n",
       "Foot severed              13\n",
       "Lacerations to  hand      10\n",
       "Name: count, dtype: int64"
      ]
     },
     "execution_count": 140,
     "metadata": {},
     "output_type": "execute_result"
    }
   ],
   "source": [
    "df['injury'] = df['injury'].replace({\"Heel bitten\":\"Foot bitten\",\"Lacerations to right hand\":\"Lacerations to  hand\"})\n",
    "df['injury'].value_counts()"
   ]
  },
  {
   "cell_type": "code",
   "execution_count": 141,
   "id": "1c339a68",
   "metadata": {},
   "outputs": [
    {
     "data": {
      "text/plain": [
       "injury\n",
       "Other                                    3111\n",
       "FATAL                                    1369\n",
       "No injury                                 752\n",
       "Lower extremity bitten                    561\n",
       "Upper extremity bitten                    138\n",
       "Lacerations to lower extremity bitten     128\n",
       "Survived                                  105\n",
       "Ankle bitten                               45\n",
       "No details                                 43\n",
       "Minor injuries                             36\n",
       "Lower extremity severed                    13\n",
       "Lacerations to upper extremity bitten      10\n",
       "Name: count, dtype: int64"
      ]
     },
     "execution_count": 141,
     "metadata": {},
     "output_type": "execute_result"
    }
   ],
   "source": [
    "df['injury'] = df['injury'].replace({\"Leg bitten\":\"Lower extremity bitten\",\"Foot bitten\":\"Lower extremity bitten\", \"Arm bitten\":\"Upper extremity bitten\",\"Hand bitten\":\"Upper extremity bitten\", \"Lacerations to foot\":\"Lacerations to lower extremity bitten\",\"Lacerations to leg\":\"Lacerations to lower extremity bitten\", \"Lacerations to  hand\":\"Lacerations to upper extremity bitten\",\"Foot severed\":\"Lower extremity severed\", \"Leg bitten severed\":\"Lower extremity severed\", \"Minor injury\":\"Minor injuries\"})\n",
    "df['injury'].value_counts()"
   ]
  },
  {
   "cell_type": "code",
   "execution_count": 142,
   "id": "17c6fbda",
   "metadata": {},
   "outputs": [
    {
     "name": "stdout",
     "output_type": "stream",
     "text": [
      "injury\n",
      "Other                     3154\n",
      "Fatal                     1369\n",
      "No injury                  752\n",
      "Lower extremity injury     702\n",
      "Upper extremity injury     148\n",
      "Survived                   105\n",
      "Minor injuries              36\n",
      "Name: count, dtype: int64\n"
     ]
    }
   ],
   "source": [
    "category_mapping = {\n",
    "    'Lower extremity bitten': 'Lower extremity injury',\n",
    "    'Lacerations to lower extremity bitten': 'Lower extremity injury',\n",
    "    'Lower extremity severed': 'Lower extremity injury',\n",
    "    'Upper extremity bitten': 'Upper extremity injury',\n",
    "    'Lacerations to upper extremity bitten': 'Upper extremity injury',\n",
    "    'No details': 'Other',\n",
    "    'Other':'Other',\n",
    "    'FATAL':'Fatal',\n",
    "    'No injury':'No injury',\n",
    "    'Survived':'Survived',\n",
    "    'Minor injuries':'Minor injuries'\n",
    "    \n",
    "    \n",
    "    \n",
    "    \n",
    "}\n",
    "\n",
    "# Заменяем категории в DataFrame с помощью словаря\n",
    "df['injury'] = df['injury'].map(category_mapping)\n",
    "\n",
    "# Подсчитываем количество в каждой категории\n",
    "activity_counts = df['injury'].value_counts()\n",
    "print(activity_counts)"
   ]
  },
  {
   "cell_type": "code",
   "execution_count": 143,
   "id": "4537b44b",
   "metadata": {},
   "outputs": [
    {
     "data": {
      "text/plain": [
       "species\n",
       "NaN                                                                                                                              2847\n",
       "White shark                                                                                                                       163\n",
       "Shark involvement prior to death was not confirmed                                                                                105\n",
       "Invalid                                                                                                                           102\n",
       "Shark involvement not confirmed                                                                                                    88\n",
       "                                                                                                                                 ... \n",
       "1.2 m to 1.5 m [4.5' to 5'] shark                                                                                                   1\n",
       "Bull shark, 2.3 m [7.5']                                                                                                            1\n",
       "0.9 m  [3'] shark                                                                                                                   1\n",
       "Mako shark, 14'                                                                                                                     1\n",
       "Said to involve a grey nurse shark that leapt out of the water and  seized the boy but species identification is questionable       1\n",
       "Name: count, Length: 1550, dtype: int64"
      ]
     },
     "execution_count": 143,
     "metadata": {},
     "output_type": "execute_result"
    }
   ],
   "source": [
    "\n",
    "df['species'].value_counts(dropna=False)"
   ]
  },
  {
   "cell_type": "code",
   "execution_count": 144,
   "id": "37da67be",
   "metadata": {},
   "outputs": [
    {
     "data": {
      "text/html": [
       "<div>\n",
       "<style scoped>\n",
       "    .dataframe tbody tr th:only-of-type {\n",
       "        vertical-align: middle;\n",
       "    }\n",
       "\n",
       "    .dataframe tbody tr th {\n",
       "        vertical-align: top;\n",
       "    }\n",
       "\n",
       "    .dataframe thead th {\n",
       "        text-align: right;\n",
       "    }\n",
       "</style>\n",
       "<table border=\"1\" class=\"dataframe\">\n",
       "  <thead>\n",
       "    <tr style=\"text-align: right;\">\n",
       "      <th></th>\n",
       "      <th>Count</th>\n",
       "      <th>count</th>\n",
       "    </tr>\n",
       "  </thead>\n",
       "  <tbody>\n",
       "    <tr>\n",
       "      <th>0</th>\n",
       "      <td>Unknown shark</td>\n",
       "      <td>2847</td>\n",
       "    </tr>\n",
       "    <tr>\n",
       "      <th>1</th>\n",
       "      <td>Shark involvement not confirmed</td>\n",
       "      <td>561</td>\n",
       "    </tr>\n",
       "    <tr>\n",
       "      <th>2</th>\n",
       "      <td>White shark</td>\n",
       "      <td>427</td>\n",
       "    </tr>\n",
       "    <tr>\n",
       "      <th>3</th>\n",
       "      <td>Tiger shark</td>\n",
       "      <td>233</td>\n",
       "    </tr>\n",
       "    <tr>\n",
       "      <th>4</th>\n",
       "      <td>Bull shark</td>\n",
       "      <td>122</td>\n",
       "    </tr>\n",
       "  </tbody>\n",
       "</table>\n",
       "</div>"
      ],
      "text/plain": [
       "                             Count  count\n",
       "0                    Unknown shark   2847\n",
       "1  Shark involvement not confirmed    561\n",
       "2                      White shark    427\n",
       "3                      Tiger shark    233\n",
       "4                       Bull shark    122"
      ]
     },
     "execution_count": 144,
     "metadata": {},
     "output_type": "execute_result"
    }
   ],
   "source": [
    "import re\n",
    "\n",
    "# Filling NaN value with string \"Unknown shark\"\n",
    "df['species'] = df['species'].fillna('Unknown shark')\n",
    "\n",
    "# Create new column to stored the extracted Shark species\n",
    "df['new_species'] = None\n",
    "\n",
    "# Regular Expression pattern used to extract shark species (ultimately getting everything infront of the word \"shark\")\n",
    "shark_pattern = r'.* (shark|Shark)'\n",
    "\n",
    "# Looping through every row in the dataFrame\n",
    "for row in range(len(df)):\n",
    "    try:\n",
    "        shark_species = re.search(shark_pattern, df.iat[row, df.columns.get_loc('species')]).group()\n",
    "        df.iat[row, df.columns.get_loc('new_species')] = shark_species\n",
    "    except:\n",
    "        # Assuming that if there is nothing before string shark OR doesn't contain string shark at all,\n",
    "        # then I will put the string Shark involvement not confirmed instead\n",
    "         df.iat[row, df.columns.get_loc('new_species')] = \"Shark involvement not confirmed\"\n",
    "\n",
    "byspecies_count = df['new_species'].value_counts().reset_index().rename(columns={'new_species':'Count','index':'species'})\n",
    "byspecies_count.head()"
   ]
  },
  {
   "cell_type": "code",
   "execution_count": 145,
   "id": "b69430cc",
   "metadata": {},
   "outputs": [
    {
     "data": {
      "text/plain": [
       "new_species\n",
       "Unknown shark                                 2847\n",
       "Shark involvement not confirmed                561\n",
       "White shark                                    427\n",
       "Tiger shark                                    233\n",
       "Bull shark                                     122\n",
       "                                              ... \n",
       "Possibly a Caribbean reef shark                  1\n",
       "3.7m  to 4.2 m white shark                       1\n",
       "\"a young shark                                   1\n",
       "1.8 m to 2.1 m [6' to 7'] hammerhead shark       1\n",
       "Said to involve a grey nurse shark               1\n",
       "Name: count, Length: 775, dtype: int64"
      ]
     },
     "execution_count": 145,
     "metadata": {},
     "output_type": "execute_result"
    }
   ],
   "source": [
    "df['new_species'].value_counts()"
   ]
  },
  {
   "cell_type": "code",
   "execution_count": 146,
   "id": "1b5ed448",
   "metadata": {},
   "outputs": [
    {
     "data": {
      "text/plain": [
       "['Unknown shark',\n",
       " 'Shark involvement not confirmed',\n",
       " 'White shark',\n",
       " 'Tiger shark',\n",
       " 'Bull shark',\n",
       " 'Bronze whaler shark',\n",
       " 'Nurse shark',\n",
       " 'Wobbegong shark',\n",
       " 'Mako shark',\n",
       " 'Raggedtooth shark',\n",
       " \"4' shark\",\n",
       " \"6' shark\",\n",
       " \"1.8 m [6'] shark\",\n",
       " 'Grey nurse shark',\n",
       " 'Blacktip shark',\n",
       " \"1.5 m [5'] shark\",\n",
       " 'Lemon shark',\n",
       " 'Blue shark',\n",
       " \"1.2 m [4'] shark\",\n",
       " '2 m shark',\n",
       " \"3' shark\",\n",
       " \"5' shark\",\n",
       " \"3 m [10'] shark\",\n",
       " \"4' to 5' shark\",\n",
       " 'No shark',\n",
       " 'Hammerhead shark',\n",
       " 'Zambesi shark',\n",
       " \"3' to 4' shark\",\n",
       " 'Oceanic whitetip shark',\n",
       " '3 m shark',\n",
       " \"3.7 m [12'] shark\",\n",
       " \"2.4 m [8'] shark\",\n",
       " \"12' shark\",\n",
       " 'Grey reef shark',\n",
       " \"1.2 m to 1.5 m [4' to 5'] shark\",\n",
       " 'Sandtiger shark',\n",
       " \"7' shark\",\n",
       " \"5 m [16.5'] white shark\",\n",
       " '1.5 m shark',\n",
       " '\"a small shark',\n",
       " 'Spinner shark',\n",
       " \"10' shark\",\n",
       " 'a small shark',\n",
       " \"6 m [20'] white shark\",\n",
       " '\"small shark']"
      ]
     },
     "execution_count": 146,
     "metadata": {},
     "output_type": "execute_result"
    }
   ],
   "source": [
    "threshold = 10  \n",
    "activity_counts = df['new_species'].value_counts()\n",
    "rare_activities = activity_counts[activity_counts > threshold].index.tolist()\n",
    "rare_activities"
   ]
  },
  {
   "cell_type": "code",
   "execution_count": 147,
   "id": "6caafe4c",
   "metadata": {},
   "outputs": [
    {
     "name": "stdout",
     "output_type": "stream",
     "text": [
      "new_species\n",
      "Unknown shark                                 2847\n",
      "Shark involvement not confirmed                561\n",
      "White shark                                    436\n",
      "Tiger shark                                    237\n",
      "Bull shark                                     130\n",
      "                                              ... \n",
      "Possibly a Caribbean reef shark                  1\n",
      "3.7m  to 4.2 m white shark                       1\n",
      "\"a young shark                                   1\n",
      "1.8 m to 2.1 m [6' to 7'] hammerhead shark       1\n",
      "Said to involve a grey nurse shark               1\n",
      "Name: count, Length: 747, dtype: int64\n"
     ]
    }
   ],
   "source": [
    "replacements = {\n",
    "    'White shark': r'^.*White shark.*$',\n",
    "    'Tiger shark': r'^.*Tiger shark.*$',\n",
    "    'Bull shark': r'^.*Bull shark.*$',\n",
    "    'Bronze whaler shark': r'^.*Bronze whaler shark.*$',\n",
    "    'Nurse shark': r'^.*Nurse shark.*$',\n",
    "    'Wobbegong shark': r'^.*Wobbegong shark.*$',\n",
    "    'Mako shark': r'^.*Mako shark.*$',\n",
    "    'Grey nurse shark': r'^.*Grey nurse shark.*$',\n",
    "    'Blacktip shark': r'^.*Blacktip shark.*$',\n",
    "    'Raggedtooth shark': r'^.*Raggedtooth shark.*$',\n",
    "    'Lemon shark': r'^.*Lemon shark.*$',\n",
    "    'Blue shark': r'^.*Blue shark.*$',\n",
    "    'No shark': r'^.*No shark.*$',\n",
    "    # Add other replacements for body parts as needed\n",
    "}\n",
    "\n",
    "# Iterate through the replacements and apply them to the DataFrame\n",
    "for replacement, pattern in replacements.items():\n",
    "    df['new_species'] = df['new_species'].replace(to_replace=pattern, value=replacement, regex=True)\n",
    "\n",
    "# Display the modified DataFrame\n",
    "print(df['new_species'].value_counts())"
   ]
  },
  {
   "cell_type": "code",
   "execution_count": 148,
   "id": "0aaeb831",
   "metadata": {},
   "outputs": [
    {
     "data": {
      "text/plain": [
       "new_species\n",
       "Unknown shark                      2847\n",
       "Other                              1088\n",
       "Shark involvement not confirmed     561\n",
       "White shark                         436\n",
       "Tiger shark                         237\n",
       "Bull shark                          130\n",
       "Bronze whaler shark                  57\n",
       "Nurse shark                          49\n",
       "Wobbegong shark                      46\n",
       "Mako shark                           44\n",
       "Raggedtooth shark                    43\n",
       "4' shark                             41\n",
       "6' shark                             40\n",
       "1.8 m [6'] shark                     39\n",
       "Grey nurse shark                     36\n",
       "Blacktip shark                       34\n",
       "Lemon shark                          32\n",
       "1.5 m [5'] shark                     32\n",
       "Blue shark                           29\n",
       "1.2 m [4'] shark                     27\n",
       "3' shark                             26\n",
       "5' shark                             26\n",
       "2 m shark                            26\n",
       "3 m [10'] shark                      24\n",
       "4' to 5' shark                       24\n",
       "No shark                             23\n",
       "Hammerhead shark                     22\n",
       "Zambesi shark                        19\n",
       "3' to 4' shark                       18\n",
       "3 m shark                            17\n",
       "3.7 m [12'] shark                    17\n",
       "Oceanic whitetip shark               17\n",
       "2.4 m [8'] shark                     16\n",
       "12' shark                            15\n",
       "Grey reef shark                      14\n",
       "1.2 m to 1.5 m [4' to 5'] shark      14\n",
       "Sandtiger shark                      14\n",
       "7' shark                             13\n",
       "5 m [16.5'] white shark              13\n",
       "1.5 m shark                          13\n",
       "\"a small shark                       13\n",
       "a small shark                        12\n",
       "6 m [20'] white shark                12\n",
       "10' shark                            12\n",
       "Spinner shark                        12\n",
       "\"small shark                         11\n",
       "4 m [13'] white shark                10\n",
       "2.1 m [7'] shark                     10\n",
       "Name: count, dtype: int64"
      ]
     },
     "execution_count": 148,
     "metadata": {},
     "output_type": "execute_result"
    }
   ],
   "source": [
    "threshold = 10  \n",
    "activity_counts = df['new_species'].value_counts()\n",
    "rare_activities = activity_counts[activity_counts < threshold].index.tolist()\n",
    "\n",
    "\n",
    "df['new_species'].replace(rare_activities, 'Other', inplace=True)\n",
    "df['new_species'].value_counts()"
   ]
  },
  {
   "cell_type": "code",
   "execution_count": 167,
   "id": "d9f6a5ed",
   "metadata": {},
   "outputs": [],
   "source": [
    "df_1=df.copy()"
   ]
  },
  {
   "cell_type": "code",
   "execution_count": 149,
   "id": "3ae1b7c1",
   "metadata": {},
   "outputs": [
    {
     "name": "stdout",
     "output_type": "stream",
     "text": [
      "new_species\n",
      "Unknown shark                      2847\n",
      "Common Shark Species               1259\n",
      "Other                              1088\n",
      "Shark involvement not confirmed     561\n",
      "Small Sharks                        281\n",
      "Large Sharks                        239\n",
      "No shark                             23\n",
      "1.5 m shark                          13\n",
      "Name: count, dtype: int64\n"
     ]
    }
   ],
   "source": [
    "category_mapping = {\n",
    "    'Small Sharks': ['4\\' shark', '6\\' shark', '1.8 m [6\\'] shark', '1.5 m [5\\'] shark', '1.2 m [4\\'] shark',\n",
    "                     '3\\' shark', '5\\' shark', '1.2 m to 1.5 m [4\\' to 5\\'] shark', '\"a small shark', 'a small shark',\n",
    "                     '\"small shark'],\n",
    "    'Large Sharks': ['2 m shark', '3 m [10\\'] shark', '4\\' to 5\\' shark', '3\\' to 4\\' shark', '3 m shark',\n",
    "                     '3.7 m [12\\'] shark', '2.4 m [8\\'] shark', '12\\' shark', '7\\' shark', '5 m [16.5\\'] white shark',\n",
    "                     '6 m [20\\'] white shark', '10\\' shark', 'Spinner shark', '\"small shark', '4 m [13\\'] white shark',\n",
    "                     '2.1 m [7\\'] shark'],\n",
    "    'Common Shark Species': ['White shark', 'Tiger shark', 'Bull shark', 'Bronze whaler shark', 'Nurse shark',\n",
    "                             'Wobbegong shark', 'Mako shark', 'Raggedtooth shark', 'Grey nurse shark',\n",
    "                             'Blacktip shark', 'Lemon shark', 'Blue shark', 'Hammerhead shark', 'Zambesi shark',\n",
    "                             'Oceanic whitetip shark', 'Grey reef shark', 'Sandtiger shark'],\n",
    "    'Unknown shark':'Unknown shark',\n",
    "    'Other':'Other',\n",
    "    'Shark involvement not confirmed':'Shark involvement not confirmed'\n",
    "}\n",
    "\n",
    "# Объединяем категории в DataFrame с помощью словаря\n",
    "for category, sharks in category_mapping.items():\n",
    "    df['new_species'].replace(sharks, category, inplace=True)\n",
    "\n",
    "# Выводим количество в каждой категории\n",
    "shark_counts = df['new_species'].value_counts()\n",
    "print(shark_counts)"
   ]
  },
  {
   "cell_type": "code",
   "execution_count": 150,
   "id": "f532b2ad",
   "metadata": {},
   "outputs": [
    {
     "data": {
      "text/plain": [
       "new_species\n",
       "Unknown shark                      2847\n",
       "Common Shark Species               1259\n",
       "Other                              1088\n",
       "Shark involvement not confirmed     584\n",
       "Small Sharks                        294\n",
       "Large Sharks                        239\n",
       "Name: count, dtype: int64"
      ]
     },
     "execution_count": 150,
     "metadata": {},
     "output_type": "execute_result"
    }
   ],
   "source": [
    "df['new_species'] = df['new_species'].replace({\"No shark\":\"Shark involvement not confirmed\",\"1.5 m shark\":\"Small Sharks\"})\n",
    "df['new_species'].value_counts()"
   ]
  },
  {
   "cell_type": "code",
   "execution_count": 151,
   "id": "2a4aa864",
   "metadata": {},
   "outputs": [],
   "source": [
    "df.drop(columns=['species'], inplace=True)"
   ]
  },
  {
   "cell_type": "code",
   "execution_count": 152,
   "id": "70fd8a33",
   "metadata": {},
   "outputs": [
    {
     "data": {
      "text/plain": [
       "6261    0.0\n",
       "6262    0.0\n",
       "6263    0.0\n",
       "6264    0.0\n",
       "6265    0.0\n",
       "6266    0.0\n",
       "6267    0.0\n",
       "6268    0.0\n",
       "6269    0.0\n",
       "6270    0.0\n",
       "6271    0.0\n",
       "6272    0.0\n",
       "6273    0.0\n",
       "6274    0.0\n",
       "6275    0.0\n",
       "6276    0.0\n",
       "6277    0.0\n",
       "6278    0.0\n",
       "6279    0.0\n",
       "6280    0.0\n",
       "6281    0.0\n",
       "6282    0.0\n",
       "6283    0.0\n",
       "6284    0.0\n",
       "6285    0.0\n",
       "6286    0.0\n",
       "6287    0.0\n",
       "6288    0.0\n",
       "6289    0.0\n",
       "6290    0.0\n",
       "6291    0.0\n",
       "6292    0.0\n",
       "6293    0.0\n",
       "6294    0.0\n",
       "6295    0.0\n",
       "6296    0.0\n",
       "6297    0.0\n",
       "6298    0.0\n",
       "6299    0.0\n",
       "6300    0.0\n",
       "6301    0.0\n",
       "6302    NaN\n",
       "6303    NaN\n",
       "6304    NaN\n",
       "6305    NaN\n",
       "6306    NaN\n",
       "6307    NaN\n",
       "6308    NaN\n",
       "6309    NaN\n",
       "6310    NaN\n",
       "Name: year, dtype: float64"
      ]
     },
     "execution_count": 152,
     "metadata": {},
     "output_type": "execute_result"
    }
   ],
   "source": [
    "df['year'].tail(50)"
   ]
  },
  {
   "cell_type": "code",
   "execution_count": 153,
   "id": "e222ad76",
   "metadata": {},
   "outputs": [
    {
     "data": {
      "text/plain": [
       "1977.0"
      ]
     },
     "execution_count": 153,
     "metadata": {},
     "output_type": "execute_result"
    }
   ],
   "source": [
    "median_value = df['year'].median()\n",
    "median_value\n"
   ]
  },
  {
   "cell_type": "code",
   "execution_count": 154,
   "id": "f7546dd0",
   "metadata": {},
   "outputs": [
    {
     "data": {
      "text/plain": [
       "array([2018., 2017., 1977., 2016., 2015., 2014., 2013., 2012., 2011.,\n",
       "       2010., 2009., 2008., 2007., 2006., 2005., 2004., 2003., 2002.,\n",
       "       2001., 2000., 1999., 1998., 1997., 1996., 1995., 1984., 1994.,\n",
       "       1993., 1992., 1991., 1990., 1989., 1969., 1988., 1987., 1986.,\n",
       "       1985., 1983., 1982., 1981., 1980., 1979., 1978., 1976., 1975.,\n",
       "       1974., 1973., 1972., 1971., 1970., 1968., 1967., 1966., 1965.,\n",
       "       1964., 1963., 1962., 1961., 1960., 1959., 1958., 1957., 1956.,\n",
       "       1955., 1954., 1953., 1952., 1951., 1950., 1949., 1948., 1848.,\n",
       "       1947., 1946., 1945., 1944., 1943., 1942., 1941., 1940., 1939.,\n",
       "       1938., 1937., 1936., 1935., 1934., 1933., 1932., 1931., 1930.,\n",
       "       1929., 1928., 1927., 1926., 1925., 1924., 1923., 1922., 1921.,\n",
       "       1920., 1919., 1918., 1917., 1916., 1915., 1914., 1913., 1912.,\n",
       "       1911., 1910., 1909., 1908., 1907., 1906., 1905., 1904., 1903.,\n",
       "       1902., 1901., 1900., 1899., 1898., 1897., 1896., 1895., 1894.,\n",
       "       1893., 1892., 1891., 1890., 1889., 1888., 1887., 1886., 1885.,\n",
       "       1884., 1883., 1882., 1881., 1880., 1879., 1878., 1877., 1876.,\n",
       "       1875., 1874., 1873., 1872., 1871., 1870., 1869., 1868., 1867.,\n",
       "       1866., 1865., 1864., 1863., 1862., 1861., 1860., 1859., 1858.,\n",
       "       1857., 1856., 1855., 1853., 1852., 1851., 1850., 1849., 1847.,\n",
       "       1846., 1845., 1844., 1842., 1841., 1840., 1839., 1837., 1836.,\n",
       "       1835., 1834., 1832., 1831., 1830., 1829., 1828., 1827., 1826.,\n",
       "       1825., 1823., 1822., 1819., 1818., 1817., 1816., 1815., 1812.,\n",
       "       1811., 1810., 1808., 1807., 1805., 1804., 1803., 1802., 1801.,\n",
       "       1800., 1797., 1792., 1791., 1788., 1787., 1786., 1785., 1784.,\n",
       "       1783., 1780., 1779., 1776., 1771., 1767., 1764., 1758., 1753.,\n",
       "       1751., 1749., 1755., 1748., 1742., 1738., 1733., 1723., 1721.,\n",
       "       1703., 1700., 1642., 1638., 1637., 1617., 1595., 1580., 1555.,\n",
       "       1554., 1543.,  500.,   77.,    5.,    0.])"
      ]
     },
     "execution_count": 154,
     "metadata": {},
     "output_type": "execute_result"
    }
   ],
   "source": [
    "# Assuming df is your DataFrame and 'column_name' is the column you want to fill NaN values in with the median\n",
    "median_value = df['year'].median()  # Calculate the median of the column\n",
    "\n",
    "# Fill NaN values with the calculated median\n",
    "df['year'].fillna(median_value, inplace=True)\n",
    "df['year'].unique()"
   ]
  },
  {
   "cell_type": "code",
   "execution_count": 155,
   "id": "72db1d42",
   "metadata": {},
   "outputs": [],
   "source": [
    "df['year'].replace({0: median_value}, inplace=True)"
   ]
  },
  {
   "cell_type": "code",
   "execution_count": 156,
   "id": "b809c885",
   "metadata": {},
   "outputs": [
    {
     "data": {
      "text/plain": [
       "array([2018., 2017., 1977., 2016., 2015., 2014., 2013., 2012., 2011.,\n",
       "       2010., 2009., 2008., 2007., 2006., 2005., 2004., 2003., 2002.,\n",
       "       2001., 2000., 1999., 1998., 1997., 1996., 1995., 1984., 1994.,\n",
       "       1993., 1992., 1991., 1990., 1989., 1969., 1988., 1987., 1986.,\n",
       "       1985., 1983., 1982., 1981., 1980., 1979., 1978., 1976., 1975.,\n",
       "       1974., 1973., 1972., 1971., 1970., 1968., 1967., 1966., 1965.,\n",
       "       1964., 1963., 1962., 1961., 1960., 1959., 1958., 1957., 1956.,\n",
       "       1955., 1954., 1953., 1952., 1951., 1950., 1949., 1948., 1848.,\n",
       "       1947., 1946., 1945., 1944., 1943., 1942., 1941., 1940., 1939.,\n",
       "       1938., 1937., 1936., 1935., 1934., 1933., 1932., 1931., 1930.,\n",
       "       1929., 1928., 1927., 1926., 1925., 1924., 1923., 1922., 1921.,\n",
       "       1920., 1919., 1918., 1917., 1916., 1915., 1914., 1913., 1912.,\n",
       "       1911., 1910., 1909., 1908., 1907., 1906., 1905., 1904., 1903.,\n",
       "       1902., 1901., 1900., 1899., 1898., 1897., 1896., 1895., 1894.,\n",
       "       1893., 1892., 1891., 1890., 1889., 1888., 1887., 1886., 1885.,\n",
       "       1884., 1883., 1882., 1881., 1880., 1879., 1878., 1877., 1876.,\n",
       "       1875., 1874., 1873., 1872., 1871., 1870., 1869., 1868., 1867.,\n",
       "       1866., 1865., 1864., 1863., 1862., 1861., 1860., 1859., 1858.,\n",
       "       1857., 1856., 1855., 1853., 1852., 1851., 1850., 1849., 1847.,\n",
       "       1846., 1845., 1844., 1842., 1841., 1840., 1839., 1837., 1836.,\n",
       "       1835., 1834., 1832., 1831., 1830., 1829., 1828., 1827., 1826.,\n",
       "       1825., 1823., 1822., 1819., 1818., 1817., 1816., 1815., 1812.,\n",
       "       1811., 1810., 1808., 1807., 1805., 1804., 1803., 1802., 1801.,\n",
       "       1800., 1797., 1792., 1791., 1788., 1787., 1786., 1785., 1784.,\n",
       "       1783., 1780., 1779., 1776., 1771., 1767., 1764., 1758., 1753.,\n",
       "       1751., 1749., 1755., 1748., 1742., 1738., 1733., 1723., 1721.,\n",
       "       1703., 1700., 1642., 1638., 1637., 1617., 1595., 1580., 1555.,\n",
       "       1554., 1543.,  500.,   77.,    5.])"
      ]
     },
     "execution_count": 156,
     "metadata": {},
     "output_type": "execute_result"
    }
   ],
   "source": [
    "df['year'].unique()"
   ]
  },
  {
   "cell_type": "code",
   "execution_count": 157,
   "id": "8f65016b",
   "metadata": {},
   "outputs": [
    {
     "name": "stdout",
     "output_type": "stream",
     "text": [
      "0         <class 'str'>\n",
      "1         <class 'str'>\n",
      "2         <class 'str'>\n",
      "3       <class 'float'>\n",
      "4       <class 'float'>\n",
      "             ...       \n",
      "6306    <class 'float'>\n",
      "6307    <class 'float'>\n",
      "6308    <class 'float'>\n",
      "6309    <class 'float'>\n",
      "6310    <class 'float'>\n",
      "Name: age, Length: 6311, dtype: object\n"
     ]
    }
   ],
   "source": [
    "def check_type(value):\n",
    "    return type(value)\n",
    "\n",
    "# Applying the function to the 'age' column using apply()\n",
    "types_in_age_column = df['age'].apply(check_type)\n",
    "\n",
    "print(types_in_age_column)"
   ]
  },
  {
   "cell_type": "code",
   "execution_count": 158,
   "id": "1a07a11d",
   "metadata": {},
   "outputs": [
    {
     "name": "stdout",
     "output_type": "stream",
     "text": [
      "40s\n",
      "20s\n",
      "Teen\n",
      "40s\n",
      "60s\n",
      "Teen\n",
      "18 months\n",
      "40s\n",
      "20s\n",
      "30s\n",
      "50s\n",
      "Teen\n",
      "teen\n",
      "teen\n",
      "teen\n",
      "28 & 26\n",
      "30s\n",
      "20s\n",
      "Teen\n",
      "teen\n",
      "18 or 20\n",
      "Teen\n",
      "12 or 13\n",
      "30s\n",
      "20s\n",
      "46 & 34\n",
      "28, 23 & 30\n",
      "teen\n",
      "30s\n",
      "Teens\n",
      "30s\n",
      "Teen\n",
      "36 & 26\n",
      "8 or 10\n",
      "  \n",
      " \n",
      "30 or 36\n",
      "21 & ?\n",
      "33 or 37\n",
      "mid-30s\n",
      "23 & 20\n",
      " 30\n",
      "7      &    31\n",
      " 28\n",
      "20?\n",
      "60's\n",
      "32 & 30\n",
      "30s\n",
      "30s\n",
      "16 to 18\n",
      "Elderly\n",
      "20s\n",
      "mid-20s\n",
      "Ca. 33\n",
      "20s\n",
      " \n",
      "74 \n",
      "45 \n",
      "21 or 26\n",
      "20 \n",
      "20s\n",
      ">50\n",
      "18 to 22\n",
      "adult\n",
      "9 & 12\n",
      "? & 19\n",
      "9 months\n",
      "Teen\n",
      "25 to 35\n",
      "23 & 26\n",
      "(adult)\n",
      "33 & 37\n",
      "25 or 28\n",
      "37, 67, 35, 27,  ? & 27\n",
      "21, 34,24 & 35\n",
      "30 & 32\n",
      "50 & 30\n",
      "17 & 35\n",
      "X\n",
      "\"middle-age\"\n",
      "13 or 18\n",
      "34 & 19\n",
      "33 & 26\n",
      "2 to 3 months\n",
      "MAKE LINE GREEN\n",
      " 43\n",
      "\"young\"\n",
      "7 or 8\n",
      "17 & 16\n",
      "8 or 10\n",
      "F\n",
      "Both 11\n",
      "9 or 10\n",
      "young\n",
      "36 & 23\n",
      "Teen\n",
      "50s\n",
      "  \n",
      "A.M.\n",
      "?    &   14\n",
      "10 or 12\n",
      "31 or 33\n",
      "Teen\n",
      "7 or 8\n",
      "young\n",
      "13 or 14\n"
     ]
    }
   ],
   "source": [
    "for value in df['age']:\n",
    "    if isinstance(value, str) and not value.isnumeric():\n",
    "        print(value)"
   ]
  },
  {
   "cell_type": "code",
   "execution_count": 159,
   "id": "418fd8d9",
   "metadata": {},
   "outputs": [
    {
     "data": {
      "text/plain": [
       "0       57\n",
       "1       11\n",
       "2       48\n",
       "3       24\n",
       "4       24\n",
       "        ..\n",
       "6306    24\n",
       "6307    24\n",
       "6308    24\n",
       "6309    24\n",
       "6310    24\n",
       "Name: standardized_age, Length: 6311, dtype: Int64"
      ]
     },
     "execution_count": 159,
     "metadata": {},
     "output_type": "execute_result"
    }
   ],
   "source": [
    "def clean_and_standardize_age(value):\n",
    "    value = str(value).lower()\n",
    "    value = re.sub(r'[^A-Za-z0-9\\s\\-\\'&]', '', value)\n",
    "    value = value.strip()\n",
    "    \n",
    "    if pd.isnull(value):\n",
    "        return np.nan\n",
    "    \n",
    "    if re.search(r'\\d+to\\d+', value):\n",
    "        start, end = map(int, re.findall(r'\\d+', value))\n",
    "        return int((start + end) / 2)\n",
    "    \n",
    "    elif re.search(r'\\d+or\\d+', value):\n",
    "        ages = re.findall(r'\\d+', value)\n",
    "        return max(map(int, ages))\n",
    "    \n",
    "    elif re.search(r'\\d+month', value):\n",
    "        return int(re.findall(r'\\d+', value)[0])\n",
    "    \n",
    "    elif value == 'teen':\n",
    "        return np.nan  # Or a specific value for 'teen'\n",
    "    \n",
    "    elif value in ['elderly', 'middle-age']:\n",
    "        return np.nan  # Or a specific value for 'elderly'/'middle-age'\n",
    "    \n",
    "    elif re.search(r'\\d+', value):\n",
    "        return int(re.findall(r'\\d+', value)[0])\n",
    "    \n",
    "    else:\n",
    "        return np.nan\n",
    "\n",
    "# Apply the cleaning and standardizing function to the 'age' column\n",
    "df['standardized_age'] = df['age'].apply(clean_and_standardize_age)\n",
    "\n",
    "# Convert 'standardized_age' to integers\n",
    "df['standardized_age'] = pd.to_numeric(df['standardized_age'], errors='coerce').astype('Int64')\n",
    "\n",
    "# Fill NaN values in 'standardized_age' with median\n",
    "median_age = df['standardized_age'].median()\n",
    "df['standardized_age'].fillna(median_age, inplace=True)\n",
    "\n",
    "# Display the resulting DataFrame with the standardized_age column as integers\n",
    "df['standardized_age']"
   ]
  },
  {
   "cell_type": "code",
   "execution_count": 160,
   "id": "f8596a76",
   "metadata": {},
   "outputs": [
    {
     "data": {
      "text/plain": [
       "standardized_age\n",
       "24    2976\n",
       "17     156\n",
       "18     153\n",
       "20     151\n",
       "19     143\n",
       "      ... \n",
       "87       1\n",
       "67       1\n",
       "72       1\n",
       "81       1\n",
       "86       1\n",
       "Name: count, Length: 81, dtype: Int64"
      ]
     },
     "execution_count": 160,
     "metadata": {},
     "output_type": "execute_result"
    }
   ],
   "source": [
    "df['standardized_age'].value_counts()"
   ]
  },
  {
   "cell_type": "code",
   "execution_count": 161,
   "id": "b53730e8",
   "metadata": {},
   "outputs": [
    {
     "data": {
      "text/plain": [
       "case_number                  1\n",
       "date                         9\n",
       "year                         0\n",
       "type                         0\n",
       "country                      0\n",
       "area                         0\n",
       "location                     0\n",
       "activity                     0\n",
       "name                         0\n",
       "sex                          0\n",
       "injury                      45\n",
       "fatal_(y/n)                  0\n",
       "time                      3363\n",
       "investigator_or_source      26\n",
       "original_order               2\n",
       "iso_code                     0\n",
       "new_species                  0\n",
       "standardized_age             0\n",
       "dtype: int64"
      ]
     },
     "execution_count": 161,
     "metadata": {},
     "output_type": "execute_result"
    }
   ],
   "source": [
    "df = df.drop(columns=['age'])\n",
    "df.isna().sum()"
   ]
  },
  {
   "cell_type": "markdown",
   "id": "20c9a1a1",
   "metadata": {},
   "source": [
    "Column 'date' is umportant for analysis but it's contain different format, which made cleaning process difficult. We can use column 'case_number' instead, because it's contain the same date."
   ]
  },
  {
   "cell_type": "code",
   "execution_count": 166,
   "id": "2cdcbe7f",
   "metadata": {},
   "outputs": [
    {
     "data": {
      "text/plain": [
       "945"
      ]
     },
     "execution_count": 166,
     "metadata": {},
     "output_type": "execute_result"
    }
   ],
   "source": [
    "df['month'].isna().sum()"
   ]
  },
  {
   "cell_type": "code",
   "execution_count": 168,
   "id": "a5323b7d",
   "metadata": {},
   "outputs": [],
   "source": [
    "df['month'].fillna('Unknown', inplace=True)"
   ]
  },
  {
   "cell_type": "code",
   "execution_count": 62,
   "id": "a2e69d3e",
   "metadata": {},
   "outputs": [
    {
     "data": {
      "text/plain": [
       "case_number                object\n",
       "date                       object\n",
       "year                      float64\n",
       "type                       object\n",
       "country                    object\n",
       "area                       object\n",
       "location                   object\n",
       "activity                   object\n",
       "name                       object\n",
       "sex                        object\n",
       "injury                     object\n",
       "fatal_(y/n)                object\n",
       "time                       object\n",
       "investigator_or_source     object\n",
       "original_order            float64\n",
       "iso_code                   object\n",
       "new_species                object\n",
       "standardized_age            Int64\n",
       "dtype: object"
      ]
     },
     "execution_count": 62,
     "metadata": {},
     "output_type": "execute_result"
    }
   ],
   "source": [
    "df.dtypes"
   ]
  },
  {
   "cell_type": "code",
   "execution_count": 163,
   "id": "ff54f299",
   "metadata": {},
   "outputs": [],
   "source": [
    "df['case_number'] = df['case_number'].str.replace(r'\\.[a-zA-Z]+$', '', regex=True)\n"
   ]
  },
  {
   "cell_type": "code",
   "execution_count": 164,
   "id": "42b54398",
   "metadata": {},
   "outputs": [],
   "source": [
    "df['case_number'] = pd.to_datetime(df['case_number'], format='%Y.%m.%d', errors='coerce')"
   ]
  },
  {
   "cell_type": "code",
   "execution_count": 165,
   "id": "45f7019a",
   "metadata": {},
   "outputs": [],
   "source": [
    "df['case_number'] = df['case_number'].replace('Unknown', np.nan)\n",
    "\n",
    "# Convert column back to datetime\n",
    "df['case_number'] = pd.to_datetime(df['case_number'], errors='coerce')\n",
    "\n",
    "# Get month values where the date is not NaN\n",
    "df.loc[~df['case_number'].isnull(), 'month'] = df['case_number'].dt.month"
   ]
  },
  {
   "cell_type": "code",
   "execution_count": 69,
   "id": "8378576b",
   "metadata": {
    "scrolled": true
   },
   "outputs": [
    {
     "data": {
      "text/html": [
       "<div>\n",
       "<style scoped>\n",
       "    .dataframe tbody tr th:only-of-type {\n",
       "        vertical-align: middle;\n",
       "    }\n",
       "\n",
       "    .dataframe tbody tr th {\n",
       "        vertical-align: top;\n",
       "    }\n",
       "\n",
       "    .dataframe thead th {\n",
       "        text-align: right;\n",
       "    }\n",
       "</style>\n",
       "<table border=\"1\" class=\"dataframe\">\n",
       "  <thead>\n",
       "    <tr style=\"text-align: right;\">\n",
       "      <th></th>\n",
       "      <th>case_number</th>\n",
       "      <th>date</th>\n",
       "      <th>year</th>\n",
       "      <th>type</th>\n",
       "      <th>country</th>\n",
       "      <th>area</th>\n",
       "      <th>location</th>\n",
       "      <th>activity</th>\n",
       "      <th>name</th>\n",
       "      <th>sex</th>\n",
       "      <th>injury</th>\n",
       "      <th>fatal_(y/n)</th>\n",
       "      <th>time</th>\n",
       "      <th>investigator_or_source</th>\n",
       "      <th>original_order</th>\n",
       "      <th>iso_code</th>\n",
       "      <th>new_species</th>\n",
       "      <th>standardized_age</th>\n",
       "      <th>month</th>\n",
       "    </tr>\n",
       "  </thead>\n",
       "  <tbody>\n",
       "    <tr>\n",
       "      <th>0</th>\n",
       "      <td>2018-06-25 00:00:00</td>\n",
       "      <td>25-Jun-2018</td>\n",
       "      <td>2018.0</td>\n",
       "      <td>Boating</td>\n",
       "      <td>USA</td>\n",
       "      <td>California</td>\n",
       "      <td>Oceanside, San Diego County</td>\n",
       "      <td>Other</td>\n",
       "      <td>Julie Wolfe</td>\n",
       "      <td>F</td>\n",
       "      <td>No injury</td>\n",
       "      <td>N</td>\n",
       "      <td>18h00</td>\n",
       "      <td>R. Collier, GSAF</td>\n",
       "      <td>6303.0</td>\n",
       "      <td>US</td>\n",
       "      <td>Common Shark Species</td>\n",
       "      <td>57</td>\n",
       "      <td>6.0</td>\n",
       "    </tr>\n",
       "    <tr>\n",
       "      <th>1</th>\n",
       "      <td>2018-06-18 00:00:00</td>\n",
       "      <td>18-Jun-2018</td>\n",
       "      <td>2018.0</td>\n",
       "      <td>Unprovoked</td>\n",
       "      <td>USA</td>\n",
       "      <td>Georgia</td>\n",
       "      <td>St. Simon Island, Glynn County</td>\n",
       "      <td>Stationary</td>\n",
       "      <td>Adyson McNeely</td>\n",
       "      <td>F</td>\n",
       "      <td>Other</td>\n",
       "      <td>N</td>\n",
       "      <td>14h00  -15h00</td>\n",
       "      <td>K.McMurray, TrackingSharks.com</td>\n",
       "      <td>6302.0</td>\n",
       "      <td>US</td>\n",
       "      <td>Unknown shark</td>\n",
       "      <td>11</td>\n",
       "      <td>6.0</td>\n",
       "    </tr>\n",
       "    <tr>\n",
       "      <th>2</th>\n",
       "      <td>2018-06-09 00:00:00</td>\n",
       "      <td>09-Jun-2018</td>\n",
       "      <td>2018.0</td>\n",
       "      <td>Invalid</td>\n",
       "      <td>USA</td>\n",
       "      <td>Hawaii</td>\n",
       "      <td>Habush, Oahu</td>\n",
       "      <td>Water Sports</td>\n",
       "      <td>John Denges</td>\n",
       "      <td>M</td>\n",
       "      <td>Other</td>\n",
       "      <td>N</td>\n",
       "      <td>07h45</td>\n",
       "      <td>K.McMurray, TrackingSharks.com</td>\n",
       "      <td>6301.0</td>\n",
       "      <td>US</td>\n",
       "      <td>Unknown shark</td>\n",
       "      <td>48</td>\n",
       "      <td>6.0</td>\n",
       "    </tr>\n",
       "    <tr>\n",
       "      <th>3</th>\n",
       "      <td>2018-06-08 00:00:00</td>\n",
       "      <td>08-Jun-2018</td>\n",
       "      <td>2018.0</td>\n",
       "      <td>Unprovoked</td>\n",
       "      <td>AUSTRALIA</td>\n",
       "      <td>New South Wales</td>\n",
       "      <td>Arrawarra Headland</td>\n",
       "      <td>Water Sports</td>\n",
       "      <td>male</td>\n",
       "      <td>M</td>\n",
       "      <td>Other</td>\n",
       "      <td>N</td>\n",
       "      <td>NaN</td>\n",
       "      <td>B. Myatt, GSAF</td>\n",
       "      <td>6300.0</td>\n",
       "      <td>AUS</td>\n",
       "      <td>Large Sharks</td>\n",
       "      <td>24</td>\n",
       "      <td>6.0</td>\n",
       "    </tr>\n",
       "    <tr>\n",
       "      <th>4</th>\n",
       "      <td>2018-06-04 00:00:00</td>\n",
       "      <td>04-Jun-2018</td>\n",
       "      <td>2018.0</td>\n",
       "      <td>Provoked</td>\n",
       "      <td>MEXICO</td>\n",
       "      <td>Colima</td>\n",
       "      <td>La Ticla</td>\n",
       "      <td>Water Activities</td>\n",
       "      <td>Gustavo Ramos</td>\n",
       "      <td>M</td>\n",
       "      <td>Other</td>\n",
       "      <td>N</td>\n",
       "      <td>NaN</td>\n",
       "      <td>A .Kipper</td>\n",
       "      <td>6299.0</td>\n",
       "      <td>MEX</td>\n",
       "      <td>Common Shark Species</td>\n",
       "      <td>24</td>\n",
       "      <td>6.0</td>\n",
       "    </tr>\n",
       "  </tbody>\n",
       "</table>\n",
       "</div>"
      ],
      "text/plain": [
       "           case_number         date    year        type    country  \\\n",
       "0  2018-06-25 00:00:00  25-Jun-2018  2018.0     Boating        USA   \n",
       "1  2018-06-18 00:00:00  18-Jun-2018  2018.0  Unprovoked        USA   \n",
       "2  2018-06-09 00:00:00  09-Jun-2018  2018.0     Invalid        USA   \n",
       "3  2018-06-08 00:00:00  08-Jun-2018  2018.0  Unprovoked  AUSTRALIA   \n",
       "4  2018-06-04 00:00:00  04-Jun-2018  2018.0    Provoked     MEXICO   \n",
       "\n",
       "              area                        location          activity  \\\n",
       "0       California     Oceanside, San Diego County             Other   \n",
       "1          Georgia  St. Simon Island, Glynn County        Stationary   \n",
       "2           Hawaii                    Habush, Oahu      Water Sports   \n",
       "3  New South Wales              Arrawarra Headland      Water Sports   \n",
       "4           Colima                        La Ticla  Water Activities   \n",
       "\n",
       "              name sex     injury fatal_(y/n)           time  \\\n",
       "0      Julie Wolfe   F  No injury           N          18h00   \n",
       "1  Adyson McNeely    F      Other           N  14h00  -15h00   \n",
       "2      John Denges   M      Other           N          07h45   \n",
       "3             male   M      Other           N            NaN   \n",
       "4   Gustavo Ramos    M      Other           N            NaN   \n",
       "\n",
       "           investigator_or_source  original_order iso_code  \\\n",
       "0                R. Collier, GSAF          6303.0       US   \n",
       "1  K.McMurray, TrackingSharks.com          6302.0       US   \n",
       "2  K.McMurray, TrackingSharks.com          6301.0       US   \n",
       "3                  B. Myatt, GSAF          6300.0      AUS   \n",
       "4                       A .Kipper          6299.0      MEX   \n",
       "\n",
       "            new_species  standardized_age month  \n",
       "0  Common Shark Species                57   6.0  \n",
       "1         Unknown shark                11   6.0  \n",
       "2         Unknown shark                48   6.0  \n",
       "3          Large Sharks                24   6.0  \n",
       "4  Common Shark Species                24   6.0  "
      ]
     },
     "execution_count": 69,
     "metadata": {},
     "output_type": "execute_result"
    }
   ],
   "source": [
    "df.head()"
   ]
  },
  {
   "cell_type": "code",
   "execution_count": 169,
   "id": "32aa4653",
   "metadata": {},
   "outputs": [
    {
     "data": {
      "text/html": [
       "<div>\n",
       "<style scoped>\n",
       "    .dataframe tbody tr th:only-of-type {\n",
       "        vertical-align: middle;\n",
       "    }\n",
       "\n",
       "    .dataframe tbody tr th {\n",
       "        vertical-align: top;\n",
       "    }\n",
       "\n",
       "    .dataframe thead th {\n",
       "        text-align: right;\n",
       "    }\n",
       "</style>\n",
       "<table border=\"1\" class=\"dataframe\">\n",
       "  <thead>\n",
       "    <tr style=\"text-align: right;\">\n",
       "      <th></th>\n",
       "      <th>Count</th>\n",
       "      <th>count</th>\n",
       "    </tr>\n",
       "  </thead>\n",
       "  <tbody>\n",
       "    <tr>\n",
       "      <th>0</th>\n",
       "      <td>Unknown</td>\n",
       "      <td>3363</td>\n",
       "    </tr>\n",
       "    <tr>\n",
       "      <th>1</th>\n",
       "      <td>Afternoon</td>\n",
       "      <td>1504</td>\n",
       "    </tr>\n",
       "    <tr>\n",
       "      <th>2</th>\n",
       "      <td>Morning</td>\n",
       "      <td>938</td>\n",
       "    </tr>\n",
       "    <tr>\n",
       "      <th>3</th>\n",
       "      <td>Evening</td>\n",
       "      <td>266</td>\n",
       "    </tr>\n",
       "    <tr>\n",
       "      <th>4</th>\n",
       "      <td>Night</td>\n",
       "      <td>62</td>\n",
       "    </tr>\n",
       "  </tbody>\n",
       "</table>\n",
       "</div>"
      ],
      "text/plain": [
       "       Count  count\n",
       "0    Unknown   3363\n",
       "1  Afternoon   1504\n",
       "2    Morning    938\n",
       "3    Evening    266\n",
       "4      Night     62"
      ]
     },
     "execution_count": 169,
     "metadata": {},
     "output_type": "execute_result"
    }
   ],
   "source": [
    "import re\n",
    "\n",
    "df['time'] = df['time'].fillna('Unknown')\n",
    "df['new_time'] = None\n",
    "time_pattern = r'[0-9]{2}h[0-9]{2}'\n",
    "\n",
    "# Loop through each row in the DataFrame\n",
    "for row in range(len(df)):\n",
    "    try:\n",
    "        time = re.search(time_pattern, df.iat[row, df.columns.get_loc('time')]).group()\n",
    "        df.iat[row, df.columns.get_loc('new_time')] = time\n",
    "\n",
    "        # Extract hour from the time pattern and categorize\n",
    "        hour = int(time.split('h')[0])\n",
    "        if hour < 12:\n",
    "            df.at[row, 'new_time'] = 'Morning'\n",
    "        elif hour < 18:\n",
    "            df.at[row, 'new_time'] = 'Afternoon'\n",
    "        else:\n",
    "            df.at[row, 'new_time'] = 'Evening'\n",
    "\n",
    "    except:\n",
    "        df.iat[row, df.columns.get_loc('new_time')] = df['time'].iloc[row]\n",
    "\n",
    "# Count occurrences of different time periods\n",
    "bytime_count = df['new_time'].value_counts().reset_index().rename(columns={'new_time': 'Count', 'index': 'time'})\n",
    "bytime_count.head()\n"
   ]
  },
  {
   "cell_type": "code",
   "execution_count": 170,
   "id": "eef9c65e",
   "metadata": {},
   "outputs": [
    {
     "data": {
      "text/plain": [
       "array(['Evening', 'Afternoon', 'Morning', 'Unknown', 'Late afternoon',\n",
       "       'Night', 'Midday', '9h00', 'After noon', '1300', 'Morning ',\n",
       "       'Midnight', 'Early afternoon', '0830', 'Just before noon', '1600',\n",
       "       'Early morning', 'Dawn', 'AM', 'A.M.', 'Dusk', 'Lunchtime',\n",
       "       '15j45', '0500', 'Sunset', '  ', '\"Evening\"',\n",
       "       'Just before sundown', '--', ' ', 'Early Morning',\n",
       "       'Shortly after midnight', '\\xa0 ', 'Late morning', 'P.M.',\n",
       "       '8:04 pm', 'Possibly same incident as 2000.08.21', 'After Dusk',\n",
       "       'Noon', '2 hours after Opperman', 'Mid afternoon', 'Mid morning',\n",
       "       '\"Night\"', '30 minutes after 1992.07.08.a', 'Nightfall', 'X',\n",
       "       '06j00', 'Daybreak', 'Mid-morning', 'Just before dawn', 'Daytime',\n",
       "       'Dark', '\"After lunch\"', 'night', 'Late night', 'Midday.',\n",
       "       '\"After dark\"', '2 hrs before sunset', '1500',\n",
       "       '\"shortly before dusk\"', 'After dusk',\n",
       "       'FATAL  (Wire netting installed at local beaches after this incident.)',\n",
       "       'After midnight', 'Late afternon', '\"Early evening\"',\n",
       "       'Late Afternoon', '   ', 'Before daybreak', 'dusk'], dtype=object)"
      ]
     },
     "execution_count": 170,
     "metadata": {},
     "output_type": "execute_result"
    }
   ],
   "source": [
    "df['new_time'].unique()"
   ]
  },
  {
   "cell_type": "code",
   "execution_count": 171,
   "id": "20cdf614",
   "metadata": {},
   "outputs": [
    {
     "name": "stdout",
     "output_type": "stream",
     "text": [
      "new_time\n",
      "Unknown                                                                  3373\n",
      "Afternoon                                                                1512\n",
      "Morning                                                                   941\n",
      "Evening                                                                   285\n",
      "Night                                                                      64\n",
      "Late afternoon                                                             35\n",
      "A.M.                                                                       12\n",
      "P.M.                                                                       12\n",
      "Early morning                                                              11\n",
      "Midday                                                                     10\n",
      "Early afternoon                                                             8\n",
      "Midnight                                                                    4\n",
      "Sunset                                                                      4\n",
      "Just before noon                                                            2\n",
      "AM                                                                          2\n",
      "Late afternon                                                               2\n",
      "Dark                                                                        2\n",
      "Morning                                                                     1\n",
      "\"After lunch\"                                                               1\n",
      "06j00                                                                       1\n",
      "Daybreak                                                                    1\n",
      "Mid-morning                                                                 1\n",
      "Daytime                                                                     1\n",
      "FATAL  (Wire netting installed at local beaches after this incident.)       1\n",
      "Midday.                                                                     1\n",
      "2 hrs before sunset                                                         1\n",
      "30 minutes after 1992.07.08.a                                               1\n",
      "After midnight                                                              1\n",
      "\"Early evening\"                                                             1\n",
      "Late Afternoon                                                              1\n",
      "                                                                            1\n",
      "Nightfall                                                                   1\n",
      "Noon                                                                        1\n",
      "\"Night\"                                                                     1\n",
      "Mid morning                                                                 1\n",
      "Mid afternoon                                                               1\n",
      "After Dusk                                                                  1\n",
      "Possibly same incident as 2000.08.21                                        1\n",
      "8:04 pm                                                                     1\n",
      "Late morning                                                                1\n",
      "Shortly after midnight                                                      1\n",
      "Early Morning                                                               1\n",
      "Just before sundown                                                         1\n",
      "\"Evening\"                                                                   1\n",
      "0500                                                                        1\n",
      "Lunchtime                                                                   1\n",
      "9h00                                                                        1\n",
      "0830                                                                        1\n",
      "Before daybreak                                                             1\n",
      "Name: count, dtype: int64\n"
     ]
    }
   ],
   "source": [
    "time_mapping = {\n",
    "    'Evening': ['Evening', '\"Evening\"', '\"Early evening\"'],\n",
    "    'Afternoon': ['Afternoon', 'Late afternoon', 'Early afternoon', 'Just before noon', 'Lunchtime',\n",
    "                  'Mid afternoon', 'Daytime', 'Midday', 'Midday.', 'Mid-morning', 'After Dusk',\n",
    "                  '2 hrs before sunset', '\"After lunch\"', '\"shortly before dusk\"', '1500', 'Late Afternoon',\n",
    "                  'FATAL  (Wire netting installed at local beaches after this incident.)', 'Late afternon'],\n",
    "    'Morning': ['Morning', 'Morning ', 'Early morning', 'Dawn', 'Morning', 'Late morning'],\n",
    "    'Night': ['Night', 'Nightfall', 'night', 'Late night', 'Dark', '\"Night\"', 'After midnight',\n",
    "              '30 minutes after 1992.07.08.a', 'Possibly same incident as 2000.08.21', 'Before daybreak',\n",
    "              'Just before dawn'],\n",
    "    'Unknown': ['Unknown', ' ', '--', '\\xa0 ', 'X', '  ', ''],\n",
    "    'Afternoon': ['Late Afternoon'],\n",
    "    'Afternoon': ['9h00', 'Midday', '0830', 'P.M.', '8:04 pm'],\n",
    "    'Afternoon': ['After noon', '1300', '1600', '15j45', '2 hours after Opperman', '1500'],\n",
    "    'Evening': ['Just before sundown', 'Shortly after midnight', 'After Dusk', 'After midnight',\n",
    "                   '2 hrs before sunset', '30 minutes after 1992.07.08.a', 'Possibly same incident as 2000.08.21'],\n",
    "    'Morning': ['Early Morning', 'Early morning', 'Before daybreak'],\n",
    "    'Evening': ['\"Early evening\"'],\n",
    "    'Morning': ['Dawn', 'Just before dawn'],\n",
    "    'Night': ['Midnight', 'Shortly after midnight'],\n",
    "    'Night': ['Late night', 'Night', 'night'],\n",
    "    'Evening': ['Dusk', 'dusk', 'After dusk', '\"shortly before dusk\"', '\"After dark\"'],\n",
    "    'Unknown': ['--', ' ', '\\xa0 ', 'X', '  ', '']\n",
    "    \n",
    "}\n",
    "\n",
    "\n",
    "for category, times in time_mapping.items():\n",
    "    df['new_time'].replace(times, category, inplace=True)\n",
    "\n",
    "\n",
    "time_counts = df['new_time'].value_counts()\n",
    "print(time_counts)"
   ]
  },
  {
   "cell_type": "code",
   "execution_count": 172,
   "id": "e2ba5c4b",
   "metadata": {},
   "outputs": [
    {
     "data": {
      "text/plain": [
       "new_time\n",
       "Unknown           3429\n",
       "Afternoon         1512\n",
       "Morning            941\n",
       "Evening            285\n",
       "Night               64\n",
       "Late afternoon      35\n",
       "A.M.                12\n",
       "P.M.                12\n",
       "Early morning       11\n",
       "Midday              10\n",
       "Name: count, dtype: int64"
      ]
     },
     "execution_count": 172,
     "metadata": {},
     "output_type": "execute_result"
    }
   ],
   "source": [
    "threshold = 10  \n",
    "activity_counts = df['new_time'].value_counts()\n",
    "rare_activities = activity_counts[activity_counts < threshold].index.tolist()\n",
    "\n",
    "\n",
    "df['new_time'].replace(rare_activities, 'Unknown', inplace=True)\n",
    "df['new_time'].value_counts()"
   ]
  },
  {
   "cell_type": "code",
   "execution_count": 173,
   "id": "2b40abb1",
   "metadata": {},
   "outputs": [
    {
     "data": {
      "text/plain": [
       "new_time\n",
       "Unknown      3429\n",
       "Afternoon    1557\n",
       "Morning       964\n",
       "Evening       297\n",
       "Night          64\n",
       "Name: count, dtype: int64"
      ]
     },
     "execution_count": 173,
     "metadata": {},
     "output_type": "execute_result"
    }
   ],
   "source": [
    "df['new_time'] = df['new_time'].replace({\"Late afternoon\":\"Afternoon\",\"A.M.\":\"Morning\",\"P.M.\":\"Evening\", \"Early morning\":\"Morning\",\"Midday\":\"Afternoon\"})\n",
    "df['new_time'].value_counts()"
   ]
  },
  {
   "cell_type": "code",
   "execution_count": 174,
   "id": "fa14e487",
   "metadata": {},
   "outputs": [],
   "source": [
    "df.drop(columns=['time'], inplace=True)"
   ]
  },
  {
   "cell_type": "code",
   "execution_count": 175,
   "id": "befeed11",
   "metadata": {},
   "outputs": [],
   "source": [
    "df[\"investigator_or_source\"].fillna(\"C. Moore, GSAF \", inplace=True)"
   ]
  },
  {
   "cell_type": "code",
   "execution_count": 176,
   "id": "3f8a2361",
   "metadata": {},
   "outputs": [],
   "source": [
    "df[\"investigator_or_source\"].fillna(\"1935.06.05.R-SolomonIslands.pdf\", inplace=True)"
   ]
  },
  {
   "cell_type": "code",
   "execution_count": 177,
   "id": "a952a8d4",
   "metadata": {},
   "outputs": [
    {
     "data": {
      "text/plain": [
       "original_order\n",
       "3156.0    3\n",
       "569.0     2\n",
       "6303.0    1\n",
       "2101.0    1\n",
       "2092.0    1\n",
       "         ..\n",
       "4203.0    1\n",
       "4204.0    1\n",
       "4205.0    1\n",
       "4206.0    1\n",
       "6310.0    1\n",
       "Name: count, Length: 6308, dtype: int64"
      ]
     },
     "execution_count": 177,
     "metadata": {},
     "output_type": "execute_result"
    }
   ],
   "source": [
    "#df[\"original_order\"].fillna(\"Unknown\", inplace=True)\n",
    "df['original_order'] = df['original_order'].fillna(df['original_order'].median())\n",
    "df[\"original_order\"].value_counts(dropna=False)"
   ]
  },
  {
   "cell_type": "code",
   "execution_count": 178,
   "id": "5b7e2a9f",
   "metadata": {},
   "outputs": [
    {
     "name": "stdout",
     "output_type": "stream",
     "text": [
      "<class 'pandas.core.frame.DataFrame'>\n",
      "RangeIndex: 6311 entries, 0 to 6310\n",
      "Data columns (total 19 columns):\n",
      " #   Column                  Non-Null Count  Dtype  \n",
      "---  ------                  --------------  -----  \n",
      " 0   case_number             6311 non-null   object \n",
      " 1   date                    6302 non-null   object \n",
      " 2   year                    6311 non-null   float64\n",
      " 3   type                    6311 non-null   object \n",
      " 4   country                 6311 non-null   object \n",
      " 5   area                    6311 non-null   object \n",
      " 6   location                6311 non-null   object \n",
      " 7   activity                6311 non-null   object \n",
      " 8   name                    6311 non-null   object \n",
      " 9   sex                     6311 non-null   object \n",
      " 10  injury                  6266 non-null   object \n",
      " 11  fatal_(y/n)             6311 non-null   object \n",
      " 12  investigator_or_source  6311 non-null   object \n",
      " 13  original_order          6311 non-null   float64\n",
      " 14  iso_code                6311 non-null   object \n",
      " 15  new_species             6311 non-null   object \n",
      " 16  standardized_age        6311 non-null   Int64  \n",
      " 17  month                   6311 non-null   object \n",
      " 18  new_time                6311 non-null   object \n",
      "dtypes: Int64(1), float64(2), object(16)\n",
      "memory usage: 943.1+ KB\n"
     ]
    }
   ],
   "source": [
    "df.info()"
   ]
  },
  {
   "cell_type": "code",
   "execution_count": 179,
   "id": "99d40422",
   "metadata": {},
   "outputs": [
    {
     "data": {
      "text/plain": [
       "case_number                0\n",
       "date                       9\n",
       "year                       0\n",
       "type                       0\n",
       "country                    0\n",
       "area                       0\n",
       "location                   0\n",
       "activity                   0\n",
       "name                       0\n",
       "sex                        0\n",
       "injury                    45\n",
       "fatal_(y/n)                0\n",
       "investigator_or_source     0\n",
       "original_order             0\n",
       "iso_code                   0\n",
       "new_species                0\n",
       "standardized_age           0\n",
       "month                      0\n",
       "new_time                   0\n",
       "dtype: int64"
      ]
     },
     "execution_count": 179,
     "metadata": {},
     "output_type": "execute_result"
    }
   ],
   "source": [
    "df.isna().sum()"
   ]
  },
  {
   "cell_type": "code",
   "execution_count": 180,
   "id": "0f909989",
   "metadata": {},
   "outputs": [
    {
     "name": "stdout",
     "output_type": "stream",
     "text": [
      "country\n",
      "North America    2717\n",
      "Australia        1338\n",
      "Africa            837\n",
      "Oceania           582\n",
      "Asia              363\n",
      "Europe            275\n",
      "South America     172\n",
      "Unknown            26\n",
      "Name: count, dtype: int64\n"
     ]
    }
   ],
   "source": [
    "country_continent_mapping = {\n",
    "    'USA': 'North America',\n",
    "    'AUSTRALIA': 'Australia',\n",
    "    'MEXICO': 'North America',\n",
    "    'BRAZIL': 'South America',\n",
    "    'ENGLAND': 'Europe',\n",
    "    'SOUTH AFRICA': 'Africa',\n",
    "    'THAILAND': 'Asia',\n",
    "    'COSTA RICA': 'North America',\n",
    "    'MALDIVES': 'Asia',\n",
    "    'BAHAMAS': 'North America',\n",
    "    'NEW CALEDONIA': 'Oceania',\n",
    "    'ECUADOR': 'South America',\n",
    "    'MALAYSIA': 'Asia',\n",
    "    'LIBYA': 'Africa',\n",
    "    'CUBA': 'North America',\n",
    "    'MAURITIUS': 'Africa',\n",
    "    'NEW ZEALAND': 'Oceania',\n",
    "    'SPAIN': 'Europe',\n",
    "    'SAMOA': 'Oceania',\n",
    "    'SOLOMON ISLANDS': 'Oceania',\n",
    "    'JAPAN': 'Asia',\n",
    "    'EGYPT': 'Africa',\n",
    "    'ST HELENA, British overseas territory': 'Africa',\n",
    "    'COMOROS': 'Africa',\n",
    "    'REUNION': 'Africa',\n",
    "    'FRENCH POLYNESIA': 'Oceania',\n",
    "    'UNITED KINGDOM': 'Europe',\n",
    "    'UNITED ARAB EMIRATES': 'Asia',\n",
    "    'PHILIPPINES': 'Asia',\n",
    "    'INDONESIA': 'Asia',\n",
    "    'CHINA': 'Asia',\n",
    "    'COLUMBIA': 'South America',\n",
    "    'CAPE VERDE': 'Africa',\n",
    "    'Fiji': 'Oceania',\n",
    "    'DOMINICAN REPUBLIC': 'North America',\n",
    "    'CAYMAN ISLANDS': 'North America',\n",
    "    'ARUBA': 'North America',\n",
    "    'MOZAMBIQUE': 'Africa',\n",
    "    'FIJI': 'Oceania',\n",
    "    'PUERTO RICO': 'North America',\n",
    "    'ITALY': 'Europe',\n",
    "    'ATLANTIC OCEAN': 'Unknown',\n",
    "    'GREECE': 'Europe',\n",
    "    'ST. MARTIN': 'North America',\n",
    "    'FRANCE': 'Europe',\n",
    "    'PAPUA NEW GUINEA': 'Oceania',\n",
    "    'TRINIDAD & TOBAGO': 'North America',\n",
    "    'KIRIBATI': 'Oceania',\n",
    "    'ISRAEL': 'Asia',\n",
    "    'DIEGO GARCIA': 'Asia',\n",
    "    'TAIWAN': 'Asia',\n",
    "    'JAMAICA': 'North America',\n",
    "    'PALESTINIAN TERRITORIES': 'Asia',\n",
    "    'GUAM': 'Oceania',\n",
    "    'SEYCHELLES': 'Africa',\n",
    "    'BELIZE': 'North America',\n",
    "    'NIGERIA': 'Africa',\n",
    "    'TONGA': 'Oceania',\n",
    "    'SCOTLAND': 'Europe',\n",
    "    'CANADA': 'North America',\n",
    "    'CROATIA': 'Europe',\n",
    "    'SAUDI ARABIA': 'Asia',\n",
    "    'CHILE': 'South America',\n",
    "    'ANTIGUA': 'North America',\n",
    "    'KENYA': 'Africa',\n",
    "    'RUSSIA': 'Europe',\n",
    "    'TURKS & CAICOS': 'North America',\n",
    "    'UNITED ARAB EMIRATES (UAE)': 'Asia',\n",
    "    'AZORES': 'Europe',\n",
    "    'SOUTH KOREA': 'Asia',\n",
    "    'MALTA': 'Europe',\n",
    "    'VIETNAM': 'Asia',\n",
    "    'MADAGASCAR': 'Africa',\n",
    "    'PANAMA': 'North America',\n",
    "    'SOMALIA': 'Africa',\n",
    "    'NEVIS': 'North America',\n",
    "    'BRITISH VIRGIN ISLANDS': 'North America',\n",
    "    'NORWAY': 'Europe',\n",
    "    'SENEGAL': 'Africa',\n",
    "    'YEMEN': 'Asia',\n",
    "    'GULF OF ADEN': 'Asia',\n",
    "    'Sierra Leone': 'Africa',\n",
    "    'ST. MAARTIN': 'North America',\n",
    "    'GRAND CAYMAN': 'North America',\n",
    "    'Seychelles': 'Africa',\n",
    "    'LIBERIA': 'Africa',\n",
    "    'VANUATU': 'Oceania',\n",
    "    'MEXICO ': 'North America',\n",
    "    'HONDURAS': 'North America',\n",
    "    'VENEZUELA': 'South America',\n",
    "    'SRI LANKA': 'Asia',\n",
    "    ' TONGA': 'Oceania',\n",
    "    'URUGUAY': 'South America',\n",
    "    'INDIA': 'Asia',\n",
    "    'MICRONESIA': 'Oceania',\n",
    "    'CARIBBEAN SEA': 'North America',\n",
    "    'OKINAWA': 'Asia',\n",
    "    'TANZANIA': 'Africa',\n",
    "    'MARSHALL ISLANDS': 'Oceania',\n",
    "    'EGYPT / ISRAEL': 'Asia',\n",
    "    'NORTHERN ARABIAN SEA': 'Asia',\n",
    "    'HONG KONG': 'Asia',\n",
    "    'EL SALVADOR': 'North America',\n",
    "    'ANGOLA': 'Africa',\n",
    "    'BERMUDA': 'North America',\n",
    "    'MONTENEGRO': 'Europe',\n",
    "    'IRAN': 'Asia',\n",
    "    'TUNISIA': 'Africa',\n",
    "    'NAMIBIA': 'Africa',\n",
    "    'NORTH ATLANTIC OCEAN': 'Unknown',\n",
    "    'PORTUGAL': 'Europe',\n",
    "    'SOUTH CHINA SEA': 'Asia',\n",
    "    'BANGLADESH': 'Asia',\n",
    "    'PALAU': 'Oceania',\n",
    "    'WESTERN SAMOA': 'Oceania',\n",
    "    'PACIFIC OCEAN ': 'Oceania',\n",
    "    'BRITISH ISLES': 'Europe',\n",
    "    'GRENADA': 'North America',\n",
    "    'IRAQ': 'Asia',\n",
    "    'TURKEY': 'Europe',\n",
    "    'SINGAPORE': 'Asia',\n",
    "    'NEW BRITAIN': 'Oceania',\n",
    "    'SUDAN': 'Africa',\n",
    "    'JOHNSTON ISLAND': 'Oceania',\n",
    "    'SOUTH PACIFIC OCEAN': 'Oceania',\n",
    "    'NEW GUINEA': 'Oceania',\n",
    "    'RED SEA': 'Africa',\n",
    "    'NORTH PACIFIC OCEAN': 'Oceania',\n",
    "    'FEDERATED STATES OF MICRONESIA': 'Oceania',\n",
    "    'MID ATLANTIC OCEAN': 'Oceania',\n",
    "    'ADMIRALTY ISLANDS': 'Oceania',\n",
    "    'BRITISH WEST INDIES': 'North America',\n",
    "    'SOUTH ATLANTIC OCEAN': 'South America',\n",
    "    'PERSIAN GULF': 'Asia',\n",
    "    'RED SEA / INDIAN OCEAN': 'Africa',\n",
    "    'PACIFIC OCEAN': 'Oceania',\n",
    "    'NORTH SEA': 'Europe',\n",
    "    'NICARAGUA ': 'North America',\n",
    "    'MALDIVE ISLANDS': 'Asia',\n",
    "    'AMERICAN SAMOA': 'Oceania',\n",
    "    'ANDAMAN / NICOBAR ISLANDAS': 'Asia',\n",
    "    'GABON': 'Africa',\n",
    "    'MAYOTTE': 'Africa',\n",
    "    'NORTH ATLANTIC OCEAN ': 'North America',\n",
    "    'THE BALKANS': 'Europe',\n",
    "    'SUDAN?': 'Africa',\n",
    "    'ARGENTINA': 'South America',\n",
    "    'MARTINIQUE': 'North America',\n",
    "    'INDIAN OCEAN': 'Oceania',\n",
    "    'GUATEMALA': 'North America',\n",
    "    'NETHERLANDS ANTILLES': 'North America',\n",
    "    'NORTHERN MARIANA ISLANDS': 'Oceania',\n",
    "    'IRAN / IRAQ': 'Asia',\n",
    "    'JAVA': 'Asia',\n",
    "    'SIERRA LEONE': 'Africa',\n",
    "    ' PHILIPPINES': 'Asia',\n",
    "    'NICARAGUA': 'North America',\n",
    "    'CENTRAL PACIFIC': 'Oceania',\n",
    "    'SOLOMON ISLANDS / VANUATU': 'Oceania',\n",
    "    'SOUTHWEST PACIFIC OCEAN': 'Oceania',\n",
    "    'BAY OF BENGAL': 'Asia',\n",
    "    'MID-PACIFC OCEAN': 'Oceania',\n",
    "    'SLOVENIA': 'Europe',\n",
    "    'CURACAO': 'North America',\n",
    "    'ICELAND': 'Europe',\n",
    "    'ITALY / CROATIA': 'Europe',\n",
    "    'BARBADOS': 'North America',\n",
    "    'MONACO': 'Europe',\n",
    "    'GUYANA': 'South America',\n",
    "    'HAITI': 'North America',\n",
    "    'SAN DOMINGO': 'North America',\n",
    "    'IRELAND': 'Europe',\n",
    "    'KUWAIT': 'Asia',\n",
    "    'YEMEN ': 'Asia',\n",
    "    'REUNION ISLAND': 'Africa',\n",
    "    'FALKLAND ISLANDS': 'South America',\n",
    "    'CRETE': 'Europe',\n",
    "    'CYPRUS': 'Asia',\n",
    "    'EGYPT ': 'Africa',\n",
    "    'WEST INDIES': 'North America',\n",
    "    'BURMA': 'Asia',\n",
    "    'LEBANON': 'Asia',\n",
    "    'PARAGUAY': 'South America',\n",
    "    'BRITISH NEW GUINEA': 'Oceania',\n",
    "    'CEYLON': 'Asia',\n",
    "    'OCEAN': 'Unknown',\n",
    "    'GEORGIA': 'Asia',\n",
    "    'SYRIA': 'Asia',\n",
    "    'TUVALU': 'Oceania',\n",
    "    'INDIAN OCEAN?': 'Oceania',\n",
    "    'GUINEA': 'Africa',\n",
    "    'ANDAMAN ISLANDS': 'Asia',\n",
    "    'EQUATORIAL GUINEA / CAMEROON': 'Africa',\n",
    "    'COOK ISLANDS': 'Oceania',\n",
    "    'TOBAGO': 'North America',\n",
    "    'PERU': 'South America',\n",
    "    'AFRICA': 'Africa',\n",
    "    'ALGERIA' : 'Africa',\n",
    "    'Coast of AFRICA' : 'Africa',\n",
    "    'TASMAN SEA' : 'Oceania',\n",
    "    'GHANA' : 'Africa',\n",
    "'GREENLAND' : 'North America',\n",
    "'MEDITERRANEAN SEA' : 'Unknown',\n",
    "'SWEDEN' : 'Europe',\n",
    "'ROATAN' : 'North America',\n",
    "'Between PORTUGAL & INDIA' : 'Unknown',\n",
    "'DJIBOUTI' : 'Africa',\n",
    "'BAHREIN' : 'Asia',\n",
    "'KOREA' : 'Asia',\n",
    "'RED SEA' : 'Unknown',\n",
    "'ASIA?' : 'Asia',\n",
    "'CEYLON (SRI LANKA)' : 'Asia'\n",
    "}\n",
    "# Reemplazar categorías en el DataFrame usando un diccionario\n",
    "df['country'] = df['country'].map(country_continent_mapping)\n",
    "# Contar el número en cada categoría\n",
    "country_counts = df['country'].value_counts()\n",
    "print(country_counts)"
   ]
  },
  {
   "cell_type": "code",
   "execution_count": 181,
   "id": "a1810fc2",
   "metadata": {},
   "outputs": [
    {
     "data": {
      "text/plain": [
       "Index(['case_number', 'date', 'year', 'type', 'country', 'area', 'location',\n",
       "       'activity', 'name', 'sex', 'injury', 'fatal_(y/n)',\n",
       "       'investigator_or_source', 'original_order', 'iso_code', 'new_species',\n",
       "       'standardized_age', 'month', 'new_time'],\n",
       "      dtype='object')"
      ]
     },
     "execution_count": 181,
     "metadata": {},
     "output_type": "execute_result"
    }
   ],
   "source": [
    "df.columns"
   ]
  },
  {
   "cell_type": "code",
   "execution_count": 182,
   "id": "2dbf4abb",
   "metadata": {},
   "outputs": [],
   "source": [
    "df.drop(['case_number', 'original_order','investigator_or_source', 'date', 'area', 'location', 'name', 'month','iso_code'], axis=1, inplace=True)"
   ]
  },
  {
   "cell_type": "code",
   "execution_count": 183,
   "id": "6faa2a27",
   "metadata": {},
   "outputs": [
    {
     "data": {
      "image/png": "[encoded data removed]",
      "text/plain": [
       "<Figure size 640x480 with 1 Axes>"
      ]
     },
     "metadata": {},
     "output_type": "display_data"
    }
   ],
   "source": [
    "sns.countplot(x='fatal_(y/n)', data=df)\n",
    "plt.show()"
   ]
  },
  {
   "cell_type": "code",
   "execution_count": 184,
   "id": "5b20f155",
   "metadata": {},
   "outputs": [
    {
     "data": {
      "image/png": "[encoded data removed]",
      "text/plain": [
       "<Figure size 640x480 with 1 Axes>"
      ]
     },
     "metadata": {},
     "output_type": "display_data"
    }
   ],
   "source": [
    "sns.countplot(x =\"fatal_(y/n)\" , hue = \"type\", data = df)\n",
    "plt.show()"
   ]
  },
  {
   "cell_type": "code",
   "execution_count": 185,
   "id": "4a8ffd5c",
   "metadata": {},
   "outputs": [
    {
     "data": {
      "image/png": "[encoded data removed]",
      "text/plain": [
       "<Figure size 640x480 with 1 Axes>"
      ]
     },
     "metadata": {},
     "output_type": "display_data"
    }
   ],
   "source": [
    "sns.countplot(x =\"fatal_(y/n)\" , hue = \"new_species\", data = df)\n",
    "plt.show()\n",
    " "
   ]
  },
  {
   "cell_type": "code",
   "execution_count": 186,
   "id": "bf473a23",
   "metadata": {},
   "outputs": [
    {
     "data": {
      "image/png": "[encoded data removed]",
      "text/plain": [
       "<Figure size 640x480 with 1 Axes>"
      ]
     },
     "metadata": {},
     "output_type": "display_data"
    }
   ],
   "source": [
    "sns.countplot(x =\"fatal_(y/n)\" , hue = \"injury\", data = df)\n",
    "plt.show()"
   ]
  },
  {
   "cell_type": "code",
   "execution_count": 187,
   "id": "f3207f8d",
   "metadata": {},
   "outputs": [
    {
     "data": {
      "image/png": "[encoded data removed]",
      "text/plain": [
       "<Figure size 640x480 with 1 Axes>"
      ]
     },
     "metadata": {},
     "output_type": "display_data"
    }
   ],
   "source": [
    "sns.countplot(x =\"fatal_(y/n)\" , hue = \"activity\", data = df)\n",
    "plt.show()"
   ]
  },
  {
   "cell_type": "code",
   "execution_count": 188,
   "id": "4797bd09",
   "metadata": {},
   "outputs": [
    {
     "data": {
      "image/png": "[encoded data removed]",
      "text/plain": [
       "<Figure size 640x480 with 1 Axes>"
      ]
     },
     "metadata": {},
     "output_type": "display_data"
    }
   ],
   "source": [
    "sns.countplot(x =\"fatal_(y/n)\" , hue = \"country\", data = df)\n",
    "plt.show()"
   ]
  },
  {
   "cell_type": "code",
   "execution_count": 189,
   "id": "683c3dac",
   "metadata": {},
   "outputs": [
    {
     "data": {
      "image/png": "[encoded data removed]",
      "text/plain": [
       "<Figure size 640x480 with 1 Axes>"
      ]
     },
     "metadata": {},
     "output_type": "display_data"
    }
   ],
   "source": [
    "sns.countplot(x =\"fatal_(y/n)\" , hue = \"country\", data = df)\n",
    "plt.show()"
   ]
  },
  {
   "cell_type": "code",
   "execution_count": 190,
   "id": "8d73ccd6",
   "metadata": {},
   "outputs": [
    {
     "data": {
      "image/png": "[encoded data removed]",
      "text/plain": [
       "<Figure size 1200x800 with 1 Axes>"
      ]
     },
     "metadata": {},
     "output_type": "display_data"
    }
   ],
   "source": [
    "import seaborn as sns\n",
    "import matplotlib.pyplot as plt\n",
    "\n",
    "# Grouping years into larger intervals (e.g., half of centuries)\n",
    "df['year_century_h'] = df['year'] // 50 * 50  # Grouping into half of centuries\n",
    "plt.figure(figsize=(12, 8))\n",
    "sns.countplot(data=df, x='year_century_h')\n",
    "plt.show()\n",
    "\n"
   ]
  },
  {
   "cell_type": "code",
   "execution_count": 191,
   "id": "ab72d911",
   "metadata": {},
   "outputs": [],
   "source": [
    "\n",
    "df.drop(columns=['year_century_h'], inplace=True)"
   ]
  },
  {
   "cell_type": "code",
   "execution_count": 192,
   "id": "42aacc3b",
   "metadata": {},
   "outputs": [
    {
     "data": {
      "text/plain": [
       "country\n",
       "North America    2718\n",
       "Australia        1338\n",
       "Africa            837\n",
       "Oceania           582\n",
       "Asia              363\n",
       "Europe            275\n",
       "South America     172\n",
       "Unknown            26\n",
       "Name: count, dtype: int64"
      ]
     },
     "execution_count": 192,
     "metadata": {},
     "output_type": "execute_result"
    }
   ],
   "source": [
    "\n",
    "df['country'].fillna('North America', inplace=True)\n",
    "df['country'].value_counts(dropna=False)"
   ]
  },
  {
   "cell_type": "code",
   "execution_count": 193,
   "id": "5a7107e4",
   "metadata": {},
   "outputs": [
    {
     "name": "stdout",
     "output_type": "stream",
     "text": [
      "<class 'pandas.core.frame.DataFrame'>\n",
      "RangeIndex: 6311 entries, 0 to 6310\n",
      "Data columns (total 10 columns):\n",
      " #   Column            Non-Null Count  Dtype  \n",
      "---  ------            --------------  -----  \n",
      " 0   year              6311 non-null   float64\n",
      " 1   type              6311 non-null   object \n",
      " 2   country           6311 non-null   object \n",
      " 3   activity          6311 non-null   object \n",
      " 4   sex               6311 non-null   object \n",
      " 5   injury            6266 non-null   object \n",
      " 6   fatal_(y/n)       6311 non-null   object \n",
      " 7   new_species       6311 non-null   object \n",
      " 8   standardized_age  6311 non-null   Int64  \n",
      " 9   new_time          6311 non-null   object \n",
      "dtypes: Int64(1), float64(1), object(8)\n",
      "memory usage: 499.3+ KB\n"
     ]
    }
   ],
   "source": [
    "df.info()"
   ]
  },
  {
   "cell_type": "code",
   "execution_count": 194,
   "id": "255e2bbe",
   "metadata": {},
   "outputs": [
    {
     "data": {
      "text/html": [
       "<div>\n",
       "<style scoped>\n",
       "    .dataframe tbody tr th:only-of-type {\n",
       "        vertical-align: middle;\n",
       "    }\n",
       "\n",
       "    .dataframe tbody tr th {\n",
       "        vertical-align: top;\n",
       "    }\n",
       "\n",
       "    .dataframe thead th {\n",
       "        text-align: right;\n",
       "    }\n",
       "</style>\n",
       "<table border=\"1\" class=\"dataframe\">\n",
       "  <thead>\n",
       "    <tr style=\"text-align: right;\">\n",
       "      <th></th>\n",
       "      <th>year</th>\n",
       "      <th>standardized_age</th>\n",
       "    </tr>\n",
       "  </thead>\n",
       "  <tbody>\n",
       "    <tr>\n",
       "      <th>0</th>\n",
       "      <td>2018.0</td>\n",
       "      <td>57</td>\n",
       "    </tr>\n",
       "    <tr>\n",
       "      <th>1</th>\n",
       "      <td>2018.0</td>\n",
       "      <td>11</td>\n",
       "    </tr>\n",
       "    <tr>\n",
       "      <th>2</th>\n",
       "      <td>2018.0</td>\n",
       "      <td>48</td>\n",
       "    </tr>\n",
       "    <tr>\n",
       "      <th>3</th>\n",
       "      <td>2018.0</td>\n",
       "      <td>24</td>\n",
       "    </tr>\n",
       "    <tr>\n",
       "      <th>4</th>\n",
       "      <td>2018.0</td>\n",
       "      <td>24</td>\n",
       "    </tr>\n",
       "    <tr>\n",
       "      <th>...</th>\n",
       "      <td>...</td>\n",
       "      <td>...</td>\n",
       "    </tr>\n",
       "    <tr>\n",
       "      <th>6306</th>\n",
       "      <td>1977.0</td>\n",
       "      <td>24</td>\n",
       "    </tr>\n",
       "    <tr>\n",
       "      <th>6307</th>\n",
       "      <td>1977.0</td>\n",
       "      <td>24</td>\n",
       "    </tr>\n",
       "    <tr>\n",
       "      <th>6308</th>\n",
       "      <td>1977.0</td>\n",
       "      <td>24</td>\n",
       "    </tr>\n",
       "    <tr>\n",
       "      <th>6309</th>\n",
       "      <td>1977.0</td>\n",
       "      <td>24</td>\n",
       "    </tr>\n",
       "    <tr>\n",
       "      <th>6310</th>\n",
       "      <td>1977.0</td>\n",
       "      <td>24</td>\n",
       "    </tr>\n",
       "  </tbody>\n",
       "</table>\n",
       "<p>6311 rows × 2 columns</p>\n",
       "</div>"
      ],
      "text/plain": [
       "        year  standardized_age\n",
       "0     2018.0                57\n",
       "1     2018.0                11\n",
       "2     2018.0                48\n",
       "3     2018.0                24\n",
       "4     2018.0                24\n",
       "...      ...               ...\n",
       "6306  1977.0                24\n",
       "6307  1977.0                24\n",
       "6308  1977.0                24\n",
       "6309  1977.0                24\n",
       "6310  1977.0                24\n",
       "\n",
       "[6311 rows x 2 columns]"
      ]
     },
     "execution_count": 194,
     "metadata": {},
     "output_type": "execute_result"
    }
   ],
   "source": [
    "numerical = df.select_dtypes(\"number\")\n",
    "numerical"
   ]
  },
  {
   "cell_type": "code",
   "execution_count": 195,
   "id": "c5ee6092",
   "metadata": {
    "scrolled": true
   },
   "outputs": [
    {
     "data": {
      "text/html": [
       "<div>\n",
       "<style scoped>\n",
       "    .dataframe tbody tr th:only-of-type {\n",
       "        vertical-align: middle;\n",
       "    }\n",
       "\n",
       "    .dataframe tbody tr th {\n",
       "        vertical-align: top;\n",
       "    }\n",
       "\n",
       "    .dataframe thead th {\n",
       "        text-align: right;\n",
       "    }\n",
       "</style>\n",
       "<table border=\"1\" class=\"dataframe\">\n",
       "  <thead>\n",
       "    <tr style=\"text-align: right;\">\n",
       "      <th></th>\n",
       "      <th>type</th>\n",
       "      <th>country</th>\n",
       "      <th>activity</th>\n",
       "      <th>sex</th>\n",
       "      <th>injury</th>\n",
       "      <th>fatal_(y/n)</th>\n",
       "      <th>new_species</th>\n",
       "      <th>new_time</th>\n",
       "    </tr>\n",
       "  </thead>\n",
       "  <tbody>\n",
       "    <tr>\n",
       "      <th>0</th>\n",
       "      <td>Boating</td>\n",
       "      <td>North America</td>\n",
       "      <td>Other</td>\n",
       "      <td>F</td>\n",
       "      <td>No injury</td>\n",
       "      <td>N</td>\n",
       "      <td>Common Shark Species</td>\n",
       "      <td>Evening</td>\n",
       "    </tr>\n",
       "    <tr>\n",
       "      <th>1</th>\n",
       "      <td>Unprovoked</td>\n",
       "      <td>North America</td>\n",
       "      <td>Stationary</td>\n",
       "      <td>F</td>\n",
       "      <td>Other</td>\n",
       "      <td>N</td>\n",
       "      <td>Unknown shark</td>\n",
       "      <td>Afternoon</td>\n",
       "    </tr>\n",
       "    <tr>\n",
       "      <th>2</th>\n",
       "      <td>Invalid</td>\n",
       "      <td>North America</td>\n",
       "      <td>Water Sports</td>\n",
       "      <td>M</td>\n",
       "      <td>Other</td>\n",
       "      <td>N</td>\n",
       "      <td>Unknown shark</td>\n",
       "      <td>Morning</td>\n",
       "    </tr>\n",
       "    <tr>\n",
       "      <th>3</th>\n",
       "      <td>Unprovoked</td>\n",
       "      <td>Australia</td>\n",
       "      <td>Water Sports</td>\n",
       "      <td>M</td>\n",
       "      <td>Other</td>\n",
       "      <td>N</td>\n",
       "      <td>Large Sharks</td>\n",
       "      <td>Unknown</td>\n",
       "    </tr>\n",
       "    <tr>\n",
       "      <th>4</th>\n",
       "      <td>Provoked</td>\n",
       "      <td>North America</td>\n",
       "      <td>Water Activities</td>\n",
       "      <td>M</td>\n",
       "      <td>Other</td>\n",
       "      <td>N</td>\n",
       "      <td>Common Shark Species</td>\n",
       "      <td>Unknown</td>\n",
       "    </tr>\n",
       "    <tr>\n",
       "      <th>...</th>\n",
       "      <td>...</td>\n",
       "      <td>...</td>\n",
       "      <td>...</td>\n",
       "      <td>...</td>\n",
       "      <td>...</td>\n",
       "      <td>...</td>\n",
       "      <td>...</td>\n",
       "      <td>...</td>\n",
       "    </tr>\n",
       "    <tr>\n",
       "      <th>6306</th>\n",
       "      <td>Unprovoked</td>\n",
       "      <td>North America</td>\n",
       "      <td>Water Sports</td>\n",
       "      <td>M</td>\n",
       "      <td>Fatal</td>\n",
       "      <td>UNKNOWN</td>\n",
       "      <td>Unknown shark</td>\n",
       "      <td>Unknown</td>\n",
       "    </tr>\n",
       "    <tr>\n",
       "      <th>6307</th>\n",
       "      <td>Unprovoked</td>\n",
       "      <td>North America</td>\n",
       "      <td>Water Sports</td>\n",
       "      <td>M</td>\n",
       "      <td>Fatal</td>\n",
       "      <td>UNKNOWN</td>\n",
       "      <td>Unknown shark</td>\n",
       "      <td>Unknown</td>\n",
       "    </tr>\n",
       "    <tr>\n",
       "      <th>6308</th>\n",
       "      <td>Unprovoked</td>\n",
       "      <td>North America</td>\n",
       "      <td>Water Sports</td>\n",
       "      <td>M</td>\n",
       "      <td>Fatal</td>\n",
       "      <td>UNKNOWN</td>\n",
       "      <td>Unknown shark</td>\n",
       "      <td>Unknown</td>\n",
       "    </tr>\n",
       "    <tr>\n",
       "      <th>6309</th>\n",
       "      <td>Unprovoked</td>\n",
       "      <td>North America</td>\n",
       "      <td>Water Sports</td>\n",
       "      <td>M</td>\n",
       "      <td>Fatal</td>\n",
       "      <td>UNKNOWN</td>\n",
       "      <td>Unknown shark</td>\n",
       "      <td>Unknown</td>\n",
       "    </tr>\n",
       "    <tr>\n",
       "      <th>6310</th>\n",
       "      <td>Unprovoked</td>\n",
       "      <td>North America</td>\n",
       "      <td>Water Sports</td>\n",
       "      <td>M</td>\n",
       "      <td>Fatal</td>\n",
       "      <td>UNKNOWN</td>\n",
       "      <td>Unknown shark</td>\n",
       "      <td>Unknown</td>\n",
       "    </tr>\n",
       "  </tbody>\n",
       "</table>\n",
       "<p>6311 rows × 8 columns</p>\n",
       "</div>"
      ],
      "text/plain": [
       "            type        country          activity sex     injury fatal_(y/n)  \\\n",
       "0        Boating  North America             Other   F  No injury           N   \n",
       "1     Unprovoked  North America        Stationary   F      Other           N   \n",
       "2        Invalid  North America      Water Sports   M      Other           N   \n",
       "3     Unprovoked      Australia      Water Sports   M      Other           N   \n",
       "4       Provoked  North America  Water Activities   M      Other           N   \n",
       "...          ...            ...               ...  ..        ...         ...   \n",
       "6306  Unprovoked  North America      Water Sports   M      Fatal     UNKNOWN   \n",
       "6307  Unprovoked  North America      Water Sports   M      Fatal     UNKNOWN   \n",
       "6308  Unprovoked  North America      Water Sports   M      Fatal     UNKNOWN   \n",
       "6309  Unprovoked  North America      Water Sports   M      Fatal     UNKNOWN   \n",
       "6310  Unprovoked  North America      Water Sports   M      Fatal     UNKNOWN   \n",
       "\n",
       "               new_species   new_time  \n",
       "0     Common Shark Species    Evening  \n",
       "1            Unknown shark  Afternoon  \n",
       "2            Unknown shark    Morning  \n",
       "3             Large Sharks    Unknown  \n",
       "4     Common Shark Species    Unknown  \n",
       "...                    ...        ...  \n",
       "6306         Unknown shark    Unknown  \n",
       "6307         Unknown shark    Unknown  \n",
       "6308         Unknown shark    Unknown  \n",
       "6309         Unknown shark    Unknown  \n",
       "6310         Unknown shark    Unknown  \n",
       "\n",
       "[6311 rows x 8 columns]"
      ]
     },
     "execution_count": 195,
     "metadata": {},
     "output_type": "execute_result"
    }
   ],
   "source": [
    "categorical =df.select_dtypes(\"object\")\n",
    "categorical"
   ]
  },
  {
   "cell_type": "code",
   "execution_count": 196,
   "id": "a4ca0cae",
   "metadata": {},
   "outputs": [
    {
     "data": {
      "text/plain": [
       "fatal_(y/n)\n",
       "N          4301\n",
       "Y          1389\n",
       "UNKNOWN     621\n",
       "Name: count, dtype: int64"
      ]
     },
     "execution_count": 196,
     "metadata": {},
     "output_type": "execute_result"
    }
   ],
   "source": [
    "df['fatal_(y/n)'].value_counts()"
   ]
  },
  {
   "cell_type": "code",
   "execution_count": 198,
   "id": "7841fe8d",
   "metadata": {},
   "outputs": [],
   "source": [
    "df['fatal_(y/n)'].replace('UNKNOWN', 'U', inplace=True)\n"
   ]
  },
  {
   "cell_type": "code",
   "execution_count": 202,
   "id": "14383dbc",
   "metadata": {},
   "outputs": [],
   "source": [
    "df = df[df['fatal_(y/n)'].isin(['Y', 'N'])]"
   ]
  },
  {
   "cell_type": "code",
   "execution_count": 203,
   "id": "6e6e150d",
   "metadata": {},
   "outputs": [
    {
     "data": {
      "text/plain": [
       "fatal_(y/n)\n",
       "N    4301\n",
       "Y    1389\n",
       "Name: count, dtype: int64"
      ]
     },
     "execution_count": 203,
     "metadata": {},
     "output_type": "execute_result"
    }
   ],
   "source": [
    "df['fatal_(y/n)'].value_counts()"
   ]
  },
  {
   "cell_type": "markdown",
   "id": "8ac04ab2",
   "metadata": {},
   "source": [
    "EDA"
   ]
  },
  {
   "cell_type": "code",
   "execution_count": 204,
   "id": "897bd7f1",
   "metadata": {},
   "outputs": [
    {
     "data": {
      "text/html": [
       "<div>\n",
       "<style scoped>\n",
       "    .dataframe tbody tr th:only-of-type {\n",
       "        vertical-align: middle;\n",
       "    }\n",
       "\n",
       "    .dataframe tbody tr th {\n",
       "        vertical-align: top;\n",
       "    }\n",
       "\n",
       "    .dataframe thead th {\n",
       "        text-align: right;\n",
       "    }\n",
       "</style>\n",
       "<table border=\"1\" class=\"dataframe\">\n",
       "  <thead>\n",
       "    <tr style=\"text-align: right;\">\n",
       "      <th>fatal_(y/n)</th>\n",
       "      <th>N</th>\n",
       "      <th>Y</th>\n",
       "    </tr>\n",
       "    <tr>\n",
       "      <th>type</th>\n",
       "      <th></th>\n",
       "      <th></th>\n",
       "    </tr>\n",
       "  </thead>\n",
       "  <tbody>\n",
       "    <tr>\n",
       "      <th>Boating</th>\n",
       "      <td>7.416880</td>\n",
       "      <td>0.791937</td>\n",
       "    </tr>\n",
       "    <tr>\n",
       "      <th>Invalid</th>\n",
       "      <td>0.325506</td>\n",
       "      <td>0.575954</td>\n",
       "    </tr>\n",
       "    <tr>\n",
       "      <th>Provoked</th>\n",
       "      <td>12.741223</td>\n",
       "      <td>1.367891</td>\n",
       "    </tr>\n",
       "    <tr>\n",
       "      <th>Questionable</th>\n",
       "      <td>0.046501</td>\n",
       "      <td>0.000000</td>\n",
       "    </tr>\n",
       "    <tr>\n",
       "      <th>Sea Disaster</th>\n",
       "      <td>1.534527</td>\n",
       "      <td>12.095032</td>\n",
       "    </tr>\n",
       "    <tr>\n",
       "      <th>Unprovoked</th>\n",
       "      <td>77.935364</td>\n",
       "      <td>85.169186</td>\n",
       "    </tr>\n",
       "  </tbody>\n",
       "</table>\n",
       "</div>"
      ],
      "text/plain": [
       "fatal_(y/n)           N          Y\n",
       "type                              \n",
       "Boating        7.416880   0.791937\n",
       "Invalid        0.325506   0.575954\n",
       "Provoked      12.741223   1.367891\n",
       "Questionable   0.046501   0.000000\n",
       "Sea Disaster   1.534527  12.095032\n",
       "Unprovoked    77.935364  85.169186"
      ]
     },
     "metadata": {},
     "output_type": "display_data"
    },
    {
     "data": {
      "text/html": [
       "<div>\n",
       "<style scoped>\n",
       "    .dataframe tbody tr th:only-of-type {\n",
       "        vertical-align: middle;\n",
       "    }\n",
       "\n",
       "    .dataframe tbody tr th {\n",
       "        vertical-align: top;\n",
       "    }\n",
       "\n",
       "    .dataframe thead th {\n",
       "        text-align: right;\n",
       "    }\n",
       "</style>\n",
       "<table border=\"1\" class=\"dataframe\">\n",
       "  <thead>\n",
       "    <tr style=\"text-align: right;\">\n",
       "      <th>fatal_(y/n)</th>\n",
       "      <th>N</th>\n",
       "      <th>Y</th>\n",
       "    </tr>\n",
       "    <tr>\n",
       "      <th>country</th>\n",
       "      <th></th>\n",
       "      <th></th>\n",
       "    </tr>\n",
       "  </thead>\n",
       "  <tbody>\n",
       "    <tr>\n",
       "      <th>Africa</th>\n",
       "      <td>12.159963</td>\n",
       "      <td>16.270698</td>\n",
       "    </tr>\n",
       "    <tr>\n",
       "      <th>Asia</th>\n",
       "      <td>3.743316</td>\n",
       "      <td>12.455004</td>\n",
       "    </tr>\n",
       "    <tr>\n",
       "      <th>Australia</th>\n",
       "      <td>21.413625</td>\n",
       "      <td>20.374370</td>\n",
       "    </tr>\n",
       "    <tr>\n",
       "      <th>Europe</th>\n",
       "      <td>3.348059</td>\n",
       "      <td>5.399568</td>\n",
       "    </tr>\n",
       "    <tr>\n",
       "      <th>North America</th>\n",
       "      <td>48.407347</td>\n",
       "      <td>26.565875</td>\n",
       "    </tr>\n",
       "    <tr>\n",
       "      <th>Oceania</th>\n",
       "      <td>8.230644</td>\n",
       "      <td>14.038877</td>\n",
       "    </tr>\n",
       "    <tr>\n",
       "      <th>South America</th>\n",
       "      <td>2.394792</td>\n",
       "      <td>4.175666</td>\n",
       "    </tr>\n",
       "    <tr>\n",
       "      <th>Unknown</th>\n",
       "      <td>0.302255</td>\n",
       "      <td>0.719942</td>\n",
       "    </tr>\n",
       "  </tbody>\n",
       "</table>\n",
       "</div>"
      ],
      "text/plain": [
       "fatal_(y/n)            N          Y\n",
       "country                            \n",
       "Africa         12.159963  16.270698\n",
       "Asia            3.743316  12.455004\n",
       "Australia      21.413625  20.374370\n",
       "Europe          3.348059   5.399568\n",
       "North America  48.407347  26.565875\n",
       "Oceania         8.230644  14.038877\n",
       "South America   2.394792   4.175666\n",
       "Unknown         0.302255   0.719942"
      ]
     },
     "metadata": {},
     "output_type": "display_data"
    },
    {
     "data": {
      "text/html": [
       "<div>\n",
       "<style scoped>\n",
       "    .dataframe tbody tr th:only-of-type {\n",
       "        vertical-align: middle;\n",
       "    }\n",
       "\n",
       "    .dataframe tbody tr th {\n",
       "        vertical-align: top;\n",
       "    }\n",
       "\n",
       "    .dataframe thead th {\n",
       "        text-align: right;\n",
       "    }\n",
       "</style>\n",
       "<table border=\"1\" class=\"dataframe\">\n",
       "  <thead>\n",
       "    <tr style=\"text-align: right;\">\n",
       "      <th>fatal_(y/n)</th>\n",
       "      <th>N</th>\n",
       "      <th>Y</th>\n",
       "    </tr>\n",
       "    <tr>\n",
       "      <th>activity</th>\n",
       "      <th></th>\n",
       "      <th></th>\n",
       "    </tr>\n",
       "  </thead>\n",
       "  <tbody>\n",
       "    <tr>\n",
       "      <th>Accidents</th>\n",
       "      <td>0.139502</td>\n",
       "      <td>3.095752</td>\n",
       "    </tr>\n",
       "    <tr>\n",
       "      <th>Land Activities</th>\n",
       "      <td>0.511509</td>\n",
       "      <td>0.143988</td>\n",
       "    </tr>\n",
       "    <tr>\n",
       "      <th>Other</th>\n",
       "      <td>17.135550</td>\n",
       "      <td>29.373650</td>\n",
       "    </tr>\n",
       "    <tr>\n",
       "      <th>Stationary</th>\n",
       "      <td>2.394792</td>\n",
       "      <td>1.583873</td>\n",
       "    </tr>\n",
       "    <tr>\n",
       "      <th>Water Activities</th>\n",
       "      <td>33.806092</td>\n",
       "      <td>18.718503</td>\n",
       "    </tr>\n",
       "    <tr>\n",
       "      <th>Water Sports</th>\n",
       "      <td>46.012555</td>\n",
       "      <td>47.084233</td>\n",
       "    </tr>\n",
       "  </tbody>\n",
       "</table>\n",
       "</div>"
      ],
      "text/plain": [
       "fatal_(y/n)               N          Y\n",
       "activity                              \n",
       "Accidents          0.139502   3.095752\n",
       "Land Activities    0.511509   0.143988\n",
       "Other             17.135550  29.373650\n",
       "Stationary         2.394792   1.583873\n",
       "Water Activities  33.806092  18.718503\n",
       "Water Sports      46.012555  47.084233"
      ]
     },
     "metadata": {},
     "output_type": "display_data"
    },
    {
     "data": {
      "text/html": [
       "<div>\n",
       "<style scoped>\n",
       "    .dataframe tbody tr th:only-of-type {\n",
       "        vertical-align: middle;\n",
       "    }\n",
       "\n",
       "    .dataframe tbody tr th {\n",
       "        vertical-align: top;\n",
       "    }\n",
       "\n",
       "    .dataframe thead th {\n",
       "        text-align: right;\n",
       "    }\n",
       "</style>\n",
       "<table border=\"1\" class=\"dataframe\">\n",
       "  <thead>\n",
       "    <tr style=\"text-align: right;\">\n",
       "      <th>fatal_(y/n)</th>\n",
       "      <th>N</th>\n",
       "      <th>Y</th>\n",
       "    </tr>\n",
       "    <tr>\n",
       "      <th>sex</th>\n",
       "      <th></th>\n",
       "      <th></th>\n",
       "    </tr>\n",
       "  </thead>\n",
       "  <tbody>\n",
       "    <tr>\n",
       "      <th>F</th>\n",
       "      <td>10.88119</td>\n",
       "      <td>7.703384</td>\n",
       "    </tr>\n",
       "    <tr>\n",
       "      <th>M</th>\n",
       "      <td>89.11881</td>\n",
       "      <td>92.296616</td>\n",
       "    </tr>\n",
       "  </tbody>\n",
       "</table>\n",
       "</div>"
      ],
      "text/plain": [
       "fatal_(y/n)         N          Y\n",
       "sex                             \n",
       "F            10.88119   7.703384\n",
       "M            89.11881  92.296616"
      ]
     },
     "metadata": {},
     "output_type": "display_data"
    },
    {
     "data": {
      "text/html": [
       "<div>\n",
       "<style scoped>\n",
       "    .dataframe tbody tr th:only-of-type {\n",
       "        vertical-align: middle;\n",
       "    }\n",
       "\n",
       "    .dataframe tbody tr th {\n",
       "        vertical-align: top;\n",
       "    }\n",
       "\n",
       "    .dataframe thead th {\n",
       "        text-align: right;\n",
       "    }\n",
       "</style>\n",
       "<table border=\"1\" class=\"dataframe\">\n",
       "  <thead>\n",
       "    <tr style=\"text-align: right;\">\n",
       "      <th>fatal_(y/n)</th>\n",
       "      <th>N</th>\n",
       "      <th>Y</th>\n",
       "    </tr>\n",
       "    <tr>\n",
       "      <th>injury</th>\n",
       "      <th></th>\n",
       "      <th></th>\n",
       "    </tr>\n",
       "  </thead>\n",
       "  <tbody>\n",
       "    <tr>\n",
       "      <th>Fatal</th>\n",
       "      <td>0.023491</td>\n",
       "      <td>93.088553</td>\n",
       "    </tr>\n",
       "    <tr>\n",
       "      <th>Lower extremity injury</th>\n",
       "      <td>16.208598</td>\n",
       "      <td>0.000000</td>\n",
       "    </tr>\n",
       "    <tr>\n",
       "      <th>Minor injuries</th>\n",
       "      <td>0.775194</td>\n",
       "      <td>0.000000</td>\n",
       "    </tr>\n",
       "    <tr>\n",
       "      <th>No injury</th>\n",
       "      <td>15.762274</td>\n",
       "      <td>0.071994</td>\n",
       "    </tr>\n",
       "    <tr>\n",
       "      <th>Other</th>\n",
       "      <td>61.475217</td>\n",
       "      <td>6.767459</td>\n",
       "    </tr>\n",
       "    <tr>\n",
       "      <th>Survived</th>\n",
       "      <td>2.325581</td>\n",
       "      <td>0.071994</td>\n",
       "    </tr>\n",
       "    <tr>\n",
       "      <th>Upper extremity injury</th>\n",
       "      <td>3.429645</td>\n",
       "      <td>0.000000</td>\n",
       "    </tr>\n",
       "  </tbody>\n",
       "</table>\n",
       "</div>"
      ],
      "text/plain": [
       "fatal_(y/n)                     N          Y\n",
       "injury                                      \n",
       "Fatal                    0.023491  93.088553\n",
       "Lower extremity injury  16.208598   0.000000\n",
       "Minor injuries           0.775194   0.000000\n",
       "No injury               15.762274   0.071994\n",
       "Other                   61.475217   6.767459\n",
       "Survived                 2.325581   0.071994\n",
       "Upper extremity injury   3.429645   0.000000"
      ]
     },
     "metadata": {},
     "output_type": "display_data"
    },
    {
     "data": {
      "text/html": [
       "<div>\n",
       "<style scoped>\n",
       "    .dataframe tbody tr th:only-of-type {\n",
       "        vertical-align: middle;\n",
       "    }\n",
       "\n",
       "    .dataframe tbody tr th {\n",
       "        vertical-align: top;\n",
       "    }\n",
       "\n",
       "    .dataframe thead th {\n",
       "        text-align: right;\n",
       "    }\n",
       "</style>\n",
       "<table border=\"1\" class=\"dataframe\">\n",
       "  <thead>\n",
       "    <tr style=\"text-align: right;\">\n",
       "      <th>fatal_(y/n)</th>\n",
       "      <th>N</th>\n",
       "      <th>Y</th>\n",
       "    </tr>\n",
       "    <tr>\n",
       "      <th>fatal_(y/n)</th>\n",
       "      <th></th>\n",
       "      <th></th>\n",
       "    </tr>\n",
       "  </thead>\n",
       "  <tbody>\n",
       "    <tr>\n",
       "      <th>N</th>\n",
       "      <td>100.0</td>\n",
       "      <td>0.0</td>\n",
       "    </tr>\n",
       "    <tr>\n",
       "      <th>Y</th>\n",
       "      <td>0.0</td>\n",
       "      <td>100.0</td>\n",
       "    </tr>\n",
       "  </tbody>\n",
       "</table>\n",
       "</div>"
      ],
      "text/plain": [
       "fatal_(y/n)      N      Y\n",
       "fatal_(y/n)              \n",
       "N            100.0    0.0\n",
       "Y              0.0  100.0"
      ]
     },
     "metadata": {},
     "output_type": "display_data"
    },
    {
     "data": {
      "text/html": [
       "<div>\n",
       "<style scoped>\n",
       "    .dataframe tbody tr th:only-of-type {\n",
       "        vertical-align: middle;\n",
       "    }\n",
       "\n",
       "    .dataframe tbody tr th {\n",
       "        vertical-align: top;\n",
       "    }\n",
       "\n",
       "    .dataframe thead th {\n",
       "        text-align: right;\n",
       "    }\n",
       "</style>\n",
       "<table border=\"1\" class=\"dataframe\">\n",
       "  <thead>\n",
       "    <tr style=\"text-align: right;\">\n",
       "      <th>fatal_(y/n)</th>\n",
       "      <th>N</th>\n",
       "      <th>Y</th>\n",
       "    </tr>\n",
       "    <tr>\n",
       "      <th>new_species</th>\n",
       "      <th></th>\n",
       "      <th></th>\n",
       "    </tr>\n",
       "  </thead>\n",
       "  <tbody>\n",
       "    <tr>\n",
       "      <th>Common Shark Species</th>\n",
       "      <td>24.226924</td>\n",
       "      <td>14.470842</td>\n",
       "    </tr>\n",
       "    <tr>\n",
       "      <th>Large Sharks</th>\n",
       "      <td>4.440828</td>\n",
       "      <td>3.095752</td>\n",
       "    </tr>\n",
       "    <tr>\n",
       "      <th>Other</th>\n",
       "      <td>20.995117</td>\n",
       "      <td>11.447084</td>\n",
       "    </tr>\n",
       "    <tr>\n",
       "      <th>Shark involvement not confirmed</th>\n",
       "      <td>1.813532</td>\n",
       "      <td>1.295896</td>\n",
       "    </tr>\n",
       "    <tr>\n",
       "      <th>Small Sharks</th>\n",
       "      <td>6.696117</td>\n",
       "      <td>0.431965</td>\n",
       "    </tr>\n",
       "    <tr>\n",
       "      <th>Unknown shark</th>\n",
       "      <td>41.827482</td>\n",
       "      <td>69.258459</td>\n",
       "    </tr>\n",
       "  </tbody>\n",
       "</table>\n",
       "</div>"
      ],
      "text/plain": [
       "fatal_(y/n)                              N          Y\n",
       "new_species                                          \n",
       "Common Shark Species             24.226924  14.470842\n",
       "Large Sharks                      4.440828   3.095752\n",
       "Other                            20.995117  11.447084\n",
       "Shark involvement not confirmed   1.813532   1.295896\n",
       "Small Sharks                      6.696117   0.431965\n",
       "Unknown shark                    41.827482  69.258459"
      ]
     },
     "metadata": {},
     "output_type": "display_data"
    },
    {
     "data": {
      "text/html": [
       "<div>\n",
       "<style scoped>\n",
       "    .dataframe tbody tr th:only-of-type {\n",
       "        vertical-align: middle;\n",
       "    }\n",
       "\n",
       "    .dataframe tbody tr th {\n",
       "        vertical-align: top;\n",
       "    }\n",
       "\n",
       "    .dataframe thead th {\n",
       "        text-align: right;\n",
       "    }\n",
       "</style>\n",
       "<table border=\"1\" class=\"dataframe\">\n",
       "  <thead>\n",
       "    <tr style=\"text-align: right;\">\n",
       "      <th>fatal_(y/n)</th>\n",
       "      <th>N</th>\n",
       "      <th>Y</th>\n",
       "    </tr>\n",
       "    <tr>\n",
       "      <th>new_time</th>\n",
       "      <th></th>\n",
       "      <th></th>\n",
       "    </tr>\n",
       "  </thead>\n",
       "  <tbody>\n",
       "    <tr>\n",
       "      <th>Afternoon</th>\n",
       "      <td>28.737503</td>\n",
       "      <td>18.502520</td>\n",
       "    </tr>\n",
       "    <tr>\n",
       "      <th>Evening</th>\n",
       "      <td>5.370844</td>\n",
       "      <td>3.383729</td>\n",
       "    </tr>\n",
       "    <tr>\n",
       "      <th>Morning</th>\n",
       "      <td>17.461056</td>\n",
       "      <td>11.519078</td>\n",
       "    </tr>\n",
       "    <tr>\n",
       "      <th>Night</th>\n",
       "      <td>0.767263</td>\n",
       "      <td>1.367891</td>\n",
       "    </tr>\n",
       "    <tr>\n",
       "      <th>Unknown</th>\n",
       "      <td>47.663334</td>\n",
       "      <td>65.226782</td>\n",
       "    </tr>\n",
       "  </tbody>\n",
       "</table>\n",
       "</div>"
      ],
      "text/plain": [
       "fatal_(y/n)          N          Y\n",
       "new_time                         \n",
       "Afternoon    28.737503  18.502520\n",
       "Evening       5.370844   3.383729\n",
       "Morning      17.461056  11.519078\n",
       "Night         0.767263   1.367891\n",
       "Unknown      47.663334  65.226782"
      ]
     },
     "metadata": {},
     "output_type": "display_data"
    }
   ],
   "source": [
    "for col in df.select_dtypes('object'):\n",
    "    \n",
    "    # Create a contingency table\n",
    "    contingency_table = pd.crosstab(df[col], df['fatal_(y/n)'])\n",
    "\n",
    "    # Convert the values to percentages\n",
    "    row_sums = contingency_table.sum(axis=1)\n",
    "    col_sums = contingency_table.sum(axis=0)\n",
    "    \n",
    "    contingency_table[\"N\"] = contingency_table[\"N\"] / contingency_table[\"N\"].sum() * 100\n",
    "    contingency_table[\"Y\"] = contingency_table[\"Y\"] / contingency_table[\"Y\"].sum() * 100\n",
    "\n",
    "    # Print the contingency table in percentage\n",
    "    display(contingency_table)"
   ]
  },
  {
   "cell_type": "code",
   "execution_count": 205,
   "id": "bb488f8b",
   "metadata": {},
   "outputs": [
    {
     "data": {
      "text/plain": [
       "<Axes: xlabel='fatal_(y/n)', ylabel='standardized_age'>"
      ]
     },
     "execution_count": 205,
     "metadata": {},
     "output_type": "execute_result"
    },
    {
     "data": {
      "image/png": "[encoded data removed]",
      "text/plain": [
       "<Figure size 640x480 with 1 Axes>"
      ]
     },
     "metadata": {},
     "output_type": "display_data"
    }
   ],
   "source": [
    "sns.barplot(data=df, x=\"fatal_(y/n)\", y=\"standardized_age\")"
   ]
  },
  {
   "cell_type": "code",
   "execution_count": 206,
   "id": "2f0eaa31",
   "metadata": {},
   "outputs": [
    {
     "data": {
      "text/plain": [
       "<Axes: xlabel='fatal_(y/n)', ylabel='year'>"
      ]
     },
     "execution_count": 206,
     "metadata": {},
     "output_type": "execute_result"
    },
    {
     "data": {
      "image/png": "[encoded data removed]",
      "text/plain": [
       "<Figure size 640x480 with 1 Axes>"
      ]
     },
     "metadata": {},
     "output_type": "display_data"
    }
   ],
   "source": [
    "sns.barplot(data=df, x=\"fatal_(y/n)\", y=\"year\")"
   ]
  },
  {
   "cell_type": "code",
   "execution_count": 207,
   "id": "441b2a49",
   "metadata": {},
   "outputs": [
    {
     "data": {
      "image/png": "[encoded data removed]",
      "text/plain": [
       "<Figure size 1000x800 with 2 Axes>"
      ]
     },
     "metadata": {},
     "output_type": "display_data"
    }
   ],
   "source": [
    "corr_matrix=df.corr(method='pearson', numeric_only=True)  # default\n",
    "fig, ax = plt.subplots(figsize=(10, 8))\n",
    "ax = sns.heatmap(corr_matrix, annot=True)\n",
    "plt.show()"
   ]
  },
  {
   "cell_type": "code",
   "execution_count": 208,
   "id": "4bb96cce",
   "metadata": {},
   "outputs": [
    {
     "name": "stderr",
     "output_type": "stream",
     "text": [
      "C:\\Users\\Tetiana\\anaconda3\\Lib\\site-packages\\seaborn\\axisgrid.py:118: UserWarning: The figure layout has changed to tight\n",
      "  self._figure.tight_layout(*args, **kwargs)\n"
     ]
    },
    {
     "data": {
      "image/png": "[encoded data removed]",
      "text/plain": [
       "<Figure size 500x500 with 1 Axes>"
      ]
     },
     "metadata": {},
     "output_type": "display_data"
    },
    {
     "ename": "TypeError",
     "evalue": "reduction operation 'argmin' not allowed for this dtype",
     "output_type": "error",
     "traceback": [
      "\u001b[1;31m---------------------------------------------------------------------------\u001b[0m",
      "\u001b[1;31mTypeError\u001b[0m                                 Traceback (most recent call last)",
      "Cell \u001b[1;32mIn[208], line 2\u001b[0m\n\u001b[0;32m      1\u001b[0m \u001b[38;5;28;01mfor\u001b[39;00m col \u001b[38;5;129;01min\u001b[39;00m df\u001b[38;5;241m.\u001b[39mselect_dtypes(np\u001b[38;5;241m.\u001b[39mnumber):\n\u001b[1;32m----> 2\u001b[0m     sns\u001b[38;5;241m.\u001b[39mdisplot(df[col])\n\u001b[0;32m      3\u001b[0m     plt\u001b[38;5;241m.\u001b[39mshow()\n",
      "File \u001b[1;32m~\\anaconda3\\Lib\\site-packages\\seaborn\\distributions.py:2210\u001b[0m, in \u001b[0;36mdisplot\u001b[1;34m(data, x, y, hue, row, col, weights, kind, rug, rug_kws, log_scale, legend, palette, hue_order, hue_norm, color, col_wrap, row_order, col_order, height, aspect, facet_kws, **kwargs)\u001b[0m\n\u001b[0;32m   2207\u001b[0m \u001b[38;5;28;01mif\u001b[39;00m p\u001b[38;5;241m.\u001b[39munivariate:\n\u001b[0;32m   2209\u001b[0m     _assign_default_kwargs(hist_kws, p\u001b[38;5;241m.\u001b[39mplot_univariate_histogram, histplot)\n\u001b[1;32m-> 2210\u001b[0m     p\u001b[38;5;241m.\u001b[39mplot_univariate_histogram(\u001b[38;5;241m*\u001b[39m\u001b[38;5;241m*\u001b[39mhist_kws)\n\u001b[0;32m   2212\u001b[0m \u001b[38;5;28;01melse\u001b[39;00m:\n\u001b[0;32m   2214\u001b[0m     _assign_default_kwargs(hist_kws, p\u001b[38;5;241m.\u001b[39mplot_bivariate_histogram, histplot)\n",
      "File \u001b[1;32m~\\anaconda3\\Lib\\site-packages\\seaborn\\distributions.py:673\u001b[0m, in \u001b[0;36m_DistributionPlotter.plot_univariate_histogram\u001b[1;34m(self, multiple, element, fill, common_norm, common_bins, shrink, kde, kde_kws, color, legend, line_kws, estimate_kws, **plot_kws)\u001b[0m\n\u001b[0;32m    664\u001b[0m \u001b[38;5;28;01mif\u001b[39;00m element \u001b[38;5;241m==\u001b[39m \u001b[38;5;124m\"\u001b[39m\u001b[38;5;124mbars\u001b[39m\u001b[38;5;124m\"\u001b[39m \u001b[38;5;129;01mand\u001b[39;00m \u001b[38;5;124m\"\u001b[39m\u001b[38;5;124mlinewidth\u001b[39m\u001b[38;5;124m\"\u001b[39m \u001b[38;5;129;01mnot\u001b[39;00m \u001b[38;5;129;01min\u001b[39;00m plot_kws:\n\u001b[0;32m    665\u001b[0m \n\u001b[0;32m    666\u001b[0m     \u001b[38;5;66;03m# Now we handle linewidth, which depends on the scaling of the plot\u001b[39;00m\n\u001b[0;32m    667\u001b[0m \n\u001b[0;32m    668\u001b[0m     \u001b[38;5;66;03m# We will base everything on the minimum bin width\u001b[39;00m\n\u001b[0;32m    669\u001b[0m     hist_metadata \u001b[38;5;241m=\u001b[39m pd\u001b[38;5;241m.\u001b[39mconcat([\n\u001b[0;32m    670\u001b[0m         \u001b[38;5;66;03m# Use .items for generality over dict or df\u001b[39;00m\n\u001b[0;32m    671\u001b[0m         h\u001b[38;5;241m.\u001b[39mindex\u001b[38;5;241m.\u001b[39mto_frame() \u001b[38;5;28;01mfor\u001b[39;00m _, h \u001b[38;5;129;01min\u001b[39;00m histograms\u001b[38;5;241m.\u001b[39mitems()\n\u001b[0;32m    672\u001b[0m     ])\u001b[38;5;241m.\u001b[39mreset_index(drop\u001b[38;5;241m=\u001b[39m\u001b[38;5;28;01mTrue\u001b[39;00m)\n\u001b[1;32m--> 673\u001b[0m     thin_bar_idx \u001b[38;5;241m=\u001b[39m hist_metadata[\u001b[38;5;124m\"\u001b[39m\u001b[38;5;124mwidths\u001b[39m\u001b[38;5;124m\"\u001b[39m]\u001b[38;5;241m.\u001b[39midxmin()\n\u001b[0;32m    674\u001b[0m     binwidth \u001b[38;5;241m=\u001b[39m hist_metadata\u001b[38;5;241m.\u001b[39mloc[thin_bar_idx, \u001b[38;5;124m\"\u001b[39m\u001b[38;5;124mwidths\u001b[39m\u001b[38;5;124m\"\u001b[39m]\n\u001b[0;32m    675\u001b[0m     left_edge \u001b[38;5;241m=\u001b[39m hist_metadata\u001b[38;5;241m.\u001b[39mloc[thin_bar_idx, \u001b[38;5;124m\"\u001b[39m\u001b[38;5;124medges\u001b[39m\u001b[38;5;124m\"\u001b[39m]\n",
      "File \u001b[1;32m~\\anaconda3\\Lib\\site-packages\\pandas\\core\\series.py:2460\u001b[0m, in \u001b[0;36mSeries.idxmin\u001b[1;34m(self, axis, skipna, *args, **kwargs)\u001b[0m\n\u001b[0;32m   2396\u001b[0m \u001b[38;5;250m\u001b[39m\u001b[38;5;124;03m\"\"\"\u001b[39;00m\n\u001b[0;32m   2397\u001b[0m \u001b[38;5;124;03mReturn the row label of the minimum value.\u001b[39;00m\n\u001b[0;32m   2398\u001b[0m \n\u001b[1;32m   (...)\u001b[0m\n\u001b[0;32m   2456\u001b[0m \u001b[38;5;124;03mnan\u001b[39;00m\n\u001b[0;32m   2457\u001b[0m \u001b[38;5;124;03m\"\"\"\u001b[39;00m\n\u001b[0;32m   2458\u001b[0m \u001b[38;5;66;03m# error: Argument 1 to \"argmin\" of \"IndexOpsMixin\" has incompatible type \"Union\u001b[39;00m\n\u001b[0;32m   2459\u001b[0m \u001b[38;5;66;03m# [int, Literal['index', 'columns']]\"; expected \"Optional[int]\"\u001b[39;00m\n\u001b[1;32m-> 2460\u001b[0m i \u001b[38;5;241m=\u001b[39m \u001b[38;5;28mself\u001b[39m\u001b[38;5;241m.\u001b[39margmin(axis, skipna, \u001b[38;5;241m*\u001b[39margs, \u001b[38;5;241m*\u001b[39m\u001b[38;5;241m*\u001b[39mkwargs)  \u001b[38;5;66;03m# type: ignore[arg-type]\u001b[39;00m\n\u001b[0;32m   2461\u001b[0m \u001b[38;5;28;01mif\u001b[39;00m i \u001b[38;5;241m==\u001b[39m \u001b[38;5;241m-\u001b[39m\u001b[38;5;241m1\u001b[39m:\n\u001b[0;32m   2462\u001b[0m     \u001b[38;5;28;01mreturn\u001b[39;00m np\u001b[38;5;241m.\u001b[39mnan\n",
      "File \u001b[1;32m~\\anaconda3\\Lib\\site-packages\\pandas\\core\\base.py:742\u001b[0m, in \u001b[0;36mIndexOpsMixin.argmin\u001b[1;34m(self, axis, skipna, *args, **kwargs)\u001b[0m\n\u001b[0;32m    738\u001b[0m         \u001b[38;5;28;01mreturn\u001b[39;00m delegate\u001b[38;5;241m.\u001b[39margmin()\n\u001b[0;32m    739\u001b[0m \u001b[38;5;28;01melse\u001b[39;00m:\n\u001b[0;32m    740\u001b[0m     \u001b[38;5;66;03m# error: Incompatible return value type (got \"Union[int, ndarray]\", expected\u001b[39;00m\n\u001b[0;32m    741\u001b[0m     \u001b[38;5;66;03m# \"int\")\u001b[39;00m\n\u001b[1;32m--> 742\u001b[0m     \u001b[38;5;28;01mreturn\u001b[39;00m nanops\u001b[38;5;241m.\u001b[39mnanargmin(  \u001b[38;5;66;03m# type: ignore[return-value]\u001b[39;00m\n\u001b[0;32m    743\u001b[0m         delegate, skipna\u001b[38;5;241m=\u001b[39mskipna\n\u001b[0;32m    744\u001b[0m     )\n",
      "File \u001b[1;32m~\\anaconda3\\Lib\\site-packages\\pandas\\core\\nanops.py:91\u001b[0m, in \u001b[0;36mdisallow.__call__.<locals>._f\u001b[1;34m(*args, **kwargs)\u001b[0m\n\u001b[0;32m     89\u001b[0m \u001b[38;5;28;01mif\u001b[39;00m \u001b[38;5;28many\u001b[39m(\u001b[38;5;28mself\u001b[39m\u001b[38;5;241m.\u001b[39mcheck(obj) \u001b[38;5;28;01mfor\u001b[39;00m obj \u001b[38;5;129;01min\u001b[39;00m obj_iter):\n\u001b[0;32m     90\u001b[0m     f_name \u001b[38;5;241m=\u001b[39m f\u001b[38;5;241m.\u001b[39m\u001b[38;5;18m__name__\u001b[39m\u001b[38;5;241m.\u001b[39mreplace(\u001b[38;5;124m\"\u001b[39m\u001b[38;5;124mnan\u001b[39m\u001b[38;5;124m\"\u001b[39m, \u001b[38;5;124m\"\u001b[39m\u001b[38;5;124m\"\u001b[39m)\n\u001b[1;32m---> 91\u001b[0m     \u001b[38;5;28;01mraise\u001b[39;00m \u001b[38;5;167;01mTypeError\u001b[39;00m(\n\u001b[0;32m     92\u001b[0m         \u001b[38;5;124mf\u001b[39m\u001b[38;5;124m\"\u001b[39m\u001b[38;5;124mreduction operation \u001b[39m\u001b[38;5;124m'\u001b[39m\u001b[38;5;132;01m{\u001b[39;00mf_name\u001b[38;5;132;01m}\u001b[39;00m\u001b[38;5;124m'\u001b[39m\u001b[38;5;124m not allowed for this dtype\u001b[39m\u001b[38;5;124m\"\u001b[39m\n\u001b[0;32m     93\u001b[0m     )\n\u001b[0;32m     94\u001b[0m \u001b[38;5;28;01mtry\u001b[39;00m:\n\u001b[0;32m     95\u001b[0m     \u001b[38;5;28;01mwith\u001b[39;00m np\u001b[38;5;241m.\u001b[39merrstate(invalid\u001b[38;5;241m=\u001b[39m\u001b[38;5;124m\"\u001b[39m\u001b[38;5;124mignore\u001b[39m\u001b[38;5;124m\"\u001b[39m):\n",
      "\u001b[1;31mTypeError\u001b[0m: reduction operation 'argmin' not allowed for this dtype"
     ]
    },
    {
     "data": {
      "image/png": "[encoded data removed]",
      "text/plain": [
       "<Figure size 500x500 with 1 Axes>"
      ]
     },
     "metadata": {},
     "output_type": "display_data"
    }
   ],
   "source": [
    "for col in df.select_dtypes(np.number):\n",
    "    sns.displot(df[col])\n",
    "    plt.show()"
   ]
  },
  {
   "cell_type": "markdown",
   "id": "89455d51",
   "metadata": {},
   "source": [
    "Data Processing"
   ]
  },
  {
   "cell_type": "code",
   "execution_count": 209,
   "id": "e7554880",
   "metadata": {},
   "outputs": [],
   "source": [
    "y = df['fatal_(y/n)']\n",
    "X = df.drop('fatal_(y/n)', axis=1)"
   ]
  },
  {
   "cell_type": "code",
   "execution_count": 210,
   "id": "be61c745",
   "metadata": {},
   "outputs": [
    {
     "data": {
      "text/plain": [
       "Index(['year', 'type', 'country', 'activity', 'sex', 'injury', 'fatal_(y/n)',\n",
       "       'new_species', 'standardized_age', 'new_time'],\n",
       "      dtype='object')"
      ]
     },
     "execution_count": 210,
     "metadata": {},
     "output_type": "execute_result"
    }
   ],
   "source": [
    "df.columns"
   ]
  },
  {
   "cell_type": "code",
   "execution_count": 211,
   "id": "b09ed91f",
   "metadata": {
    "scrolled": true
   },
   "outputs": [
    {
     "data": {
      "text/html": [
       "<div>\n",
       "<style scoped>\n",
       "    .dataframe tbody tr th:only-of-type {\n",
       "        vertical-align: middle;\n",
       "    }\n",
       "\n",
       "    .dataframe tbody tr th {\n",
       "        vertical-align: top;\n",
       "    }\n",
       "\n",
       "    .dataframe thead th {\n",
       "        text-align: right;\n",
       "    }\n",
       "</style>\n",
       "<table border=\"1\" class=\"dataframe\">\n",
       "  <thead>\n",
       "    <tr style=\"text-align: right;\">\n",
       "      <th></th>\n",
       "      <th>year</th>\n",
       "      <th>standardized_age</th>\n",
       "      <th>type_Boating</th>\n",
       "      <th>type_Invalid</th>\n",
       "      <th>type_Provoked</th>\n",
       "      <th>type_Questionable</th>\n",
       "      <th>type_Sea Disaster</th>\n",
       "      <th>type_Unprovoked</th>\n",
       "      <th>country_Africa</th>\n",
       "      <th>country_Asia</th>\n",
       "      <th>...</th>\n",
       "      <th>activity_Water Sports</th>\n",
       "      <th>injury_Fatal</th>\n",
       "      <th>injury_Lower extremity injury</th>\n",
       "      <th>injury_Minor injuries</th>\n",
       "      <th>injury_No injury</th>\n",
       "      <th>injury_Other</th>\n",
       "      <th>injury_Survived</th>\n",
       "      <th>injury_Upper extremity injury</th>\n",
       "      <th>sex_F</th>\n",
       "      <th>sex_M</th>\n",
       "    </tr>\n",
       "  </thead>\n",
       "  <tbody>\n",
       "    <tr>\n",
       "      <th>0</th>\n",
       "      <td>2018.0</td>\n",
       "      <td>57</td>\n",
       "      <td>True</td>\n",
       "      <td>False</td>\n",
       "      <td>False</td>\n",
       "      <td>False</td>\n",
       "      <td>False</td>\n",
       "      <td>False</td>\n",
       "      <td>False</td>\n",
       "      <td>False</td>\n",
       "      <td>...</td>\n",
       "      <td>False</td>\n",
       "      <td>False</td>\n",
       "      <td>False</td>\n",
       "      <td>False</td>\n",
       "      <td>True</td>\n",
       "      <td>False</td>\n",
       "      <td>False</td>\n",
       "      <td>False</td>\n",
       "      <td>True</td>\n",
       "      <td>False</td>\n",
       "    </tr>\n",
       "    <tr>\n",
       "      <th>1</th>\n",
       "      <td>2018.0</td>\n",
       "      <td>11</td>\n",
       "      <td>False</td>\n",
       "      <td>False</td>\n",
       "      <td>False</td>\n",
       "      <td>False</td>\n",
       "      <td>False</td>\n",
       "      <td>True</td>\n",
       "      <td>False</td>\n",
       "      <td>False</td>\n",
       "      <td>...</td>\n",
       "      <td>False</td>\n",
       "      <td>False</td>\n",
       "      <td>False</td>\n",
       "      <td>False</td>\n",
       "      <td>False</td>\n",
       "      <td>True</td>\n",
       "      <td>False</td>\n",
       "      <td>False</td>\n",
       "      <td>True</td>\n",
       "      <td>False</td>\n",
       "    </tr>\n",
       "    <tr>\n",
       "      <th>2</th>\n",
       "      <td>2018.0</td>\n",
       "      <td>48</td>\n",
       "      <td>False</td>\n",
       "      <td>True</td>\n",
       "      <td>False</td>\n",
       "      <td>False</td>\n",
       "      <td>False</td>\n",
       "      <td>False</td>\n",
       "      <td>False</td>\n",
       "      <td>False</td>\n",
       "      <td>...</td>\n",
       "      <td>True</td>\n",
       "      <td>False</td>\n",
       "      <td>False</td>\n",
       "      <td>False</td>\n",
       "      <td>False</td>\n",
       "      <td>True</td>\n",
       "      <td>False</td>\n",
       "      <td>False</td>\n",
       "      <td>False</td>\n",
       "      <td>True</td>\n",
       "    </tr>\n",
       "    <tr>\n",
       "      <th>3</th>\n",
       "      <td>2018.0</td>\n",
       "      <td>24</td>\n",
       "      <td>False</td>\n",
       "      <td>False</td>\n",
       "      <td>False</td>\n",
       "      <td>False</td>\n",
       "      <td>False</td>\n",
       "      <td>True</td>\n",
       "      <td>False</td>\n",
       "      <td>False</td>\n",
       "      <td>...</td>\n",
       "      <td>True</td>\n",
       "      <td>False</td>\n",
       "      <td>False</td>\n",
       "      <td>False</td>\n",
       "      <td>False</td>\n",
       "      <td>True</td>\n",
       "      <td>False</td>\n",
       "      <td>False</td>\n",
       "      <td>False</td>\n",
       "      <td>True</td>\n",
       "    </tr>\n",
       "    <tr>\n",
       "      <th>4</th>\n",
       "      <td>2018.0</td>\n",
       "      <td>24</td>\n",
       "      <td>False</td>\n",
       "      <td>False</td>\n",
       "      <td>True</td>\n",
       "      <td>False</td>\n",
       "      <td>False</td>\n",
       "      <td>False</td>\n",
       "      <td>False</td>\n",
       "      <td>False</td>\n",
       "      <td>...</td>\n",
       "      <td>False</td>\n",
       "      <td>False</td>\n",
       "      <td>False</td>\n",
       "      <td>False</td>\n",
       "      <td>False</td>\n",
       "      <td>True</td>\n",
       "      <td>False</td>\n",
       "      <td>False</td>\n",
       "      <td>False</td>\n",
       "      <td>True</td>\n",
       "    </tr>\n",
       "    <tr>\n",
       "      <th>...</th>\n",
       "      <td>...</td>\n",
       "      <td>...</td>\n",
       "      <td>...</td>\n",
       "      <td>...</td>\n",
       "      <td>...</td>\n",
       "      <td>...</td>\n",
       "      <td>...</td>\n",
       "      <td>...</td>\n",
       "      <td>...</td>\n",
       "      <td>...</td>\n",
       "      <td>...</td>\n",
       "      <td>...</td>\n",
       "      <td>...</td>\n",
       "      <td>...</td>\n",
       "      <td>...</td>\n",
       "      <td>...</td>\n",
       "      <td>...</td>\n",
       "      <td>...</td>\n",
       "      <td>...</td>\n",
       "      <td>...</td>\n",
       "      <td>...</td>\n",
       "    </tr>\n",
       "    <tr>\n",
       "      <th>6297</th>\n",
       "      <td>1977.0</td>\n",
       "      <td>24</td>\n",
       "      <td>False</td>\n",
       "      <td>False</td>\n",
       "      <td>False</td>\n",
       "      <td>False</td>\n",
       "      <td>False</td>\n",
       "      <td>True</td>\n",
       "      <td>False</td>\n",
       "      <td>False</td>\n",
       "      <td>...</td>\n",
       "      <td>False</td>\n",
       "      <td>True</td>\n",
       "      <td>False</td>\n",
       "      <td>False</td>\n",
       "      <td>False</td>\n",
       "      <td>False</td>\n",
       "      <td>False</td>\n",
       "      <td>False</td>\n",
       "      <td>False</td>\n",
       "      <td>True</td>\n",
       "    </tr>\n",
       "    <tr>\n",
       "      <th>6298</th>\n",
       "      <td>1977.0</td>\n",
       "      <td>24</td>\n",
       "      <td>False</td>\n",
       "      <td>False</td>\n",
       "      <td>False</td>\n",
       "      <td>False</td>\n",
       "      <td>False</td>\n",
       "      <td>True</td>\n",
       "      <td>False</td>\n",
       "      <td>False</td>\n",
       "      <td>...</td>\n",
       "      <td>False</td>\n",
       "      <td>True</td>\n",
       "      <td>False</td>\n",
       "      <td>False</td>\n",
       "      <td>False</td>\n",
       "      <td>False</td>\n",
       "      <td>False</td>\n",
       "      <td>False</td>\n",
       "      <td>False</td>\n",
       "      <td>True</td>\n",
       "    </tr>\n",
       "    <tr>\n",
       "      <th>6299</th>\n",
       "      <td>1977.0</td>\n",
       "      <td>24</td>\n",
       "      <td>False</td>\n",
       "      <td>False</td>\n",
       "      <td>False</td>\n",
       "      <td>False</td>\n",
       "      <td>False</td>\n",
       "      <td>True</td>\n",
       "      <td>False</td>\n",
       "      <td>False</td>\n",
       "      <td>...</td>\n",
       "      <td>True</td>\n",
       "      <td>True</td>\n",
       "      <td>False</td>\n",
       "      <td>False</td>\n",
       "      <td>False</td>\n",
       "      <td>False</td>\n",
       "      <td>False</td>\n",
       "      <td>False</td>\n",
       "      <td>False</td>\n",
       "      <td>True</td>\n",
       "    </tr>\n",
       "    <tr>\n",
       "      <th>6300</th>\n",
       "      <td>1977.0</td>\n",
       "      <td>24</td>\n",
       "      <td>False</td>\n",
       "      <td>False</td>\n",
       "      <td>False</td>\n",
       "      <td>False</td>\n",
       "      <td>False</td>\n",
       "      <td>True</td>\n",
       "      <td>False</td>\n",
       "      <td>False</td>\n",
       "      <td>...</td>\n",
       "      <td>True</td>\n",
       "      <td>True</td>\n",
       "      <td>False</td>\n",
       "      <td>False</td>\n",
       "      <td>False</td>\n",
       "      <td>False</td>\n",
       "      <td>False</td>\n",
       "      <td>False</td>\n",
       "      <td>False</td>\n",
       "      <td>True</td>\n",
       "    </tr>\n",
       "    <tr>\n",
       "      <th>6301</th>\n",
       "      <td>1977.0</td>\n",
       "      <td>15</td>\n",
       "      <td>False</td>\n",
       "      <td>False</td>\n",
       "      <td>False</td>\n",
       "      <td>False</td>\n",
       "      <td>False</td>\n",
       "      <td>True</td>\n",
       "      <td>False</td>\n",
       "      <td>True</td>\n",
       "      <td>...</td>\n",
       "      <td>True</td>\n",
       "      <td>True</td>\n",
       "      <td>False</td>\n",
       "      <td>False</td>\n",
       "      <td>False</td>\n",
       "      <td>False</td>\n",
       "      <td>False</td>\n",
       "      <td>False</td>\n",
       "      <td>False</td>\n",
       "      <td>True</td>\n",
       "    </tr>\n",
       "  </tbody>\n",
       "</table>\n",
       "<p>5690 rows × 42 columns</p>\n",
       "</div>"
      ],
      "text/plain": [
       "        year  standardized_age  type_Boating  type_Invalid  type_Provoked  \\\n",
       "0     2018.0                57          True         False          False   \n",
       "1     2018.0                11         False         False          False   \n",
       "2     2018.0                48         False          True          False   \n",
       "3     2018.0                24         False         False          False   \n",
       "4     2018.0                24         False         False           True   \n",
       "...      ...               ...           ...           ...            ...   \n",
       "6297  1977.0                24         False         False          False   \n",
       "6298  1977.0                24         False         False          False   \n",
       "6299  1977.0                24         False         False          False   \n",
       "6300  1977.0                24         False         False          False   \n",
       "6301  1977.0                15         False         False          False   \n",
       "\n",
       "      type_Questionable  type_Sea Disaster  type_Unprovoked  country_Africa  \\\n",
       "0                 False              False            False           False   \n",
       "1                 False              False             True           False   \n",
       "2                 False              False            False           False   \n",
       "3                 False              False             True           False   \n",
       "4                 False              False            False           False   \n",
       "...                 ...                ...              ...             ...   \n",
       "6297              False              False             True           False   \n",
       "6298              False              False             True           False   \n",
       "6299              False              False             True           False   \n",
       "6300              False              False             True           False   \n",
       "6301              False              False             True           False   \n",
       "\n",
       "      country_Asia  ...  activity_Water Sports  injury_Fatal  \\\n",
       "0            False  ...                  False         False   \n",
       "1            False  ...                  False         False   \n",
       "2            False  ...                   True         False   \n",
       "3            False  ...                   True         False   \n",
       "4            False  ...                  False         False   \n",
       "...            ...  ...                    ...           ...   \n",
       "6297         False  ...                  False          True   \n",
       "6298         False  ...                  False          True   \n",
       "6299         False  ...                   True          True   \n",
       "6300         False  ...                   True          True   \n",
       "6301          True  ...                   True          True   \n",
       "\n",
       "      injury_Lower extremity injury  injury_Minor injuries  injury_No injury  \\\n",
       "0                             False                  False              True   \n",
       "1                             False                  False             False   \n",
       "2                             False                  False             False   \n",
       "3                             False                  False             False   \n",
       "4                             False                  False             False   \n",
       "...                             ...                    ...               ...   \n",
       "6297                          False                  False             False   \n",
       "6298                          False                  False             False   \n",
       "6299                          False                  False             False   \n",
       "6300                          False                  False             False   \n",
       "6301                          False                  False             False   \n",
       "\n",
       "      injury_Other  injury_Survived  injury_Upper extremity injury  sex_F  \\\n",
       "0            False            False                          False   True   \n",
       "1             True            False                          False   True   \n",
       "2             True            False                          False  False   \n",
       "3             True            False                          False  False   \n",
       "4             True            False                          False  False   \n",
       "...            ...              ...                            ...    ...   \n",
       "6297         False            False                          False  False   \n",
       "6298         False            False                          False  False   \n",
       "6299         False            False                          False  False   \n",
       "6300         False            False                          False  False   \n",
       "6301         False            False                          False  False   \n",
       "\n",
       "      sex_M  \n",
       "0     False  \n",
       "1     False  \n",
       "2      True  \n",
       "3      True  \n",
       "4      True  \n",
       "...     ...  \n",
       "6297   True  \n",
       "6298   True  \n",
       "6299   True  \n",
       "6300   True  \n",
       "6301   True  \n",
       "\n",
       "[5690 rows x 42 columns]"
      ]
     },
     "execution_count": 211,
     "metadata": {},
     "output_type": "execute_result"
    }
   ],
   "source": [
    "X= pd.get_dummies(X, columns=['type','country','new_time','new_species', 'activity', 'injury', 'sex'])\n",
    "X"
   ]
  },
  {
   "cell_type": "code",
   "execution_count": 212,
   "id": "5cdbd7f8",
   "metadata": {},
   "outputs": [
    {
     "data": {
      "text/plain": [
       "fatal_(y/n)_Y                                 -1.000000\n",
       "injury_Fatal                                  -0.953735\n",
       "new_species_Unknown shark                     -0.235768\n",
       "type_Sea Disaster                             -0.228442\n",
       "country_Asia                                  -0.159201\n",
       "new_time_Unknown                              -0.151006\n",
       "activity_Accidents                            -0.137436\n",
       "activity_Other                                -0.131123\n",
       "country_Oceania                               -0.084503\n",
       "type_Unprovoked                               -0.077255\n",
       "country_Africa                                -0.052228\n",
       "country_South America                         -0.046135\n",
       "country_Europe                                -0.045809\n",
       "sex_M                                         -0.045290\n",
       "country_Unknown                               -0.028278\n",
       "new_time_Night                                -0.027113\n",
       "type_Invalid                                  -0.017335\n",
       "activity_Water Sports                         -0.009233\n",
       "type_Questionable                              0.010656\n",
       "country_Australia                              0.010930\n",
       "new_species_Shark involvement not confirmed    0.017265\n",
       "activity_Stationary                            0.023764\n",
       "activity_Land Activities                       0.024360\n",
       "standardized_age                               0.025932\n",
       "new_species_Large Sharks                       0.029096\n",
       "new_time_Evening                               0.039597\n",
       "injury_Minor injuries                          0.043404\n",
       "sex_F                                          0.045290\n",
       "new_time_Morning                               0.069605\n",
       "injury_Survived                                0.072895\n",
       "injury_Upper extremity injury                  0.092221\n",
       "new_time_Afternoon                             0.099936\n",
       "new_species_Common Shark Species               0.101424\n",
       "new_species_Other                              0.105267\n",
       "new_species_Small Sharks                       0.121559\n",
       "type_Boating                                   0.121753\n",
       "activity_Water Activities                      0.141263\n",
       "type_Provoked                                  0.163106\n",
       "country_North America                          0.189470\n",
       "injury_No injury                               0.206695\n",
       "injury_Lower extremity injury                  0.211109\n",
       "year                                           0.275637\n",
       "injury_Other                                   0.465118\n",
       "fatal_(y/n)_N                                  1.000000\n",
       "Name: fatal_(y/n)_N, dtype: float64"
      ]
     },
     "execution_count": 212,
     "metadata": {},
     "output_type": "execute_result"
    }
   ],
   "source": [
    "pd.get_dummies(df).corr()[\"fatal_(y/n)_N\"].sort_values()"
   ]
  },
  {
   "cell_type": "code",
   "execution_count": 213,
   "id": "a06dc0e1",
   "metadata": {},
   "outputs": [
    {
     "data": {
      "text/plain": [
       "fatal_(y/n)_N                                 -1.000000\n",
       "injury_Other                                  -0.465118\n",
       "year                                          -0.275637\n",
       "injury_Lower extremity injury                 -0.211109\n",
       "injury_No injury                              -0.206695\n",
       "country_North America                         -0.189470\n",
       "type_Provoked                                 -0.163106\n",
       "activity_Water Activities                     -0.141263\n",
       "type_Boating                                  -0.121753\n",
       "new_species_Small Sharks                      -0.121559\n",
       "new_species_Other                             -0.105267\n",
       "new_species_Common Shark Species              -0.101424\n",
       "new_time_Afternoon                            -0.099936\n",
       "injury_Upper extremity injury                 -0.092221\n",
       "injury_Survived                               -0.072895\n",
       "new_time_Morning                              -0.069605\n",
       "sex_F                                         -0.045290\n",
       "injury_Minor injuries                         -0.043404\n",
       "new_time_Evening                              -0.039597\n",
       "new_species_Large Sharks                      -0.029096\n",
       "standardized_age                              -0.025932\n",
       "activity_Land Activities                      -0.024360\n",
       "activity_Stationary                           -0.023764\n",
       "new_species_Shark involvement not confirmed   -0.017265\n",
       "country_Australia                             -0.010930\n",
       "type_Questionable                             -0.010656\n",
       "activity_Water Sports                          0.009233\n",
       "type_Invalid                                   0.017335\n",
       "new_time_Night                                 0.027113\n",
       "country_Unknown                                0.028278\n",
       "sex_M                                          0.045290\n",
       "country_Europe                                 0.045809\n",
       "country_South America                          0.046135\n",
       "country_Africa                                 0.052228\n",
       "type_Unprovoked                                0.077255\n",
       "country_Oceania                                0.084503\n",
       "activity_Other                                 0.131123\n",
       "activity_Accidents                             0.137436\n",
       "new_time_Unknown                               0.151006\n",
       "country_Asia                                   0.159201\n",
       "type_Sea Disaster                              0.228442\n",
       "new_species_Unknown shark                      0.235768\n",
       "injury_Fatal                                   0.953735\n",
       "fatal_(y/n)_Y                                  1.000000\n",
       "Name: fatal_(y/n)_Y, dtype: float64"
      ]
     },
     "execution_count": 213,
     "metadata": {},
     "output_type": "execute_result"
    }
   ],
   "source": [
    "pd.get_dummies(df).corr()[\"fatal_(y/n)_Y\"].sort_values()"
   ]
  },
  {
   "cell_type": "code",
   "execution_count": 215,
   "id": "5ffcc0b7",
   "metadata": {},
   "outputs": [],
   "source": [
    "X_train, X_test, y_train, y_test = train_test_split(X, y, test_size=0.2, random_state=42)"
   ]
  },
  {
   "cell_type": "code",
   "execution_count": 216,
   "id": "812d665b",
   "metadata": {},
   "outputs": [
    {
     "name": "stderr",
     "output_type": "stream",
     "text": [
      "C:\\Users\\Tetiana\\anaconda3\\Lib\\site-packages\\sklearn\\linear_model\\_logistic.py:458: ConvergenceWarning: lbfgs failed to converge (status=1):\n",
      "STOP: TOTAL NO. of ITERATIONS REACHED LIMIT.\n",
      "\n",
      "Increase the number of iterations (max_iter) or scale the data as shown in:\n",
      "    https://scikit-learn.org/stable/modules/preprocessing.html\n",
      "Please also refer to the documentation for alternative solver options:\n",
      "    https://scikit-learn.org/stable/modules/linear_model.html#logistic-regression\n",
      "  n_iter_i = _check_optimize_result(\n"
     ]
    },
    {
     "data": {
      "text/html": [
       "<style>#sk-container-id-1 {color: black;background-color: white;}#sk-container-id-1 pre{padding: 0;}#sk-container-id-1 div.sk-toggleable {background-color: white;}#sk-container-id-1 label.sk-toggleable__label {cursor: pointer;display: block;width: 100%;margin-bottom: 0;padding: 0.3em;box-sizing: border-box;text-align: center;}#sk-container-id-1 label.sk-toggleable__label-arrow:before {content: \"▸\";float: left;margin-right: 0.25em;color: #696969;}#sk-container-id-1 label.sk-toggleable__label-arrow:hover:before {color: black;}#sk-container-id-1 div.sk-estimator:hover label.sk-toggleable__label-arrow:before {color: black;}#sk-container-id-1 div.sk-toggleable__content {max-height: 0;max-width: 0;overflow: hidden;text-align: left;background-color: #f0f8ff;}#sk-container-id-1 div.sk-toggleable__content pre {margin: 0.2em;color: black;border-radius: 0.25em;background-color: #f0f8ff;}#sk-container-id-1 input.sk-toggleable__control:checked~div.sk-toggleable__content {max-height: 200px;max-width: 100%;overflow: auto;}#sk-container-id-1 input.sk-toggleable__control:checked~label.sk-toggleable__label-arrow:before {content: \"▾\";}#sk-container-id-1 div.sk-estimator input.sk-toggleable__control:checked~label.sk-toggleable__label {background-color: #d4ebff;}#sk-container-id-1 div.sk-label input.sk-toggleable__control:checked~label.sk-toggleable__label {background-color: #d4ebff;}#sk-container-id-1 input.sk-hidden--visually {border: 0;clip: rect(1px 1px 1px 1px);clip: rect(1px, 1px, 1px, 1px);height: 1px;margin: -1px;overflow: hidden;padding: 0;position: absolute;width: 1px;}#sk-container-id-1 div.sk-estimator {font-family: monospace;background-color: #f0f8ff;border: 1px dotted black;border-radius: 0.25em;box-sizing: border-box;margin-bottom: 0.5em;}#sk-container-id-1 div.sk-estimator:hover {background-color: #d4ebff;}#sk-container-id-1 div.sk-parallel-item::after {content: \"\";width: 100%;border-bottom: 1px solid gray;flex-grow: 1;}#sk-container-id-1 div.sk-label:hover label.sk-toggleable__label {background-color: #d4ebff;}#sk-container-id-1 div.sk-serial::before {content: \"\";position: absolute;border-left: 1px solid gray;box-sizing: border-box;top: 0;bottom: 0;left: 50%;z-index: 0;}#sk-container-id-1 div.sk-serial {display: flex;flex-direction: column;align-items: center;background-color: white;padding-right: 0.2em;padding-left: 0.2em;position: relative;}#sk-container-id-1 div.sk-item {position: relative;z-index: 1;}#sk-container-id-1 div.sk-parallel {display: flex;align-items: stretch;justify-content: center;background-color: white;position: relative;}#sk-container-id-1 div.sk-item::before, #sk-container-id-1 div.sk-parallel-item::before {content: \"\";position: absolute;border-left: 1px solid gray;box-sizing: border-box;top: 0;bottom: 0;left: 50%;z-index: -1;}#sk-container-id-1 div.sk-parallel-item {display: flex;flex-direction: column;z-index: 1;position: relative;background-color: white;}#sk-container-id-1 div.sk-parallel-item:first-child::after {align-self: flex-end;width: 50%;}#sk-container-id-1 div.sk-parallel-item:last-child::after {align-self: flex-start;width: 50%;}#sk-container-id-1 div.sk-parallel-item:only-child::after {width: 0;}#sk-container-id-1 div.sk-dashed-wrapped {border: 1px dashed gray;margin: 0 0.4em 0.5em 0.4em;box-sizing: border-box;padding-bottom: 0.4em;background-color: white;}#sk-container-id-1 div.sk-label label {font-family: monospace;font-weight: bold;display: inline-block;line-height: 1.2em;}#sk-container-id-1 div.sk-label-container {text-align: center;}#sk-container-id-1 div.sk-container {/* jupyter's `normalize.less` sets `[hidden] { display: none; }` but bootstrap.min.css set `[hidden] { display: none !important; }` so we also need the `!important` here to be able to override the default hidden behavior on the sphinx rendered scikit-learn.org. See: https://github.com/scikit-learn/scikit-learn/issues/21755 */display: inline-block !important;position: relative;}#sk-container-id-1 div.sk-text-repr-fallback {display: none;}</style><div id=\"sk-container-id-1\" class=\"sk-top-container\"><div class=\"sk-text-repr-fallback\"><pre>LogisticRegression(random_state=42)</pre><b>In a Jupyter environment, please rerun this cell to show the HTML representation or trust the notebook. <br />On GitHub, the HTML representation is unable to render, please try loading this page with nbviewer.org.</b></div><div class=\"sk-container\" hidden><div class=\"sk-item\"><div class=\"sk-estimator sk-toggleable\"><input class=\"sk-toggleable__control sk-hidden--visually\" id=\"sk-estimator-id-1\" type=\"checkbox\" checked><label for=\"sk-estimator-id-1\" class=\"sk-toggleable__label sk-toggleable__label-arrow\">LogisticRegression</label><div class=\"sk-toggleable__content\"><pre>LogisticRegression(random_state=42)</pre></div></div></div></div></div>"
      ],
      "text/plain": [
       "LogisticRegression(random_state=42)"
      ]
     },
     "execution_count": 216,
     "metadata": {},
     "output_type": "execute_result"
    }
   ],
   "source": [
    "classification = LogisticRegression(random_state=42) #, max_iter=1000\n",
    "\n",
    "classification.fit(X_train, y_train)"
   ]
  },
  {
   "cell_type": "code",
   "execution_count": 217,
   "id": "16452337",
   "metadata": {},
   "outputs": [
    {
     "data": {
      "text/plain": [
       "0.9885764499121266"
      ]
     },
     "execution_count": 217,
     "metadata": {},
     "output_type": "execute_result"
    }
   ],
   "source": [
    "classification.score(X_test, y_test)"
   ]
  },
  {
   "cell_type": "code",
   "execution_count": 218,
   "id": "f2bfb65e",
   "metadata": {},
   "outputs": [
    {
     "data": {
      "text/plain": [
       "array(['Y', 'Y', 'N', ..., 'N', 'N', 'N'], dtype=object)"
      ]
     },
     "execution_count": 218,
     "metadata": {},
     "output_type": "execute_result"
    }
   ],
   "source": [
    "predictions = classification.predict(X_test)\n",
    "predictions"
   ]
  },
  {
   "cell_type": "code",
   "execution_count": 219,
   "id": "e52191ef",
   "metadata": {},
   "outputs": [
    {
     "name": "stdout",
     "output_type": "stream",
     "text": [
      "fatal_(y/n)\n",
      "N    859\n",
      "Y    279\n",
      "Name: count, dtype: int64\n"
     ]
    }
   ],
   "source": [
    "y_test_series = pd.Series(y_test)\n",
    "value_counts = y_test_series.value_counts()\n",
    "\n",
    "print(value_counts)"
   ]
  },
  {
   "cell_type": "code",
   "execution_count": 220,
   "id": "ea4ff5bf",
   "metadata": {},
   "outputs": [
    {
     "data": {
      "text/plain": [
       "array([[7.28134579e-02, 9.27186542e-01],\n",
       "       [6.04442933e-03, 9.93955571e-01],\n",
       "       [9.98784657e-01, 1.21534322e-03],\n",
       "       ...,\n",
       "       [9.95073954e-01, 4.92604604e-03],\n",
       "       [9.88941809e-01, 1.10581906e-02],\n",
       "       [9.99286213e-01, 7.13786528e-04]])"
      ]
     },
     "execution_count": 220,
     "metadata": {},
     "output_type": "execute_result"
    }
   ],
   "source": [
    "predictions_ = classification.predict_proba(X_test)\n",
    "predictions_"
   ]
  },
  {
   "cell_type": "code",
   "execution_count": 221,
   "id": "06470adb",
   "metadata": {},
   "outputs": [
    {
     "data": {
      "text/plain": [
       "array([[852,   7],\n",
       "       [  6, 273]], dtype=int64)"
      ]
     },
     "execution_count": 221,
     "metadata": {},
     "output_type": "execute_result"
    }
   ],
   "source": [
    "confusion_matrix(y_test, predictions)"
   ]
  },
  {
   "cell_type": "code",
   "execution_count": 222,
   "id": "443082d2",
   "metadata": {},
   "outputs": [
    {
     "data": {
      "text/plain": [
       "<Axes: >"
      ]
     },
     "execution_count": 222,
     "metadata": {},
     "output_type": "execute_result"
    },
    {
     "data": {
      "image/png": "[encoded data removed]",
      "text/plain": [
       "<Figure size 640x480 with 2 Axes>"
      ]
     },
     "metadata": {},
     "output_type": "display_data"
    }
   ],
   "source": [
    "cf_matrix = confusion_matrix(y_test, predictions, normalize='all')\n",
    "sns.heatmap(cf_matrix, annot=True, xticklabels=[\"N\", \"Y\"], yticklabels=[\"N\", \"Y\"])"
   ]
  },
  {
   "cell_type": "code",
   "execution_count": 223,
   "id": "c843397c",
   "metadata": {},
   "outputs": [
    {
     "name": "stdout",
     "output_type": "stream",
     "text": [
      "Requirement already satisfied: imblearn in c:\\users\\tetiana\\anaconda3\\lib\\site-packages (0.0)\n",
      "Requirement already satisfied: imbalanced-learn in c:\\users\\tetiana\\anaconda3\\lib\\site-packages (from imblearn) (0.10.1)\n",
      "Requirement already satisfied: numpy>=1.17.3 in c:\\users\\tetiana\\anaconda3\\lib\\site-packages (from imbalanced-learn->imblearn) (1.24.3)\n",
      "Requirement already satisfied: scipy>=1.3.2 in c:\\users\\tetiana\\anaconda3\\lib\\site-packages (from imbalanced-learn->imblearn) (1.11.1)\n",
      "Requirement already satisfied: scikit-learn>=1.0.2 in c:\\users\\tetiana\\anaconda3\\lib\\site-packages (from imbalanced-learn->imblearn) (1.2.2)\n",
      "Requirement already satisfied: joblib>=1.1.1 in c:\\users\\tetiana\\anaconda3\\lib\\site-packages (from imbalanced-learn->imblearn) (1.2.0)\n",
      "Requirement already satisfied: threadpoolctl>=2.0.0 in c:\\users\\tetiana\\anaconda3\\lib\\site-packages (from imbalanced-learn->imblearn) (2.2.0)\n"
     ]
    }
   ],
   "source": [
    "!pip install imblearn"
   ]
  },
  {
   "cell_type": "code",
   "execution_count": null,
   "id": "58734940",
   "metadata": {},
   "outputs": [
    {
     "name": "stdout",
     "output_type": "stream",
     "text": [
      "Found existing installation: scikit-learn 1.2.2\n",
      "Uninstalling scikit-learn-1.2.2:\n",
      "  Successfully uninstalled scikit-learn-1.2.2\n"
     ]
    },
    {
     "name": "stderr",
     "output_type": "stream",
     "text": [
      "ERROR: Exception:\n",
      "Traceback (most recent call last):\n",
      "  File \"C:\\Users\\Tetiana\\anaconda3\\Lib\\site-packages\\pip\\_internal\\cli\\base_command.py\", line 180, in exc_logging_wrapper\n",
      "    status = run_func(*args)\n",
      "             ^^^^^^^^^^^^^^^\n",
      "  File \"C:\\Users\\Tetiana\\anaconda3\\Lib\\site-packages\\pip\\_internal\\commands\\uninstall.py\", line 110, in run\n",
      "    uninstall_pathset.commit()\n",
      "  File \"C:\\Users\\Tetiana\\anaconda3\\Lib\\site-packages\\pip\\_internal\\req\\req_uninstall.py\", line 432, in commit\n",
      "    self._moved_paths.commit()\n",
      "  File \"C:\\Users\\Tetiana\\anaconda3\\Lib\\site-packages\\pip\\_internal\\req\\req_uninstall.py\", line 278, in commit\n",
      "    save_dir.cleanup()\n",
      "  File \"C:\\Users\\Tetiana\\anaconda3\\Lib\\site-packages\\pip\\_internal\\utils\\temp_dir.py\", line 173, in cleanup\n",
      "    rmtree(self._path)\n",
      "  File \"C:\\Users\\Tetiana\\anaconda3\\Lib\\site-packages\\pip\\_vendor\\tenacity\\__init__.py\", line 291, in wrapped_f\n",
      "    return self(f, *args, **kw)\n",
      "           ^^^^^^^^^^^^^^^^^^^^\n",
      "  File \"C:\\Users\\Tetiana\\anaconda3\\Lib\\site-packages\\pip\\_vendor\\tenacity\\__init__.py\", line 381, in __call__\n",
      "    do = self.iter(retry_state=retry_state)\n",
      "         ^^^^^^^^^^^^^^^^^^^^^^^^^^^^^^^^^^\n",
      "  File \"C:\\Users\\Tetiana\\anaconda3\\Lib\\site-packages\\pip\\_vendor\\tenacity\\__init__.py\", line 327, in iter\n",
      "    raise retry_exc.reraise()\n",
      "          ^^^^^^^^^^^^^^^^^^^\n",
      "  File \"C:\\Users\\Tetiana\\anaconda3\\Lib\\site-packages\\pip\\_vendor\\tenacity\\__init__.py\", line 160, in reraise\n",
      "    raise self.last_attempt.result()\n",
      "          ^^^^^^^^^^^^^^^^^^^^^^^^^^\n",
      "  File \"C:\\Users\\Tetiana\\anaconda3\\Lib\\concurrent\\futures\\_base.py\", line 449, in result\n",
      "    return self.__get_result()\n",
      "           ^^^^^^^^^^^^^^^^^^^\n",
      "  File \"C:\\Users\\Tetiana\\anaconda3\\Lib\\concurrent\\futures\\_base.py\", line 401, in __get_result\n",
      "    raise self._exception\n",
      "  File \"C:\\Users\\Tetiana\\anaconda3\\Lib\\site-packages\\pip\\_vendor\\tenacity\\__init__.py\", line 384, in __call__\n",
      "    result = fn(*args, **kwargs)\n",
      "             ^^^^^^^^^^^^^^^^^^^\n",
      "  File \"C:\\Users\\Tetiana\\anaconda3\\Lib\\site-packages\\pip\\_internal\\utils\\misc.py\", line 130, in rmtree\n",
      "    shutil.rmtree(dir, ignore_errors=ignore_errors, onerror=rmtree_errorhandler)\n",
      "  File \"C:\\Users\\Tetiana\\anaconda3\\Lib\\shutil.py\", line 759, in rmtree\n",
      "    return _rmtree_unsafe(path, onerror)\n",
      "           ^^^^^^^^^^^^^^^^^^^^^^^^^^^^^\n",
      "  File \"C:\\Users\\Tetiana\\anaconda3\\Lib\\shutil.py\", line 617, in _rmtree_unsafe\n",
      "    _rmtree_unsafe(fullname, onerror)\n",
      "  File \"C:\\Users\\Tetiana\\anaconda3\\Lib\\shutil.py\", line 622, in _rmtree_unsafe\n",
      "    onerror(os.unlink, fullname, sys.exc_info())\n",
      "  File \"C:\\Users\\Tetiana\\anaconda3\\Lib\\shutil.py\", line 620, in _rmtree_unsafe\n",
      "    os.unlink(fullname)\n",
      "PermissionError: [WinError 5] Access is denied: 'C:\\\\Users\\\\Tetiana\\\\anaconda3\\\\Lib\\\\site-packages\\\\~klearn\\\\.libs\\\\msvcp140.dll'\n"
     ]
    },
    {
     "name": "stdout",
     "output_type": "stream",
     "text": [
      "Collecting scikit-learn==1.2.2\n",
      "  Using cached scikit_learn-1.2.2-cp311-cp311-win_amd64.whl (8.3 MB)\n",
      "Requirement already satisfied: numpy>=1.17.3 in c:\\users\\tetiana\\anaconda3\\lib\\site-packages (from scikit-learn==1.2.2) (1.24.3)\n",
      "Requirement already satisfied: scipy>=1.3.2 in c:\\users\\tetiana\\anaconda3\\lib\\site-packages (from scikit-learn==1.2.2) (1.11.1)\n",
      "Requirement already satisfied: joblib>=1.1.1 in c:\\users\\tetiana\\anaconda3\\lib\\site-packages (from scikit-learn==1.2.2) (1.2.0)\n",
      "Requirement already satisfied: threadpoolctl>=2.0.0 in c:\\users\\tetiana\\anaconda3\\lib\\site-packages (from scikit-learn==1.2.2) (2.2.0)\n",
      "Installing collected packages: scikit-learn\n",
      "Successfully installed scikit-learn-1.2.2\n"
     ]
    }
   ],
   "source": [
    "!pip uninstall scikit-learn --yes\n",
    "!pip install scikit-learn==1.2.2\n",
    "!pip uninstall imblearn\n",
    "!pip install imblearn\n",
    "\n"
   ]
  },
  {
   "cell_type": "code",
   "execution_count": 224,
   "id": "2cd4878d",
   "metadata": {},
   "outputs": [
    {
     "data": {
      "text/plain": [
       "fatal_(y/n)\n",
       "N    3442\n",
       "Y    3442\n",
       "Name: count, dtype: int64"
      ]
     },
     "execution_count": 224,
     "metadata": {},
     "output_type": "execute_result"
    }
   ],
   "source": [
    "from imblearn.over_sampling import RandomOverSampler # remember the DOCS: https://imbalanced-learn.org/stable/references/generated/imblearn.over_sampling.RandomOverSampler.html\n",
    "\n",
    "sampler = RandomOverSampler(random_state=42)\n",
    "\n",
    "# only sample the training data (you don't want to test on repeated or made up rows):\n",
    "X_train_balanced, y_train_balanced = sampler.fit_resample(X_train, y_train) \n",
    "\n",
    "y_train_balanced.value_counts()"
   ]
  },
  {
   "cell_type": "code",
   "execution_count": 225,
   "id": "d9b2e9e3",
   "metadata": {},
   "outputs": [
    {
     "name": "stderr",
     "output_type": "stream",
     "text": [
      "C:\\Users\\Tetiana\\anaconda3\\Lib\\site-packages\\sklearn\\linear_model\\_logistic.py:458: ConvergenceWarning: lbfgs failed to converge (status=1):\n",
      "STOP: TOTAL NO. of ITERATIONS REACHED LIMIT.\n",
      "\n",
      "Increase the number of iterations (max_iter) or scale the data as shown in:\n",
      "    https://scikit-learn.org/stable/modules/preprocessing.html\n",
      "Please also refer to the documentation for alternative solver options:\n",
      "    https://scikit-learn.org/stable/modules/linear_model.html#logistic-regression\n",
      "  n_iter_i = _check_optimize_result(\n"
     ]
    },
    {
     "data": {
      "text/plain": [
       "0.9850615114235501"
      ]
     },
     "execution_count": 225,
     "metadata": {},
     "output_type": "execute_result"
    }
   ],
   "source": [
    "classification = LogisticRegression(random_state=42) #, max_iter=1000\n",
    "classification.fit(X_train_balanced, y_train_balanced)\n",
    "classification.score(X_test, y_test)"
   ]
  },
  {
   "cell_type": "code",
   "execution_count": 226,
   "id": "f6933ee9",
   "metadata": {},
   "outputs": [
    {
     "data": {
      "text/plain": [
       "<Axes: >"
      ]
     },
     "execution_count": 226,
     "metadata": {},
     "output_type": "execute_result"
    },
    {
     "data": {
      "image/png": "[encoded data removed]",
      "text/plain": [
       "<Figure size 640x480 with 2 Axes>"
      ]
     },
     "metadata": {},
     "output_type": "display_data"
    }
   ],
   "source": [
    "predictions = classification.predict(X_test)\n",
    "cf_matrix = confusion_matrix(y_test, predictions, normalize='all')\n",
    "sns.heatmap(cf_matrix, annot=True, xticklabels=[\"Y\", \"N\"], yticklabels=[\"Y\", \"N\"])"
   ]
  }
 ],
 "metadata": {
  "kernelspec": {
   "display_name": "Python 3 (ipykernel)",
   "language": "python",
   "name": "python3"
  },
  "language_info": {
   "codemirror_mode": {
    "name": "ipython",
    "version": 3
   },
   "file_extension": ".py",
   "mimetype": "text/x-python",
   "name": "python",
   "nbconvert_exporter": "python",
   "pygments_lexer": "ipython3",
   "version": "3.11.5"
  }
 },
 "nbformat": 4,
 "nbformat_minor": 5
}
